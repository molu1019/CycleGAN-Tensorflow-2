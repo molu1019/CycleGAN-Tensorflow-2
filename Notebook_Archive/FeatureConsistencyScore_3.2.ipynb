{
 "cells": [
  {
   "cell_type": "markdown",
   "id": "a06cd1d4",
   "metadata": {},
   "source": [
    "## Notebook for calculating Mask Consistency Score for GAN-transformed images"
   ]
  },
  {
   "cell_type": "code",
   "execution_count": 1,
   "id": "900e2b4d",
   "metadata": {},
   "outputs": [],
   "source": [
    "from PIL import Image\n",
    "import cv2\n",
    "from matplotlib import pyplot as plt\n",
    "import tensorflow as tf\n",
    "import glob, os\n",
    "import numpy as np\n",
    "import sys\n",
    "import matplotlib.image as mpimg\n",
    "#from keras.preprocessing.image import img_to_array, array_to_img"
   ]
  },
  {
   "cell_type": "code",
   "execution_count": 89,
   "id": "8306f81b",
   "metadata": {},
   "outputs": [],
   "source": [
    "path_GAN = '/mnt/robolab/data/Bilddaten/GAN_train_data_sydavis-ai/Evaluation/ImageSize/Getriebeflansch/Batch1_joint_GF'\n",
    "path_Masks_1024 = '/mnt/robolab/data/Bilddaten/GAN_train_data_sydavis-ai/Evaluation/ImageSize/Getriebeflansch/SegmentationMasks_1024'\n",
    "batch_size = 1"
   ]
  },
  {
   "cell_type": "markdown",
   "id": "ebd58ed4",
   "metadata": {},
   "source": [
    "## 1. Resize GAN-transformed Dataset to 1024*1024"
   ]
  },
  {
   "cell_type": "markdown",
   "id": "d00c6def",
   "metadata": {},
   "source": [
    "#### 1.1 Specify Args: Directory, folder name and the new image size"
   ]
  },
  {
   "cell_type": "code",
   "execution_count": 3,
   "id": "bab0c67e",
   "metadata": {},
   "outputs": [],
   "source": [
    "dir = '/mnt/robolab/data/Bilddaten/GAN_train_data_sydavis-ai/Powertrain15_Entluefter/Results/Batch1_size512/samples_testing_Entluefter'"
   ]
  },
  {
   "cell_type": "markdown",
   "id": "9b400c36",
   "metadata": {},
   "source": [
    "#### 1.2 Create new Folder \"/A2B_FID_1024\" in Directory"
   ]
  },
  {
   "cell_type": "code",
   "execution_count": 4,
   "id": "520e04ef",
   "metadata": {},
   "outputs": [],
   "source": [
    "folder = 'A2B_FID'\n",
    "image_size = 1024\n",
    "old_folder = (os.path.join(dir, folder))\n",
    "new_folder = (os.path.join(dir, folder+'_'+str(image_size)))\n",
    "\n",
    "if not os.path.exists(new_folder):\n",
    "    try:\n",
    "        os.mkdir(new_folder)\n",
    "    except FileExistsError:\n",
    "        print('Folder already exists')\n",
    "        pass"
   ]
  },
  {
   "cell_type": "code",
   "execution_count": 5,
   "id": "76b37952",
   "metadata": {},
   "outputs": [
    {
     "name": "stdout",
     "output_type": "stream",
     "text": [
      "/mnt/robolab/data/Bilddaten/GAN_train_data_sydavis-ai/Powertrain15_Entluefter/Results/Batch1_size512/samples_testing_Entluefter/A2B_FID\n",
      "/mnt/robolab/data/Bilddaten/GAN_train_data_sydavis-ai/Powertrain15_Entluefter/Results/Batch1_size512/samples_testing_Entluefter/A2B_FID_1024\n"
     ]
    }
   ],
   "source": [
    "print(os.path.join(old_folder))\n",
    "print(os.path.join(dir, folder+'_'+str(image_size)))"
   ]
  },
  {
   "cell_type": "markdown",
   "id": "a1f9315f",
   "metadata": {},
   "source": [
    "#### 1.3 Function for upsampling images of 256-256 or 512-512 to images with size 1024-1024"
   ]
  },
  {
   "cell_type": "code",
   "execution_count": 6,
   "id": "4f61b062",
   "metadata": {},
   "outputs": [],
   "source": [
    "def resize_upsampling(old_folder, new_folder, size):\n",
    "    dim = (size, size)\n",
    "    for image in os.listdir(old_folder):\n",
    "        img = cv2.imread(os.path.join(old_folder, image))\n",
    "        # INTER_CUBIC or INTER_LANCZOS4\n",
    "        img_resized = cv2.resize(img, dim, interpolation = cv2.INTER_LANCZOS4)\n",
    "        print('Shape: '+str(img.shape)+' is now resized to: '+str(img_resized.shape))\n",
    "        cv2.imwrite(os.path.join(new_folder , image),img_resized)\n",
    "        \n",
    "def resize_downsampling(old_folder, new_folder, size):\n",
    "    dim = (size, size)\n",
    "    for image in os.listdir(old_folder):\n",
    "        img = cv2.imread(os.path.join(old_folder, image))\n",
    "        img_resized = cv2.resize(img, dim, interpolation = cv2.INTER_AREA)\n",
    "        print('Shape: '+str(img.shape)+' is now resized to: '+str(img_resized.shape))\n",
    "        cv2.imwrite(os.path.join(new_folder , image),img_resized)"
   ]
  },
  {
   "cell_type": "markdown",
   "id": "b1419ef7",
   "metadata": {},
   "source": [
    "#### 1.4 Run the aforementoined function"
   ]
  },
  {
   "cell_type": "code",
   "execution_count": 7,
   "id": "2034aa99",
   "metadata": {
    "scrolled": true
   },
   "outputs": [
    {
     "name": "stdout",
     "output_type": "stream",
     "text": [
      "Shape: (512, 512, 3) is now resized to: (1024, 1024, 3)\n",
      "Shape: (512, 512, 3) is now resized to: (1024, 1024, 3)\n",
      "Shape: (512, 512, 3) is now resized to: (1024, 1024, 3)\n",
      "Shape: (512, 512, 3) is now resized to: (1024, 1024, 3)\n",
      "Shape: (512, 512, 3) is now resized to: (1024, 1024, 3)\n",
      "Shape: (512, 512, 3) is now resized to: (1024, 1024, 3)\n",
      "Shape: (512, 512, 3) is now resized to: (1024, 1024, 3)\n",
      "Shape: (512, 512, 3) is now resized to: (1024, 1024, 3)\n",
      "Shape: (512, 512, 3) is now resized to: (1024, 1024, 3)\n",
      "Shape: (512, 512, 3) is now resized to: (1024, 1024, 3)\n",
      "Shape: (512, 512, 3) is now resized to: (1024, 1024, 3)\n",
      "Shape: (512, 512, 3) is now resized to: (1024, 1024, 3)\n",
      "Shape: (512, 512, 3) is now resized to: (1024, 1024, 3)\n",
      "Shape: (512, 512, 3) is now resized to: (1024, 1024, 3)\n",
      "Shape: (512, 512, 3) is now resized to: (1024, 1024, 3)\n",
      "Shape: (512, 512, 3) is now resized to: (1024, 1024, 3)\n",
      "Shape: (512, 512, 3) is now resized to: (1024, 1024, 3)\n",
      "Shape: (512, 512, 3) is now resized to: (1024, 1024, 3)\n",
      "Shape: (512, 512, 3) is now resized to: (1024, 1024, 3)\n",
      "Shape: (512, 512, 3) is now resized to: (1024, 1024, 3)\n",
      "Shape: (512, 512, 3) is now resized to: (1024, 1024, 3)\n",
      "Shape: (512, 512, 3) is now resized to: (1024, 1024, 3)\n",
      "Shape: (512, 512, 3) is now resized to: (1024, 1024, 3)\n",
      "Shape: (512, 512, 3) is now resized to: (1024, 1024, 3)\n",
      "Shape: (512, 512, 3) is now resized to: (1024, 1024, 3)\n",
      "Shape: (512, 512, 3) is now resized to: (1024, 1024, 3)\n",
      "Shape: (512, 512, 3) is now resized to: (1024, 1024, 3)\n",
      "Shape: (512, 512, 3) is now resized to: (1024, 1024, 3)\n",
      "Shape: (512, 512, 3) is now resized to: (1024, 1024, 3)\n",
      "Shape: (512, 512, 3) is now resized to: (1024, 1024, 3)\n",
      "Shape: (512, 512, 3) is now resized to: (1024, 1024, 3)\n",
      "Shape: (512, 512, 3) is now resized to: (1024, 1024, 3)\n",
      "Shape: (512, 512, 3) is now resized to: (1024, 1024, 3)\n",
      "Shape: (512, 512, 3) is now resized to: (1024, 1024, 3)\n",
      "Shape: (512, 512, 3) is now resized to: (1024, 1024, 3)\n",
      "Shape: (512, 512, 3) is now resized to: (1024, 1024, 3)\n",
      "Shape: (512, 512, 3) is now resized to: (1024, 1024, 3)\n",
      "Shape: (512, 512, 3) is now resized to: (1024, 1024, 3)\n",
      "Shape: (512, 512, 3) is now resized to: (1024, 1024, 3)\n",
      "Shape: (512, 512, 3) is now resized to: (1024, 1024, 3)\n",
      "Shape: (512, 512, 3) is now resized to: (1024, 1024, 3)\n",
      "Shape: (512, 512, 3) is now resized to: (1024, 1024, 3)\n",
      "Shape: (512, 512, 3) is now resized to: (1024, 1024, 3)\n",
      "Shape: (512, 512, 3) is now resized to: (1024, 1024, 3)\n",
      "Shape: (512, 512, 3) is now resized to: (1024, 1024, 3)\n",
      "Shape: (512, 512, 3) is now resized to: (1024, 1024, 3)\n",
      "Shape: (512, 512, 3) is now resized to: (1024, 1024, 3)\n",
      "Shape: (512, 512, 3) is now resized to: (1024, 1024, 3)\n",
      "Shape: (512, 512, 3) is now resized to: (1024, 1024, 3)\n",
      "Shape: (512, 512, 3) is now resized to: (1024, 1024, 3)\n",
      "Shape: (512, 512, 3) is now resized to: (1024, 1024, 3)\n",
      "Shape: (512, 512, 3) is now resized to: (1024, 1024, 3)\n",
      "Shape: (512, 512, 3) is now resized to: (1024, 1024, 3)\n",
      "Shape: (512, 512, 3) is now resized to: (1024, 1024, 3)\n",
      "Shape: (512, 512, 3) is now resized to: (1024, 1024, 3)\n",
      "Shape: (512, 512, 3) is now resized to: (1024, 1024, 3)\n",
      "Shape: (512, 512, 3) is now resized to: (1024, 1024, 3)\n",
      "Shape: (512, 512, 3) is now resized to: (1024, 1024, 3)\n",
      "Shape: (512, 512, 3) is now resized to: (1024, 1024, 3)\n",
      "Shape: (512, 512, 3) is now resized to: (1024, 1024, 3)\n",
      "Shape: (512, 512, 3) is now resized to: (1024, 1024, 3)\n",
      "Shape: (512, 512, 3) is now resized to: (1024, 1024, 3)\n",
      "Shape: (512, 512, 3) is now resized to: (1024, 1024, 3)\n",
      "Shape: (512, 512, 3) is now resized to: (1024, 1024, 3)\n",
      "Shape: (512, 512, 3) is now resized to: (1024, 1024, 3)\n",
      "Shape: (512, 512, 3) is now resized to: (1024, 1024, 3)\n",
      "Shape: (512, 512, 3) is now resized to: (1024, 1024, 3)\n",
      "Shape: (512, 512, 3) is now resized to: (1024, 1024, 3)\n",
      "Shape: (512, 512, 3) is now resized to: (1024, 1024, 3)\n",
      "Shape: (512, 512, 3) is now resized to: (1024, 1024, 3)\n",
      "Shape: (512, 512, 3) is now resized to: (1024, 1024, 3)\n",
      "Shape: (512, 512, 3) is now resized to: (1024, 1024, 3)\n",
      "Shape: (512, 512, 3) is now resized to: (1024, 1024, 3)\n",
      "Shape: (512, 512, 3) is now resized to: (1024, 1024, 3)\n",
      "Shape: (512, 512, 3) is now resized to: (1024, 1024, 3)\n",
      "Shape: (512, 512, 3) is now resized to: (1024, 1024, 3)\n",
      "Shape: (512, 512, 3) is now resized to: (1024, 1024, 3)\n",
      "Shape: (512, 512, 3) is now resized to: (1024, 1024, 3)\n",
      "Shape: (512, 512, 3) is now resized to: (1024, 1024, 3)\n",
      "Shape: (512, 512, 3) is now resized to: (1024, 1024, 3)\n",
      "Shape: (512, 512, 3) is now resized to: (1024, 1024, 3)\n",
      "Shape: (512, 512, 3) is now resized to: (1024, 1024, 3)\n",
      "Shape: (512, 512, 3) is now resized to: (1024, 1024, 3)\n",
      "Shape: (512, 512, 3) is now resized to: (1024, 1024, 3)\n",
      "Shape: (512, 512, 3) is now resized to: (1024, 1024, 3)\n",
      "Shape: (512, 512, 3) is now resized to: (1024, 1024, 3)\n",
      "Shape: (512, 512, 3) is now resized to: (1024, 1024, 3)\n",
      "Shape: (512, 512, 3) is now resized to: (1024, 1024, 3)\n",
      "Shape: (512, 512, 3) is now resized to: (1024, 1024, 3)\n",
      "Shape: (512, 512, 3) is now resized to: (1024, 1024, 3)\n",
      "Shape: (512, 512, 3) is now resized to: (1024, 1024, 3)\n",
      "Shape: (512, 512, 3) is now resized to: (1024, 1024, 3)\n",
      "Shape: (512, 512, 3) is now resized to: (1024, 1024, 3)\n",
      "Shape: (512, 512, 3) is now resized to: (1024, 1024, 3)\n",
      "Shape: (512, 512, 3) is now resized to: (1024, 1024, 3)\n",
      "Shape: (512, 512, 3) is now resized to: (1024, 1024, 3)\n",
      "Shape: (512, 512, 3) is now resized to: (1024, 1024, 3)\n",
      "Shape: (512, 512, 3) is now resized to: (1024, 1024, 3)\n",
      "Shape: (512, 512, 3) is now resized to: (1024, 1024, 3)\n",
      "Shape: (512, 512, 3) is now resized to: (1024, 1024, 3)\n",
      "Shape: (512, 512, 3) is now resized to: (1024, 1024, 3)\n",
      "Shape: (512, 512, 3) is now resized to: (1024, 1024, 3)\n",
      "Shape: (512, 512, 3) is now resized to: (1024, 1024, 3)\n",
      "Shape: (512, 512, 3) is now resized to: (1024, 1024, 3)\n",
      "Shape: (512, 512, 3) is now resized to: (1024, 1024, 3)\n",
      "Shape: (512, 512, 3) is now resized to: (1024, 1024, 3)\n",
      "Shape: (512, 512, 3) is now resized to: (1024, 1024, 3)\n",
      "Shape: (512, 512, 3) is now resized to: (1024, 1024, 3)\n",
      "Shape: (512, 512, 3) is now resized to: (1024, 1024, 3)\n",
      "Shape: (512, 512, 3) is now resized to: (1024, 1024, 3)\n",
      "Shape: (512, 512, 3) is now resized to: (1024, 1024, 3)\n",
      "Shape: (512, 512, 3) is now resized to: (1024, 1024, 3)\n",
      "Shape: (512, 512, 3) is now resized to: (1024, 1024, 3)\n",
      "Shape: (512, 512, 3) is now resized to: (1024, 1024, 3)\n",
      "Shape: (512, 512, 3) is now resized to: (1024, 1024, 3)\n",
      "Shape: (512, 512, 3) is now resized to: (1024, 1024, 3)\n",
      "Shape: (512, 512, 3) is now resized to: (1024, 1024, 3)\n",
      "Shape: (512, 512, 3) is now resized to: (1024, 1024, 3)\n",
      "Shape: (512, 512, 3) is now resized to: (1024, 1024, 3)\n",
      "Shape: (512, 512, 3) is now resized to: (1024, 1024, 3)\n",
      "Shape: (512, 512, 3) is now resized to: (1024, 1024, 3)\n",
      "Shape: (512, 512, 3) is now resized to: (1024, 1024, 3)\n",
      "Shape: (512, 512, 3) is now resized to: (1024, 1024, 3)\n",
      "Shape: (512, 512, 3) is now resized to: (1024, 1024, 3)\n",
      "Shape: (512, 512, 3) is now resized to: (1024, 1024, 3)\n",
      "Shape: (512, 512, 3) is now resized to: (1024, 1024, 3)\n",
      "Shape: (512, 512, 3) is now resized to: (1024, 1024, 3)\n",
      "Shape: (512, 512, 3) is now resized to: (1024, 1024, 3)\n",
      "Shape: (512, 512, 3) is now resized to: (1024, 1024, 3)\n",
      "Shape: (512, 512, 3) is now resized to: (1024, 1024, 3)\n",
      "Shape: (512, 512, 3) is now resized to: (1024, 1024, 3)\n",
      "Shape: (512, 512, 3) is now resized to: (1024, 1024, 3)\n",
      "Shape: (512, 512, 3) is now resized to: (1024, 1024, 3)\n",
      "Shape: (512, 512, 3) is now resized to: (1024, 1024, 3)\n",
      "Shape: (512, 512, 3) is now resized to: (1024, 1024, 3)\n",
      "Shape: (512, 512, 3) is now resized to: (1024, 1024, 3)\n",
      "Shape: (512, 512, 3) is now resized to: (1024, 1024, 3)\n",
      "Shape: (512, 512, 3) is now resized to: (1024, 1024, 3)\n",
      "Shape: (512, 512, 3) is now resized to: (1024, 1024, 3)\n",
      "Shape: (512, 512, 3) is now resized to: (1024, 1024, 3)\n",
      "Shape: (512, 512, 3) is now resized to: (1024, 1024, 3)\n",
      "Shape: (512, 512, 3) is now resized to: (1024, 1024, 3)\n",
      "Shape: (512, 512, 3) is now resized to: (1024, 1024, 3)\n",
      "Shape: (512, 512, 3) is now resized to: (1024, 1024, 3)\n",
      "Shape: (512, 512, 3) is now resized to: (1024, 1024, 3)\n",
      "Shape: (512, 512, 3) is now resized to: (1024, 1024, 3)\n",
      "Shape: (512, 512, 3) is now resized to: (1024, 1024, 3)\n",
      "Shape: (512, 512, 3) is now resized to: (1024, 1024, 3)\n",
      "Shape: (512, 512, 3) is now resized to: (1024, 1024, 3)\n"
     ]
    },
    {
     "name": "stdout",
     "output_type": "stream",
     "text": [
      "Shape: (512, 512, 3) is now resized to: (1024, 1024, 3)\n",
      "Shape: (512, 512, 3) is now resized to: (1024, 1024, 3)\n",
      "Shape: (512, 512, 3) is now resized to: (1024, 1024, 3)\n",
      "Shape: (512, 512, 3) is now resized to: (1024, 1024, 3)\n",
      "Shape: (512, 512, 3) is now resized to: (1024, 1024, 3)\n",
      "Shape: (512, 512, 3) is now resized to: (1024, 1024, 3)\n",
      "Shape: (512, 512, 3) is now resized to: (1024, 1024, 3)\n",
      "Shape: (512, 512, 3) is now resized to: (1024, 1024, 3)\n",
      "Shape: (512, 512, 3) is now resized to: (1024, 1024, 3)\n",
      "Shape: (512, 512, 3) is now resized to: (1024, 1024, 3)\n",
      "Shape: (512, 512, 3) is now resized to: (1024, 1024, 3)\n",
      "Shape: (512, 512, 3) is now resized to: (1024, 1024, 3)\n",
      "Shape: (512, 512, 3) is now resized to: (1024, 1024, 3)\n",
      "Shape: (512, 512, 3) is now resized to: (1024, 1024, 3)\n",
      "Shape: (512, 512, 3) is now resized to: (1024, 1024, 3)\n",
      "Shape: (512, 512, 3) is now resized to: (1024, 1024, 3)\n",
      "Shape: (512, 512, 3) is now resized to: (1024, 1024, 3)\n",
      "Shape: (512, 512, 3) is now resized to: (1024, 1024, 3)\n",
      "Shape: (512, 512, 3) is now resized to: (1024, 1024, 3)\n",
      "Shape: (512, 512, 3) is now resized to: (1024, 1024, 3)\n",
      "Shape: (512, 512, 3) is now resized to: (1024, 1024, 3)\n",
      "Shape: (512, 512, 3) is now resized to: (1024, 1024, 3)\n",
      "Shape: (512, 512, 3) is now resized to: (1024, 1024, 3)\n",
      "Shape: (512, 512, 3) is now resized to: (1024, 1024, 3)\n",
      "Shape: (512, 512, 3) is now resized to: (1024, 1024, 3)\n",
      "Shape: (512, 512, 3) is now resized to: (1024, 1024, 3)\n",
      "Shape: (512, 512, 3) is now resized to: (1024, 1024, 3)\n",
      "Shape: (512, 512, 3) is now resized to: (1024, 1024, 3)\n",
      "Shape: (512, 512, 3) is now resized to: (1024, 1024, 3)\n",
      "Shape: (512, 512, 3) is now resized to: (1024, 1024, 3)\n",
      "Shape: (512, 512, 3) is now resized to: (1024, 1024, 3)\n",
      "Shape: (512, 512, 3) is now resized to: (1024, 1024, 3)\n",
      "Shape: (512, 512, 3) is now resized to: (1024, 1024, 3)\n",
      "Shape: (512, 512, 3) is now resized to: (1024, 1024, 3)\n",
      "Shape: (512, 512, 3) is now resized to: (1024, 1024, 3)\n",
      "Shape: (512, 512, 3) is now resized to: (1024, 1024, 3)\n",
      "Shape: (512, 512, 3) is now resized to: (1024, 1024, 3)\n",
      "Shape: (512, 512, 3) is now resized to: (1024, 1024, 3)\n",
      "Shape: (512, 512, 3) is now resized to: (1024, 1024, 3)\n",
      "Shape: (512, 512, 3) is now resized to: (1024, 1024, 3)\n",
      "Shape: (512, 512, 3) is now resized to: (1024, 1024, 3)\n",
      "Shape: (512, 512, 3) is now resized to: (1024, 1024, 3)\n",
      "Shape: (512, 512, 3) is now resized to: (1024, 1024, 3)\n",
      "Shape: (512, 512, 3) is now resized to: (1024, 1024, 3)\n",
      "Shape: (512, 512, 3) is now resized to: (1024, 1024, 3)\n",
      "Shape: (512, 512, 3) is now resized to: (1024, 1024, 3)\n",
      "Shape: (512, 512, 3) is now resized to: (1024, 1024, 3)\n",
      "Shape: (512, 512, 3) is now resized to: (1024, 1024, 3)\n",
      "Shape: (512, 512, 3) is now resized to: (1024, 1024, 3)\n",
      "Shape: (512, 512, 3) is now resized to: (1024, 1024, 3)\n",
      "Shape: (512, 512, 3) is now resized to: (1024, 1024, 3)\n"
     ]
    }
   ],
   "source": [
    "resize_upsampling(old_folder, new_folder, 1024)"
   ]
  },
  {
   "cell_type": "markdown",
   "id": "bfa3d6de",
   "metadata": {},
   "source": [
    "#### Resize the syntetic image masks to 1024-1024"
   ]
  },
  {
   "cell_type": "code",
   "execution_count": 8,
   "id": "02e5aa08",
   "metadata": {},
   "outputs": [],
   "source": [
    "dir2 = '/mnt/robolab/data/Bilddaten/GAN_train_data_sydavis-ai/Evaluation/BatchSize/Wandlerhalter'\n",
    "folder = 'SegmentationMasks'"
   ]
  },
  {
   "cell_type": "code",
   "execution_count": 9,
   "id": "a4c07467",
   "metadata": {
    "scrolled": false
   },
   "outputs": [
    {
     "name": "stdout",
     "output_type": "stream",
     "text": [
      "Folder already exists\n",
      "Shape: (1080, 1920, 3) is now resized to: (1024, 1024, 3)\n",
      "Shape: (1080, 1920, 3) is now resized to: (1024, 1024, 3)\n",
      "Shape: (1080, 1920, 3) is now resized to: (1024, 1024, 3)\n",
      "Shape: (1080, 1920, 3) is now resized to: (1024, 1024, 3)\n",
      "Shape: (1080, 1920, 3) is now resized to: (1024, 1024, 3)\n",
      "Shape: (1080, 1920, 3) is now resized to: (1024, 1024, 3)\n",
      "Shape: (1080, 1920, 3) is now resized to: (1024, 1024, 3)\n",
      "Shape: (1080, 1920, 3) is now resized to: (1024, 1024, 3)\n",
      "Shape: (1080, 1920, 3) is now resized to: (1024, 1024, 3)\n",
      "Shape: (1080, 1920, 3) is now resized to: (1024, 1024, 3)\n",
      "Shape: (1080, 1920, 3) is now resized to: (1024, 1024, 3)\n",
      "Shape: (1080, 1920, 3) is now resized to: (1024, 1024, 3)\n",
      "Shape: (1080, 1920, 3) is now resized to: (1024, 1024, 3)\n",
      "Shape: (1080, 1920, 3) is now resized to: (1024, 1024, 3)\n",
      "Shape: (1080, 1920, 3) is now resized to: (1024, 1024, 3)\n",
      "Shape: (1080, 1920, 3) is now resized to: (1024, 1024, 3)\n",
      "Shape: (1080, 1920, 3) is now resized to: (1024, 1024, 3)\n",
      "Shape: (1080, 1920, 3) is now resized to: (1024, 1024, 3)\n",
      "Shape: (1080, 1920, 3) is now resized to: (1024, 1024, 3)\n",
      "Shape: (1080, 1920, 3) is now resized to: (1024, 1024, 3)\n"
     ]
    }
   ],
   "source": [
    "size = 1024\n",
    "old_folder = (os.path.join(dir2, folder))\n",
    "masks_syn_1024 = (os.path.join(dir2, folder+'_'+str(size)))\n",
    "\n",
    "if os.path.exists(masks_syn_1024):\n",
    "    try:\n",
    "        os.mkdir(masks_syn_1024)\n",
    "    except FileExistsError:\n",
    "        print('Folder already exists')\n",
    "resize_downsampling(old_folder, masks_syn_1024, size)"
   ]
  },
  {
   "cell_type": "markdown",
   "id": "5aec9d48",
   "metadata": {},
   "source": [
    "## 2. Use the annotation Tool Labelme to create polygons for GAN Images in JSON format"
   ]
  },
  {
   "cell_type": "markdown",
   "id": "3476f5f0",
   "metadata": {},
   "source": [
    "We than use the JSON files with polygon data to create semantic segmentation mask - no instance segmentation needed, because we do not need to differenciate between distinct features. We use the bash and python skript in this directory to do the mask translation."
   ]
  },
  {
   "cell_type": "code",
   "execution_count": 57,
   "id": "e3e1dff8",
   "metadata": {
    "scrolled": true
   },
   "outputs": [
    {
     "name": "stdout",
     "output_type": "stream",
     "text": [
      "augmentation.py\n",
      "data.py\n",
      "datasets\n",
      "download_dataset.sh\n",
      "FeatureConsistencyScore_2.0-BlattfederBatch1.ipynb\n",
      "FeatureConsistencyScore_2.0-BlattfederBatch2.ipynb\n",
      "FeatureConsistencyScore_2.0-BlattfederBatch4.ipynb\n",
      "FeatureConsistencyScore_2.0-EntluefterBatch1.ipynb\n",
      "FeatureConsistencyScore_2.0-EntluefterBatch2.ipynb\n",
      "FeatureConsistencyScore_2.0.ipynb\n",
      "FeatureConsistencyScore_2.1-EntluefterBatch4.ipynb\n",
      "FeatureConsistencyScore_2.1-GetriebeflanschBatch1.ipynb\n",
      "FeatureConsistencyScore_2.2-GetriebeflanschBatch1.ipynb\n",
      "FeatureConsistencyScore_2.2-GetriebeflanschBatch2.ipynb\n",
      "FeatureConsistencyScore_2.2-GetriebeflanschBatch4.ipynb\n",
      "FeatureConsistencyScore_2.2-PT18-BlattfederBatch1-2-4.ipynb\n",
      "FeatureConsistencyScore_2.2-PT18-EntluefterBatch1-2-4.ipynb\n",
      "FeatureConsistencyScore_2.2-PT18-GetriebeflanschBatch1-2-4.ipynb\n",
      "FeatureConsistencyScore_2.2-PT18-WandlerhalterBatch1-2-4.ipynb\n",
      "FeatureConsistencyScore_2.2-WandlerhalterBatch1.ipynb\n",
      "FeatureConsistencyScore_2.2-WandlerhalterBatch2.ipynb\n",
      "FeatureConsistencyScore_2.2-WandlerhalterBatch4.ipynb\n",
      "FeatureConsistencyScore_3.0.ipynb\n",
      "FeatureConsistencyScore_3.1-Copy2.ipynb\n",
      "FeatureConsistencyScore_3.1.ipynb\n",
      "FeatureConsistencyScore_3.2.ipynb\n",
      "fid.py\n",
      "filename.txt\n",
      "imlib\n",
      "interpolation.py\n",
      "labelme2coco.py\n",
      "labelme2voc.py\n",
      "labels.txt\n",
      "LICENSE\n",
      "mask-score.ipynb\n",
      "module.py\n",
      "Notebook_Archive\n",
      "output\n",
      "path\n",
      "__pycache__\n",
      "pylib\n",
      "README.md\n",
      "resize_images_pascalvoc\n",
      "test.py\n",
      "tf2gan\n",
      "tf2lib\n",
      "train.py\n",
      "/home/molu1019/workspace/CycleGAN-Tensorflow-2\n"
     ]
    }
   ],
   "source": [
    "!ls\n",
    "!pwd"
   ]
  },
  {
   "cell_type": "markdown",
   "id": "2a3f5cd1",
   "metadata": {},
   "source": [
    "Insert the folder path as **input_dir** where the GAN transformed images with corresponding JSON label are located."
   ]
  },
  {
   "cell_type": "code",
   "execution_count": 90,
   "id": "2811973a",
   "metadata": {},
   "outputs": [
    {
     "name": "stdout",
     "output_type": "stream",
     "text": [
      "/mnt/robolab/data/Bilddaten/GAN_train_data_sydavis-ai/Evaluation/ImageSize/Getriebeflansch/Batch1_joint_GF_mask\n"
     ]
    }
   ],
   "source": [
    "input_dir = path_GAN\n",
    "output_dir = input_dir+'_mask'\n",
    "print(output_dir)"
   ]
  },
  {
   "cell_type": "code",
   "execution_count": 91,
   "id": "96657eb5",
   "metadata": {},
   "outputs": [
    {
     "name": "stdout",
     "output_type": "stream",
     "text": [
      "Creating dataset: /mnt/robolab/data/Bilddaten/GAN_train_data_sydavis-ai/Evaluation/ImageSize/Getriebeflansch/Batch1_joint_GF_mask\n",
      "class_names: ('_background_', 'Blattfeder', 'Blattfeder_nio', 'Wandlerhalter', 'Entluefter', 'Getriebeflansch', 'Abdeckung', '')\n",
      "Saved class_names: /mnt/robolab/data/Bilddaten/GAN_train_data_sydavis-ai/Evaluation/ImageSize/Getriebeflansch/Batch1_joint_GF_mask/class_names.txt\n",
      "Generating dataset from: /mnt/robolab/data/Bilddaten/GAN_train_data_sydavis-ai/Evaluation/ImageSize/Getriebeflansch/Batch1_joint_GF/rgb_153292.json\n",
      "Generating dataset from: /mnt/robolab/data/Bilddaten/GAN_train_data_sydavis-ai/Evaluation/ImageSize/Getriebeflansch/Batch1_joint_GF/rgb_153161.json\n",
      "Generating dataset from: /mnt/robolab/data/Bilddaten/GAN_train_data_sydavis-ai/Evaluation/ImageSize/Getriebeflansch/Batch1_joint_GF/rgb_153226.json\n",
      "Generating dataset from: /mnt/robolab/data/Bilddaten/GAN_train_data_sydavis-ai/Evaluation/ImageSize/Getriebeflansch/Batch1_joint_GF/rgb_153324.json\n",
      "Generating dataset from: /mnt/robolab/data/Bilddaten/GAN_train_data_sydavis-ai/Evaluation/ImageSize/Getriebeflansch/Batch1_joint_GF/rgb_153061.json\n",
      "Generating dataset from: /mnt/robolab/data/Bilddaten/GAN_train_data_sydavis-ai/Evaluation/ImageSize/Getriebeflansch/Batch1_joint_GF/rgb_152802.json\n",
      "Generating dataset from: /mnt/robolab/data/Bilddaten/GAN_train_data_sydavis-ai/Evaluation/ImageSize/Getriebeflansch/Batch1_joint_GF/rgb_153029.json\n",
      "Generating dataset from: /mnt/robolab/data/Bilddaten/GAN_train_data_sydavis-ai/Evaluation/ImageSize/Getriebeflansch/Batch1_joint_GF/rgb_152930.json\n",
      "Generating dataset from: /mnt/robolab/data/Bilddaten/GAN_train_data_sydavis-ai/Evaluation/ImageSize/Getriebeflansch/Batch1_joint_GF/rgb_152322.json\n",
      "Generating dataset from: /mnt/robolab/data/Bilddaten/GAN_train_data_sydavis-ai/Evaluation/ImageSize/Getriebeflansch/Batch1_joint_GF/rgb_152355.json\n",
      "Generating dataset from: /mnt/robolab/data/Bilddaten/GAN_train_data_sydavis-ai/Evaluation/ImageSize/Getriebeflansch/Batch1_joint_GF/rgb_152550.json\n",
      "Generating dataset from: /mnt/robolab/data/Bilddaten/GAN_train_data_sydavis-ai/Evaluation/ImageSize/Getriebeflansch/Batch1_joint_GF/rgb_152189.json\n",
      "Generating dataset from: /mnt/robolab/data/Bilddaten/GAN_train_data_sydavis-ai/Evaluation/ImageSize/Getriebeflansch/Batch1_joint_GF/rgb_103981.json\n",
      "Generating dataset from: /mnt/robolab/data/Bilddaten/GAN_train_data_sydavis-ai/Evaluation/ImageSize/Getriebeflansch/Batch1_joint_GF/rgb_152286.json\n",
      "Generating dataset from: /mnt/robolab/data/Bilddaten/GAN_train_data_sydavis-ai/Evaluation/ImageSize/Getriebeflansch/Batch1_joint_GF/rgb_152221.json\n",
      "Generating dataset from: /mnt/robolab/data/Bilddaten/GAN_train_data_sydavis-ai/Evaluation/ImageSize/Getriebeflansch/Batch1_joint_GF/rgb_104044.json\n",
      "Generating dataset from: /mnt/robolab/data/Bilddaten/GAN_train_data_sydavis-ai/Evaluation/ImageSize/Getriebeflansch/Batch1_joint_GF/rgb_103949.json\n",
      "Generating dataset from: /mnt/robolab/data/Bilddaten/GAN_train_data_sydavis-ai/Evaluation/ImageSize/Getriebeflansch/Batch1_joint_GF/rgb_152123.json\n",
      "Generating dataset from: /mnt/robolab/data/Bilddaten/GAN_train_data_sydavis-ai/Evaluation/ImageSize/Getriebeflansch/Batch1_joint_GF/rgb_103918.json\n",
      "Generating dataset from: /mnt/robolab/data/Bilddaten/GAN_train_data_sydavis-ai/Evaluation/ImageSize/Getriebeflansch/Batch1_joint_GF/rgb_103885.json\n"
     ]
    }
   ],
   "source": [
    "!python3 labelme2voc.py $input_dir $output_dir --labels labels.txt"
   ]
  },
  {
   "cell_type": "code",
   "execution_count": 92,
   "id": "31772350",
   "metadata": {},
   "outputs": [],
   "source": [
    "masks_gan = output_dir+'/SegmentationObjectPNG'"
   ]
  },
  {
   "cell_type": "markdown",
   "id": "c8c93cbb",
   "metadata": {},
   "source": [
    "## 3. GAN Image Data\n",
    "### 3.1 Prepare Data: Create Folder with binary images"
   ]
  },
  {
   "cell_type": "code",
   "execution_count": 93,
   "id": "8427b343",
   "metadata": {},
   "outputs": [],
   "source": [
    "def binarize(im_path, threshold=10, save_digits=10):\n",
    "    \"\"\"Read, binarize and save images as png.\n",
    "    Args:\n",
    "        path: Path for folder of png images.\n",
    "    \"\"\"\n",
    "    masks_binarized = im_path+'_binarized'\n",
    "    os.mkdir(masks_binarized)\n",
    "    \n",
    "    print(im_path)\n",
    "    print(masks_binarized)\n",
    "    \n",
    "    path = os.path.join(im_path, '*.png')\n",
    "    files = list(glob.glob(path))\n",
    "    files.sort(reverse=True)\n",
    "    \n",
    "    for file in files:\n",
    "        size=1024\n",
    "        img = Image.open(file).convert('L')\n",
    "        img = np.array(img)\n",
    "        #print(img[210,:-50])\n",
    "\n",
    "        # störungen im Bild:\n",
    "        #16 128 148  35 31 143 153 16 128 153 153 153 153 127  15   0  10 116  35\n",
    "        thresh = threshold\n",
    "        Flansch = 89\n",
    "        Abdeckung = 76\n",
    "        Mutter =174\n",
    "        Wandler_stoerung= 153\n",
    "        Wandler = 157\n",
    "\n",
    "        im_bool = img > thresh\n",
    "        #im_bool = np.logical_or(img == Wandler, img ==4)    \n",
    "        #im_bool = img == Wandler\n",
    "\n",
    "        maxval = 255\n",
    "        im_bin = (img > thresh) * maxval\n",
    "\n",
    "        #save array to images\n",
    "        im_save_bi = Image.fromarray(np.uint8(im_bin))\n",
    "        im_save_bool = Image.fromarray((im_bool))\n",
    "        \n",
    "        image = im_save_bool\n",
    "        plt.imshow(image)\n",
    "        bbox = image.getbbox()\n",
    "        a = save_digits\n",
    "        plt.title(f'Bbox: {bbox} Name: {file[-a:]}')\n",
    "        image.save(os.path.join(masks_binarized,file[-a:]))\n",
    "\n",
    "    #return im_save_bool"
   ]
  },
  {
   "cell_type": "code",
   "execution_count": 94,
   "id": "f48a8d1b",
   "metadata": {},
   "outputs": [
    {
     "name": "stdout",
     "output_type": "stream",
     "text": [
      "/mnt/robolab/data/Bilddaten/GAN_train_data_sydavis-ai/Evaluation/ImageSize/Getriebeflansch/Batch1_joint_GF_mask/SegmentationObjectPNG\n",
      "/mnt/robolab/data/Bilddaten/GAN_train_data_sydavis-ai/Evaluation/ImageSize/Getriebeflansch/Batch1_joint_GF_mask/SegmentationObjectPNG_binarized\n"
     ]
    }
   ],
   "source": [
    "#test GAN Data\n",
    "masks_gan = path_GAN+'_mask'+'/SegmentationObjectPNG'\n",
    "masks_gan_binarized = masks_gan+'_binarized'\n",
    "print(masks_gan)\n",
    "print(masks_gan_binarized)"
   ]
  },
  {
   "cell_type": "code",
   "execution_count": 95,
   "id": "95c02e7d",
   "metadata": {},
   "outputs": [
    {
     "name": "stdout",
     "output_type": "stream",
     "text": [
      "/mnt/robolab/data/Bilddaten/GAN_train_data_sydavis-ai/Evaluation/ImageSize/Getriebeflansch/Batch1_joint_GF_mask/SegmentationObjectPNG\n",
      "/mnt/robolab/data/Bilddaten/GAN_train_data_sydavis-ai/Evaluation/ImageSize/Getriebeflansch/Batch1_joint_GF_mask/SegmentationObjectPNG_binarized\n"
     ]
    },
    {
     "data": {
      "image/png": "[encoded data removed]",
      "text/plain": [
       "<Figure size 432x288 with 1 Axes>"
      ]
     },
     "metadata": {
      "needs_background": "light"
     },
     "output_type": "display_data"
    }
   ],
   "source": [
    "if not os.path.exists(masks_gan_binarized):\n",
    "    binarize(masks_gan, 10, 11)\n",
    "else: \n",
    "    print(f'Path: {masks_gan_binarized} binarized syntetic polygon masks already exists')"
   ]
  },
  {
   "cell_type": "markdown",
   "id": "4927a244",
   "metadata": {},
   "source": [
    "## 4. Syntetic Image Masks\n",
    "### 4.1 Prepare Data: Create Folder with binary images"
   ]
  },
  {
   "cell_type": "markdown",
   "id": "b5811e0c",
   "metadata": {},
   "source": [
    "#### Operation for reading png segmentation masks from folder path, resize, convert to greyscale and save imagesin new folder"
   ]
  },
  {
   "cell_type": "code",
   "execution_count": 96,
   "id": "2ed2eddd",
   "metadata": {},
   "outputs": [
    {
     "name": "stdout",
     "output_type": "stream",
     "text": [
      "/mnt/robolab/data/Bilddaten/GAN_train_data_sydavis-ai/Evaluation/ImageSize/Getriebeflansch/SegmentationMasks_1024\n",
      "/mnt/robolab/data/Bilddaten/GAN_train_data_sydavis-ai/Evaluation/ImageSize/Getriebeflansch/SegmentationMasks_1024_binarized\n"
     ]
    }
   ],
   "source": [
    "masks_syn = path_Masks_1024\n",
    "masks_syn_binarized = masks_syn+'_binarized'\n",
    "print(masks_syn)\n",
    "print(masks_syn_binarized)"
   ]
  },
  {
   "cell_type": "code",
   "execution_count": 97,
   "id": "1d6117f8",
   "metadata": {},
   "outputs": [
    {
     "name": "stdout",
     "output_type": "stream",
     "text": [
      "Binarized syntetic polygon masks already exists:\n",
      "/mnt/robolab/data/Bilddaten/GAN_train_data_sydavis-ai/Evaluation/ImageSize/Getriebeflansch/SegmentationMasks_1024_binarized\n"
     ]
    }
   ],
   "source": [
    "if not os.path.exists(masks_syn_binarized):\n",
    "    binarize(masks_syn, 10, 18)\n",
    "else:\n",
    "    print(f'Binarized syntetic polygon masks already exists:\\n{masks_syn_binarized}')"
   ]
  },
  {
   "cell_type": "markdown",
   "id": "63d0c6cb",
   "metadata": {},
   "source": [
    "Since True is regarded as 1 and False is regarded as 0, when multiplied by 255 which is the Max value of uint8, True becomes 255 (white) and False becomes 0 (black)"
   ]
  },
  {
   "cell_type": "code",
   "execution_count": 98,
   "id": "2f05058d",
   "metadata": {},
   "outputs": [],
   "source": [
    "def fill_polygon(path):\n",
    "    masks_binarized = path\n",
    "    masks_binarized_filled = masks_binarized+'_convex'\n",
    "    os.mkdir(masks_binarized_filled)\n",
    "    path_bin = os.path.join(masks_binarized, '*.png')\n",
    "    files = list(glob.glob(path_bin))\n",
    "    files.sort(reverse=True)\n",
    "    \n",
    "    for file in files:\n",
    "        image = cv2.imread(file, cv2.IMREAD_GRAYSCALE)\n",
    "\n",
    "        #print(image.shape, image.dtype)\n",
    "        contour,hierarchy = cv2.findContours(image,cv2.RETR_CCOMP,cv2.CHAIN_APPROX_SIMPLE)\n",
    "\n",
    "        for cnt in contour:\n",
    "            cv2.drawContours(image,[cnt],0,255,-1)\n",
    "\n",
    "            #image = cv2.bitwise_not(image)\n",
    "            image.dtype\n",
    "            plt.imshow(image)\n",
    "            #bbox = image.getbbox()\n",
    "            plt.title(f'Bbox: {bbox} Name: {file[-18:]}')\n",
    "            cv2.imwrite(os.path.join(masks_binarized_filled,file[-18:]),image)"
   ]
  },
  {
   "cell_type": "code",
   "execution_count": 99,
   "id": "9b8f89f5",
   "metadata": {},
   "outputs": [
    {
     "name": "stdout",
     "output_type": "stream",
     "text": [
      "/mnt/robolab/data/Bilddaten/GAN_train_data_sydavis-ai/Evaluation/ImageSize/Getriebeflansch/SegmentationMasks_1024_binarized_convex\n"
     ]
    }
   ],
   "source": [
    "masks_syn_binarized = path_Masks_1024+'_binarized'\n",
    "masks_syn_binarized_filled = masks_syn_binarized+'_convex'\n",
    "print(masks_syn_binarized_filled)"
   ]
  },
  {
   "cell_type": "code",
   "execution_count": 100,
   "id": "3522ce35",
   "metadata": {},
   "outputs": [
    {
     "name": "stdout",
     "output_type": "stream",
     "text": [
      "Filled binarized syntetic polygon masks already exists:\n",
      "/mnt/robolab/data/Bilddaten/GAN_train_data_sydavis-ai/Evaluation/ImageSize/Getriebeflansch/SegmentationMasks_1024_binarized_convex\n"
     ]
    }
   ],
   "source": [
    "if not os.path.exists(masks_syn_binarized_filled):\n",
    "    fill_polygon(masks_syn_binarized)\n",
    "else: \n",
    "    print(f'Filled binarized syntetic polygon masks already exists:\\n{masks_syn_binarized_filled}')"
   ]
  },
  {
   "cell_type": "markdown",
   "id": "7713902d",
   "metadata": {},
   "source": [
    "## 6. Calculate mean IoU\n",
    "Translate image mask to white RGB(255,255,255), fill convex hull, and compare masks to calculate 'Feature Consistency Score' "
   ]
  },
  {
   "cell_type": "code",
   "execution_count": 101,
   "id": "09d014be",
   "metadata": {},
   "outputs": [],
   "source": [
    "def calculatescore(ground_truth, prediction_gan):\n",
    "    \"\"\"\n",
    "    Compute feature consitency score of two segmentation masks.\n",
    "    \n",
    "    IoU(A,B) = |A & B| / (| A U B|)\n",
    "    Dice(A,B) = 2*|A & B| / (|A| + |B|)\n",
    "\n",
    "    Args:\n",
    "        y_true: true masks, one-hot encoded.\n",
    "        y_pred: predicted masks, either softmax outputs, or one-hot encoded.\n",
    "        metric_name: metric to be computed, either 'iou' or 'dice'.\n",
    "        metric_type: one of 'standard' (default), 'soft', 'naive'.\n",
    "          In the standard version, y_pred is one-hot encoded and the mean\n",
    "          is taken only over classes that are present (in y_true or y_pred).\n",
    "          The 'soft' version of the metrics are computed without one-hot\n",
    "          encoding y_pred.\n",
    "          \n",
    "    Returns:\n",
    "        IoU of ground truth and GAN transformed syntetic Image, as a float.\n",
    "\n",
    "    Inputs are B*W*H*N tensors, with\n",
    "        B = batch size,\n",
    "        W = width,\n",
    "        H = height,\n",
    "        N = number of classes\n",
    "    \"\"\"\n",
    "    \n",
    "    # check image shape to be the same\n",
    "    assert ground_truth.shape == prediction_gan.shape, 'Input masks should be same shape, instead are {}, {}'.format(ground_truth.shape, prediction_gan.shape)\n",
    "    #print('Ground truth shape: '+str(ground_truth.shape))\n",
    "    #print('Predicted GAN image shape: '+str(prediction_gan.shape))\n",
    "    \n",
    "    intersection = np.logical_and(ground_truth, prediction_gan)\n",
    "    union = np.logical_or(ground_truth, prediction_gan)\n",
    "    mask_sum = np.sum(np.abs(union)) + np.sum(np.abs(intersection))\n",
    "    iou_score = np.sum(intersection) / np.sum(union)\n",
    "    dice_score = 2*np.sum(intersection) / np.sum(mask_sum) \n",
    "    print('IoU is: '+str(iou_score))\n",
    "    print('Dice/F1 Score is: '+str(dice_score))\n",
    "    return iou_score, dice_score"
   ]
  },
  {
   "cell_type": "code",
   "execution_count": 102,
   "id": "ced4a014",
   "metadata": {
    "scrolled": true
   },
   "outputs": [],
   "source": [
    "path_syn = masks_syn_binarized_filled\n",
    "path_gan = masks_gan_binarized\n",
    "path_syn = os.path.join(path_syn, '*.png')\n",
    "path_gan = os.path.join(path_gan, '*.png')\n",
    "files_syn = list(glob.glob(path_syn))\n",
    "files_gan = list(glob.glob(path_gan))\n",
    "files_syn.sort(reverse=True)\n",
    "files_gan.sort(reverse=True)\n",
    "\n",
    "combined_list = zip(files_syn, files_gan)\n",
    "z = list(combined_list)"
   ]
  },
  {
   "cell_type": "code",
   "execution_count": 103,
   "id": "6806b2eb",
   "metadata": {},
   "outputs": [
    {
     "name": "stdout",
     "output_type": "stream",
     "text": [
      "Image name: 153324.png\n",
      "IoU is: 0.9761901288242417\n",
      "Dice/F1 Score is: 0.9879516293354201\n",
      "\n",
      "\n",
      "Image name: 153292.png\n",
      "IoU is: 0.9361744615920286\n",
      "Dice/F1 Score is: 0.9670352338210831\n",
      "\n",
      "\n",
      "Image name: 153226.png\n",
      "IoU is: 0.9411986022198027\n",
      "Dice/F1 Score is: 0.9697087161957789\n",
      "\n",
      "\n",
      "Image name: 153161.png\n",
      "IoU is: 0.9531794434704269\n",
      "Dice/F1 Score is: 0.9760285432625782\n",
      "\n",
      "\n",
      "Image name: 153061.png\n",
      "IoU is: 0.9477169106696909\n",
      "Dice/F1 Score is: 0.9731567308144733\n",
      "\n",
      "\n",
      "Image name: 153029.png\n",
      "IoU is: 0.9619205623717187\n",
      "Dice/F1 Score is: 0.9805907342230779\n",
      "\n",
      "\n",
      "Image name: 152930.png\n",
      "IoU is: 0.9550261319002038\n",
      "Dice/F1 Score is: 0.976995771378215\n",
      "\n",
      "\n",
      "Image name: 152802.png\n",
      "IoU is: 0.9364889242701996\n",
      "Dice/F1 Score is: 0.9672029749647364\n",
      "\n",
      "\n",
      "Image name: 152550.png\n",
      "IoU is: 0.9596613358419567\n",
      "Dice/F1 Score is: 0.9794154921463958\n",
      "\n",
      "\n",
      "Image name: 152355.png\n",
      "IoU is: 0.949504651473668\n",
      "Dice/F1 Score is: 0.9740983698150392\n",
      "\n",
      "\n",
      "Image name: 152322.png\n",
      "IoU is: 0.9761422098742499\n",
      "Dice/F1 Score is: 0.9879270884420468\n",
      "\n",
      "\n",
      "Image name: 152286.png\n",
      "IoU is: 0.9470211380307857\n",
      "Dice/F1 Score is: 0.9727897859276469\n",
      "\n",
      "\n",
      "Image name: 152221.png\n",
      "IoU is: 0.9745142883905363\n",
      "Dice/F1 Score is: 0.9870926679237974\n",
      "\n",
      "\n",
      "Image name: 152189.png\n",
      "IoU is: 0.9342868504542822\n",
      "Dice/F1 Score is: 0.966027195226869\n",
      "\n",
      "\n",
      "Image name: 152123.png\n",
      "IoU is: 0.9545460219966793\n",
      "Dice/F1 Score is: 0.976744483122026\n",
      "\n",
      "\n",
      "Image name: 104044.png\n",
      "IoU is: 0.9714865340658235\n",
      "Dice/F1 Score is: 0.9855370729439512\n",
      "\n",
      "\n",
      "Image name: 103981.png\n",
      "IoU is: 0.9542445034306606\n",
      "Dice/F1 Score is: 0.9765866059804615\n",
      "\n",
      "\n",
      "Image name: 103949.png\n",
      "IoU is: 0.9203000342522427\n",
      "Dice/F1 Score is: 0.9584960868998827\n",
      "\n",
      "\n",
      "Image name: 103918.png\n",
      "IoU is: 0.9509451636184948\n",
      "Dice/F1 Score is: 0.9748558609968713\n",
      "\n",
      "\n",
      "Image name: 103885.png\n",
      "IoU is: 0.9685158783802973\n",
      "Dice/F1 Score is: 0.9840061632392786\n",
      "\n",
      "\n",
      "Mean IoU is: 0.9534531887563997\n",
      "[0.9761901288242417, 0.9361744615920286, 0.9411986022198027, 0.9531794434704269, 0.9477169106696909, 0.9619205623717187, 0.9550261319002038, 0.9364889242701996, 0.9596613358419567, 0.949504651473668, 0.9761422098742499, 0.9470211380307857, 0.9745142883905363, 0.9342868504542822, 0.9545460219966793, 0.9714865340658235, 0.9542445034306606, 0.9203000342522427, 0.9509451636184948, 0.9685158783802973]\n",
      "\n",
      "Mean Dice score is: 0.9761123603329814\n",
      "[0.9879516293354201, 0.9670352338210831, 0.9697087161957789, 0.9760285432625782, 0.9731567308144733, 0.9805907342230779, 0.976995771378215, 0.9672029749647364, 0.9794154921463958, 0.9740983698150392, 0.9879270884420468, 0.9727897859276469, 0.9870926679237974, 0.966027195226869, 0.976744483122026, 0.9855370729439512, 0.9765866059804615, 0.9584960868998827, 0.9748558609968713, 0.9840061632392786]\n"
     ]
    }
   ],
   "source": [
    "iou_list = []\n",
    "dice_list = []\n",
    "for syn, gan in zip(files_syn, files_gan):\n",
    "    img_syn = np.array(Image.open(syn))\n",
    "    img_gan = np.array(Image.open(gan))\n",
    "    print(f'Image name: {syn[-10:]}')\n",
    "    iou, dice = calculatescore(img_syn, img_gan)\n",
    "    print('\\n')\n",
    "    iou_list.append(iou)\n",
    "    dice_list.append(dice)\n",
    "    \n",
    "mean_iou = np.mean(iou_list)\n",
    "mean_dice = np.mean(dice_list)\n",
    "print(f'Mean IoU is: {mean_iou}')\n",
    "print(f'{iou_list}\\n')\n",
    "print(f'Mean Dice score is: {mean_dice}')\n",
    "print(dice_list)"
   ]
  },
  {
   "cell_type": "code",
   "execution_count": 106,
   "id": "6de20a0b",
   "metadata": {},
   "outputs": [],
   "source": [
    "import sys\n",
    "base_dir = input_dir\n",
    "prefix = 'batch'+str(batch_size)\n",
    "score_name = prefix+'_score.txt'\n",
    "path = os.path.join(base_dir,score_name)\n",
    "\n",
    "if not os.path.exists(path):\n",
    "    try:\n",
    "        os.mknod(path)\n",
    "    except FileExistsError:\n",
    "        print('Folder already exists')\n",
    "        pass \n",
    "\n",
    "original_stdout = sys.stdout             # Save a reference to the original standard output\n",
    "\n",
    "with open(path, 'w') as f:\n",
    "    sys.stdout = f                       # Change the standard output to the file we created.\n",
    "    iou_list = []\n",
    "    dice_list = []\n",
    "    print(f'Consistency Metrics for {prefix}:\\n')\n",
    "    for syn, gan in zip(files_syn, files_gan):\n",
    "        img_syn = np.array(Image.open(syn))\n",
    "        img_gan = np.array(Image.open(gan))\n",
    "        print(f'Image name: {syn[-10:]}')\n",
    "        iou, dice = calculatescore(img_syn, img_gan)\n",
    "        print('\\n')\n",
    "        iou_list.append(iou)\n",
    "        dice_list.append(dice)\n",
    "\n",
    "    mean_iou = np.mean(iou_list)\n",
    "    mean_dice = np.mean(dice_list)\n",
    "    print(f'Mean IoU is: {mean_iou}')\n",
    "    print(f'{iou_list}\\n')\n",
    "    print(f'Mean Dice score is: {mean_dice}')\n",
    "    print(dice_list)\n",
    "    sys.stdout = original_stdout         # Reset the standard output to its original value\n",
    "f.close()"
   ]
  },
  {
   "cell_type": "code",
   "execution_count": 43,
   "id": "cb912309",
   "metadata": {},
   "outputs": [],
   "source": [
    "#overlapping of 2 masks\n",
    "#Image.blend()\n"
   ]
  },
  {
   "cell_type": "code",
   "execution_count": 118,
   "id": "ea06a11c",
   "metadata": {},
   "outputs": [
    {
     "name": "stdout",
     "output_type": "stream",
     "text": [
      "   Batch Size          Ansicht     FID     IOU    Training\n",
      "0     Batch 1       Blattfeder  104.59  0.8519  individual\n",
      "1     Batch 1       Blattfeder   96.79  0.8717       joint\n",
      "2     Batch 2       Blattfeder   93.50  0.8987  individual\n",
      "3     Batch 2       Blattfeder   94.35  0.8845       joint\n",
      "4     Batch 4       Blattfeder   98.77  0.8871  individual\n",
      "5     Batch 4       Blattfeder  122.57  0.9627       joint\n",
      "6     Batch 1  Getriebeflansch  104.75  0.9075  individual\n",
      "7     Batch 1  Getriebeflansch   72.10  0.8059       joint\n",
      "8     Batch 2  Getriebeflansch  156.75  0.9075  individual\n",
      "9     Batch 2  Getriebeflansch  102.81  0.9616       joint\n",
      "10    Batch 4  Getriebeflansch  128.17  0.9075  individual\n",
      "11    Batch 4  Getriebeflansch  113.64  0.9657       joint\n",
      "12    Batch 1       Entluefter  146.72  0.9755  individual\n",
      "13    Batch 1       Entluefter  144.21  0.9462       joint\n",
      "14    Batch 2       Entluefter  121.25  0.9768  individual\n",
      "15    Batch 2       Entluefter  154.57  0.9566       joint\n",
      "16    Batch 4       Entluefter  133.19  0.9753  individual\n",
      "17    Batch 4       Entluefter  156.04  0.9766       joint\n",
      "18    Batch 1    Wandlerhalter  102.52  0.7685  individual\n",
      "19    Batch 1    Wandlerhalter  141.25  0.7582       joint\n",
      "20    Batch 2    Wandlerhalter  121.16  0.8802  individual\n",
      "21    Batch 2    Wandlerhalter  103.28  0.8707       joint\n",
      "22    Batch 4    Wandlerhalter  102.81  0.8769  individual\n",
      "23    Batch 4    Wandlerhalter  144.01  0.9685       joint\n"
     ]
    }
   ],
   "source": [
    "import pandas as pd\n",
    "cygan = '/home/molu1019/workspace/CycleGAN-Tensorflow-2'\n",
    "df1 = pd.read_excel(\n",
    "     os.path.join(cygan, \"BatchSize_Correlation.xlsx\"),\n",
    "     engine='openpyxl',\n",
    ")\n",
    "print(df1)"
   ]
  },
  {
   "cell_type": "code",
   "execution_count": 141,
   "id": "81953a59",
   "metadata": {},
   "outputs": [
    {
     "data": {
      "image/png": "[encoded data removed]",
      "text/plain": [
       "<Figure size 432x288 with 1 Axes>"
      ]
     },
     "metadata": {
      "needs_background": "light"
     },
     "output_type": "display_data"
    }
   ],
   "source": [
    "s1 = df1['FID']\n",
    "s2 = df1['IOU']\n",
    "\n",
    "# Normalising Data between 0 and 1\n",
    "s1 = (s1 - np.min(s1)) / (np.max(s1) - np.min(s1))\n",
    "s2 = (s2 - np.min(s2)) / (np.max(s2) - np.min(s2))\n",
    "s1.corr(s2, method='pearson')\n",
    "plt.scatter(s1, s2)\n",
    "plt.show()"
   ]
  },
  {
   "cell_type": "code",
   "execution_count": 132,
   "id": "17c1e01c",
   "metadata": {},
   "outputs": [
    {
     "data": {
      "image/png": "[encoded data removed]",
      "text/plain": [
       "<Figure size 288x288 with 1 Axes>"
      ]
     },
     "metadata": {
      "needs_background": "light"
     },
     "output_type": "display_data"
    },
    {
     "data": {
      "image/png": "[encoded data removed]",
      "text/plain": [
       "<Figure size 1368x1080 with 2 Axes>"
      ]
     },
     "metadata": {
      "needs_background": "light"
     },
     "output_type": "display_data"
    }
   ],
   "source": [
    "import matplotlib.pyplot as plt\n",
    "\n",
    "plt.matshow(df1.corr())\n",
    "plt.show()\n",
    "f = plt.figure(figsize=(19, 15))\n",
    "plt.matshow(df1.corr(), fignum=f.number)\n",
    "plt.xticks(range(df1.select_dtypes(['number']).shape[1]), df1.select_dtypes(['number']).columns, fontsize=14, rotation=45)\n",
    "plt.yticks(range(df1.select_dtypes(['number']).shape[1]), df1.select_dtypes(['number']).columns, fontsize=14)\n",
    "cb = plt.colorbar()\n",
    "cb.ax.tick_params(labelsize=14)\n",
    "plt.title('Correlation Matrix', fontsize=16);"
   ]
  },
  {
   "cell_type": "code",
   "execution_count": 145,
   "id": "19a078b1",
   "metadata": {},
   "outputs": [
    {
     "data": {
      "text/plain": [
       "'{admonition} Click the button to reveal!\\n:class: dropdown\\nSome hidden toggle content!\\n\\n![](../images/cool.jpg)\\n'"
      ]
     },
     "execution_count": 145,
     "metadata": {},
     "output_type": "execute_result"
    }
   ],
   "source": [
    "'''{admonition} Click the button to reveal!\n",
    ":class: dropdown\n",
    "Some hidden toggle content!\n",
    "\n",
    "![](../images/cool.jpg)\n",
    "'''"
   ]
  },
  {
   "cell_type": "code",
   "execution_count": null,
   "id": "8e40e99b",
   "metadata": {},
   "outputs": [],
   "source": []
  }
 ],
 "metadata": {
  "kernelspec": {
   "display_name": "Python 3.6.9 64-bit ('cygan': virtualenv)",
   "language": "python",
   "name": "python369jvsc74a57bd0987972a5af0063b4ad0c1bc948181328354b4e09dc76cc55a6609915adabc773"
  },
  "language_info": {
   "codemirror_mode": {
    "name": "ipython",
    "version": 3
   },
   "file_extension": ".py",
   "mimetype": "text/x-python",
   "name": "python",
   "nbconvert_exporter": "python",
   "pygments_lexer": "ipython3",
   "version": "3.6.9"
  }
 },
 "nbformat": 4,
 "nbformat_minor": 5
}
