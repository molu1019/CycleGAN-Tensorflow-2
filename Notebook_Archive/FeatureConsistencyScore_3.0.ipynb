{
 "cells": [
  {
   "cell_type": "markdown",
   "id": "a06cd1d4",
   "metadata": {},
   "source": [
    "## Notebook for calculating Mask Consistency Score for GAN-transformed images"
   ]
  },
  {
   "cell_type": "code",
   "execution_count": 3,
   "id": "900e2b4d",
   "metadata": {},
   "outputs": [],
   "source": [
    "from PIL import Image\n",
    "import cv2\n",
    "from matplotlib import pyplot as plt\n",
    "import tensorflow as tf\n",
    "import glob, os\n",
    "import numpy as np\n",
    "import sys\n",
    "import matplotlib.image as mpimg\n",
    "#from keras.preprocessing.image import img_to_array, array_to_img"
   ]
  },
  {
   "cell_type": "code",
   "execution_count": 99,
   "id": "8306f81b",
   "metadata": {},
   "outputs": [],
   "source": [
    "path_GAN = '/mnt/robolab/data/Bilddaten/GAN_train_data_sydavis-ai/Evaluation/BatchSize/Wandlerhalter/Batch4_joint_WH'\n",
    "path_Masks_1024 = '/mnt/robolab/data/Bilddaten/GAN_train_data_sydavis-ai/Evaluation/BatchSize/Wandlerhalter/SegmentationMasks_1024'"
   ]
  },
  {
   "cell_type": "markdown",
   "id": "ebd58ed4",
   "metadata": {},
   "source": [
    "## 1. Resize GAN-transformed Dataset to 1024*1024"
   ]
  },
  {
   "cell_type": "markdown",
   "id": "d00c6def",
   "metadata": {},
   "source": [
    "#### 1.1 Specify Args: Directory, folder name and the new image size"
   ]
  },
  {
   "cell_type": "code",
   "execution_count": 12,
   "id": "bab0c67e",
   "metadata": {},
   "outputs": [],
   "source": [
    "dir = '/mnt/robolab/data/Bilddaten/GAN_train_data_sydavis-ai/Powertrain18_all/Results/Batch1_Size512/samples_testing_Entluefter'"
   ]
  },
  {
   "cell_type": "markdown",
   "id": "9b400c36",
   "metadata": {},
   "source": [
    "#### 1.2 Create new Folder \"/A2B_FID_1024\" in Directory"
   ]
  },
  {
   "cell_type": "code",
   "execution_count": 31,
   "id": "520e04ef",
   "metadata": {},
   "outputs": [
    {
     "name": "stdout",
     "output_type": "stream",
     "text": [
      "Folder already exists\n"
     ]
    }
   ],
   "source": [
    "folder = 'A2B_FID'\n",
    "image_size = 1024\n",
    "old_folder = (os.path.join(dir, folder))\n",
    "new_folder = (os.path.join(dir, folder+'_'+str(image_size)))\n",
    "\n",
    "if os.path.exists(new_folder):\n",
    "    try:\n",
    "        os.mkdir(new_folder)\n",
    "    except FileExistsError:\n",
    "        print('Folder already exists')\n",
    "        pass"
   ]
  },
  {
   "cell_type": "code",
   "execution_count": 69,
   "id": "76b37952",
   "metadata": {},
   "outputs": [
    {
     "name": "stdout",
     "output_type": "stream",
     "text": [
      "/mnt/robolab/data/Bilddaten/GAN_train_data_sydavis-ai/Powertrain18_all/Results/Batch1_Size512/samples_testing_Entluefter/A2B_FID\n",
      "/mnt/robolab/data/Bilddaten/GAN_train_data_sydavis-ai/Powertrain18_all/Results/Batch1_Size512/samples_testing_Entluefter/A2B_FID_1024\n"
     ]
    }
   ],
   "source": [
    "print(os.path.join(old_folder))\n",
    "print(os.path.join(dir, folder+'_'+str(image_size)))"
   ]
  },
  {
   "cell_type": "markdown",
   "id": "a1f9315f",
   "metadata": {},
   "source": [
    "#### 1.3 Function for upsampling images of 256-256 or 512-512 to images with size 1024-1024"
   ]
  },
  {
   "cell_type": "code",
   "execution_count": 16,
   "id": "4f61b062",
   "metadata": {},
   "outputs": [],
   "source": [
    "def resize_upsampling(old_folder, new_folder, size):\n",
    "    dim = (size, size)\n",
    "    for image in os.listdir(old_folder):\n",
    "        img = cv2.imread(os.path.join(old_folder, image))\n",
    "        # INTER_CUBIC or INTER_LANCZOS4\n",
    "        img_resized = cv2.resize(img, dim, interpolation = cv2.INTER_LANCZOS4)\n",
    "        print('Shape: '+str(img.shape)+' is now resized to: '+str(img_resized.shape))\n",
    "        cv2.imwrite(os.path.join(new_folder , image),img_resized)\n",
    "        \n",
    "def resize_downsampling(old_folder, new_folder, size):\n",
    "    dim = (size, size)\n",
    "    for image in os.listdir(old_folder):\n",
    "        img = cv2.imread(os.path.join(old_folder, image))\n",
    "        img_resized = cv2.resize(img, dim, interpolation = cv2.INTER_AREA)\n",
    "        print('Shape: '+str(img.shape)+' is now resized to: '+str(img_resized.shape))\n",
    "        cv2.imwrite(os.path.join(new_folder , image),img_resized)"
   ]
  },
  {
   "cell_type": "markdown",
   "id": "b1419ef7",
   "metadata": {},
   "source": [
    "#### 1.4 Run the aforementoined function"
   ]
  },
  {
   "cell_type": "code",
   "execution_count": 35,
   "id": "2034aa99",
   "metadata": {
    "scrolled": true
   },
   "outputs": [
    {
     "name": "stdout",
     "output_type": "stream",
     "text": [
      "Shape: (1080, 1920, 3) is now resized to: (1024, 1024, 3)\n",
      "Shape: (1080, 1920, 3) is now resized to: (1024, 1024, 3)\n",
      "Shape: (1080, 1920, 3) is now resized to: (1024, 1024, 3)\n",
      "Shape: (1080, 1920, 3) is now resized to: (1024, 1024, 3)\n",
      "Shape: (1080, 1920, 3) is now resized to: (1024, 1024, 3)\n",
      "Shape: (1080, 1920, 3) is now resized to: (1024, 1024, 3)\n",
      "Shape: (1080, 1920, 3) is now resized to: (1024, 1024, 3)\n",
      "Shape: (1080, 1920, 3) is now resized to: (1024, 1024, 3)\n",
      "Shape: (1080, 1920, 3) is now resized to: (1024, 1024, 3)\n",
      "Shape: (1080, 1920, 3) is now resized to: (1024, 1024, 3)\n",
      "Shape: (1080, 1920, 3) is now resized to: (1024, 1024, 3)\n",
      "Shape: (1080, 1920, 3) is now resized to: (1024, 1024, 3)\n",
      "Shape: (1080, 1920, 3) is now resized to: (1024, 1024, 3)\n",
      "Shape: (1080, 1920, 3) is now resized to: (1024, 1024, 3)\n",
      "Shape: (1080, 1920, 3) is now resized to: (1024, 1024, 3)\n",
      "Shape: (1080, 1920, 3) is now resized to: (1024, 1024, 3)\n",
      "Shape: (1080, 1920, 3) is now resized to: (1024, 1024, 3)\n",
      "Shape: (1080, 1920, 3) is now resized to: (1024, 1024, 3)\n",
      "Shape: (1080, 1920, 3) is now resized to: (1024, 1024, 3)\n",
      "Shape: (1080, 1920, 3) is now resized to: (1024, 1024, 3)\n"
     ]
    }
   ],
   "source": [
    "resize_upsampling(old_folder, new_folder, 1024)"
   ]
  },
  {
   "cell_type": "markdown",
   "id": "bfa3d6de",
   "metadata": {},
   "source": [
    "#### Resize the syntetic image masks to 1024-1024"
   ]
  },
  {
   "cell_type": "code",
   "execution_count": 118,
   "id": "02e5aa08",
   "metadata": {},
   "outputs": [],
   "source": [
    "dir2 = '/mnt/robolab/data/Bilddaten/GAN_train_data_sydavis-ai/Evaluation/BatchSize/Wandlerhalter'\n",
    "folder = 'SegmentationMasks'"
   ]
  },
  {
   "cell_type": "code",
   "execution_count": 122,
   "id": "a4c07467",
   "metadata": {
    "scrolled": false
   },
   "outputs": [],
   "source": [
    "size = 1024\n",
    "old_folder = (os.path.join(dir2, folder))\n",
    "masks_syn_1024 = (os.path.join(dir2, folder+'_'+str(size)))\n",
    "\n",
    "if os.path.exists(masks_syn_1024):\n",
    "    try:\n",
    "        os.mkdir(masks_syn_1024)\n",
    "    except FileExistsError:\n",
    "        print('Folder already exists')\n",
    "resize_downsampling(old_folder, masks_syn_1024, size)"
   ]
  },
  {
   "cell_type": "markdown",
   "id": "5aec9d48",
   "metadata": {},
   "source": [
    "## 2. Use the annotation Tool Labelme to create polygons for GAN Images in JSON format"
   ]
  },
  {
   "cell_type": "markdown",
   "id": "3476f5f0",
   "metadata": {},
   "source": [
    "We than use the JSON files with polygon data to create semantic segmentation mask - no instance segmentation needed, because we do not need to differenciate between distinct features. We use the bash and python skript in this directory to do the mask translation."
   ]
  },
  {
   "cell_type": "code",
   "execution_count": 80,
   "id": "e3e1dff8",
   "metadata": {},
   "outputs": [
    {
     "name": "stdout",
     "output_type": "stream",
     "text": [
      "augmentation.py\n",
      "data.py\n",
      "datasets\n",
      "download_dataset.sh\n",
      "FeatureConsistencyScore_2.0-BlattfederBatch1.ipynb\n",
      "FeatureConsistencyScore_2.0-BlattfederBatch2.ipynb\n",
      "FeatureConsistencyScore_2.0-BlattfederBatch4.ipynb\n",
      "FeatureConsistencyScore_2.0-EntluefterBatch1.ipynb\n",
      "FeatureConsistencyScore_2.0-EntluefterBatch2.ipynb\n",
      "FeatureConsistencyScore_2.0.ipynb\n",
      "FeatureConsistencyScore_2.1-EntluefterBatch4.ipynb\n",
      "FeatureConsistencyScore_2.1-GetriebeflanschBatch1.ipynb\n",
      "FeatureConsistencyScore_2.2-GetriebeflanschBatch1.ipynb\n",
      "FeatureConsistencyScore_2.2-GetriebeflanschBatch2.ipynb\n",
      "FeatureConsistencyScore_2.2-GetriebeflanschBatch4.ipynb\n",
      "FeatureConsistencyScore_2.2-PT18-BlattfederBatch1-2-4.ipynb\n",
      "FeatureConsistencyScore_2.2-PT18-EntluefterBatch1-2-4.ipynb\n",
      "FeatureConsistencyScore_2.2-PT18-GetriebeflanschBatch1-2-4.ipynb\n",
      "FeatureConsistencyScore_2.2-PT18-WandlerhalterBatch1-2-4.ipynb\n",
      "FeatureConsistencyScore_2.2-WandlerhalterBatch1.ipynb\n",
      "FeatureConsistencyScore_2.2-WandlerhalterBatch2.ipynb\n",
      "FeatureConsistencyScore_2.2-WandlerhalterBatch4.ipynb\n",
      "fid.py\n",
      "filename.txt\n",
      "imlib\n",
      "interpolation.py\n",
      "labelme2coco.py\n",
      "labelme2voc.py\n",
      "labels.txt\n",
      "LICENSE\n",
      "mask-score.ipynb\n",
      "module.py\n",
      "Notebook_Archive\n",
      "output\n",
      "path\n",
      "__pycache__\n",
      "pylib\n",
      "README.md\n",
      "resize_images_pascalvoc\n",
      "test.py\n",
      "tf2gan\n",
      "tf2lib\n",
      "train.py\n",
      "/home/molu1019/workspace/CycleGAN-Tensorflow-2\n"
     ]
    }
   ],
   "source": [
    "!ls\n",
    "!pwd"
   ]
  },
  {
   "cell_type": "markdown",
   "id": "2a3f5cd1",
   "metadata": {},
   "source": [
    "Insert the folder path as **input_dir** where the GAN transformed images with corresponding JSON label are located."
   ]
  },
  {
   "cell_type": "code",
   "execution_count": 101,
   "id": "2811973a",
   "metadata": {},
   "outputs": [
    {
     "name": "stdout",
     "output_type": "stream",
     "text": [
      "/mnt/robolab/data/Bilddaten/GAN_train_data_sydavis-ai/Evaluation/BatchSize/Wandlerhalter/Batch4_joint_WH_mask\n"
     ]
    }
   ],
   "source": [
    "input_dir = path_GAN\n",
    "output_dir = input_dir+'_mask'\n",
    "print(output_dir)"
   ]
  },
  {
   "cell_type": "code",
   "execution_count": 27,
   "id": "96657eb5",
   "metadata": {},
   "outputs": [
    {
     "name": "stdout",
     "output_type": "stream",
     "text": [
      "Output directory already exists: /mnt/robolab/data/Bilddaten/GAN_train_data_sydavis-ai/Evaluation/BatchSize/Wandlerhalter/Batch4_joint_WH_mask\r\n"
     ]
    }
   ],
   "source": [
    "!python3 labelme2voc.py $input_dir $output_dir --labels labels.txt"
   ]
  },
  {
   "cell_type": "code",
   "execution_count": 7,
   "id": "31772350",
   "metadata": {},
   "outputs": [],
   "source": [
    "masks_gan = output_dir+'/SegmentationObjectPNG'"
   ]
  },
  {
   "cell_type": "markdown",
   "id": "c8c93cbb",
   "metadata": {},
   "source": [
    "## 3. GAN Image Data\n",
    "### 3.1 Prepare Data: Create Folder with binary images"
   ]
  },
  {
   "cell_type": "code",
   "execution_count": 257,
   "id": "8427b343",
   "metadata": {},
   "outputs": [],
   "source": [
    "def binarize(im_path, threshold=10):\n",
    "    \"\"\"Read, binarize and save images as png.\n",
    "    Args:\n",
    "        path: Path for folder of png images.\n",
    "    \"\"\"\n",
    "    masks_binarized = im_path+'_binarized'\n",
    "    os.mkdir(masks_binarized)\n",
    "    \n",
    "    print(im_path)\n",
    "    print(masks_binarized)\n",
    "    \n",
    "    path = os.path.join(im_path, '*.png')\n",
    "    files = list(glob.glob(path))\n",
    "    files.sort(reverse=True)\n",
    "    print(files)\n",
    "    \n",
    "    for file in files:\n",
    "        size=1024\n",
    "        img = Image.open(file).convert('L')\n",
    "        img = np.array(img)\n",
    "        #print(img[210,:-50])\n",
    "\n",
    "        # störungen im Bild:\n",
    "        #16 128 148  35 31 143 153 16 128 153 153 153 153 127  15   0  10 116  35\n",
    "        thresh = threshold\n",
    "        Flansch = 89\n",
    "        Abdeckung = 76\n",
    "        Mutter =174\n",
    "        Wandler_stoerung= 153\n",
    "        Wandler = 157\n",
    "\n",
    "        im_bool = img > thresh\n",
    "        #im_bool = np.logical_or(img == Wandler, img ==4)    \n",
    "        #im_bool = img == Wandler\n",
    "\n",
    "        maxval = 255\n",
    "        im_bin = (img > thresh) * maxval\n",
    "\n",
    "        #save array to images\n",
    "        im_save_bi = Image.fromarray(np.uint8(im_bin))\n",
    "        im_save_bool = Image.fromarray((im_bool))\n",
    "        \n",
    "        image = im_save_bool\n",
    "        plt.imshow(image)\n",
    "        bbox = image.getbbox()\n",
    "        plt.title(f'Bbox: {bbox} Name: {file[-10:]}')\n",
    "        image.save(os.path.join(masks_binarized,file[-10:]))\n",
    "\n",
    "    #return im_save_bool"
   ]
  },
  {
   "cell_type": "code",
   "execution_count": 258,
   "id": "f48a8d1b",
   "metadata": {},
   "outputs": [
    {
     "name": "stdout",
     "output_type": "stream",
     "text": [
      "/mnt/robolab/data/Bilddaten/GAN_train_data_sydavis-ai/Evaluation/BatchSize/Wandlerhalter/Batch4_joint_WH_mask/SegmentationObjectPNG\n",
      "/mnt/robolab/data/Bilddaten/GAN_train_data_sydavis-ai/Evaluation/BatchSize/Wandlerhalter/Batch4_joint_WH_mask/SegmentationObjectPNG_binarized\n"
     ]
    }
   ],
   "source": [
    "#test GAN Data\n",
    "masks_gan = path_GAN+'_mask'+'/SegmentationObjectPNG'\n",
    "masks_gan_binarized = masks_gan+'_binarized'\n",
    "print(masks_gan)\n",
    "print(masks_gan_binarized)"
   ]
  },
  {
   "cell_type": "code",
   "execution_count": 260,
   "id": "95c02e7d",
   "metadata": {},
   "outputs": [
    {
     "name": "stdout",
     "output_type": "stream",
     "text": [
      "/mnt/robolab/data/Bilddaten/GAN_train_data_sydavis-ai/Evaluation/BatchSize/Wandlerhalter/Batch4_joint_WH_mask/SegmentationObjectPNG\n",
      "/mnt/robolab/data/Bilddaten/GAN_train_data_sydavis-ai/Evaluation/BatchSize/Wandlerhalter/Batch4_joint_WH_mask/SegmentationObjectPNG_binarized\n",
      "['/mnt/robolab/data/Bilddaten/GAN_train_data_sydavis-ai/Evaluation/BatchSize/Wandlerhalter/Batch4_joint_WH_mask/SegmentationObjectPNG/rgb_19897.png', '/mnt/robolab/data/Bilddaten/GAN_train_data_sydavis-ai/Evaluation/BatchSize/Wandlerhalter/Batch4_joint_WH_mask/SegmentationObjectPNG/rgb_19863.png', '/mnt/robolab/data/Bilddaten/GAN_train_data_sydavis-ai/Evaluation/BatchSize/Wandlerhalter/Batch4_joint_WH_mask/SegmentationObjectPNG/rgb_19796.png', '/mnt/robolab/data/Bilddaten/GAN_train_data_sydavis-ai/Evaluation/BatchSize/Wandlerhalter/Batch4_joint_WH_mask/SegmentationObjectPNG/rgb_19764.png', '/mnt/robolab/data/Bilddaten/GAN_train_data_sydavis-ai/Evaluation/BatchSize/Wandlerhalter/Batch4_joint_WH_mask/SegmentationObjectPNG/rgb_19634.png', '/mnt/robolab/data/Bilddaten/GAN_train_data_sydavis-ai/Evaluation/BatchSize/Wandlerhalter/Batch4_joint_WH_mask/SegmentationObjectPNG/rgb_19601.png', '/mnt/robolab/data/Bilddaten/GAN_train_data_sydavis-ai/Evaluation/BatchSize/Wandlerhalter/Batch4_joint_WH_mask/SegmentationObjectPNG/rgb_19537.png', '/mnt/robolab/data/Bilddaten/GAN_train_data_sydavis-ai/Evaluation/BatchSize/Wandlerhalter/Batch4_joint_WH_mask/SegmentationObjectPNG/rgb_19470.png', '/mnt/robolab/data/Bilddaten/GAN_train_data_sydavis-ai/Evaluation/BatchSize/Wandlerhalter/Batch4_joint_WH_mask/SegmentationObjectPNG/rgb_19402.png', '/mnt/robolab/data/Bilddaten/GAN_train_data_sydavis-ai/Evaluation/BatchSize/Wandlerhalter/Batch4_joint_WH_mask/SegmentationObjectPNG/rgb_19369.png', '/mnt/robolab/data/Bilddaten/GAN_train_data_sydavis-ai/Evaluation/BatchSize/Wandlerhalter/Batch4_joint_WH_mask/SegmentationObjectPNG/rgb_19335.png', '/mnt/robolab/data/Bilddaten/GAN_train_data_sydavis-ai/Evaluation/BatchSize/Wandlerhalter/Batch4_joint_WH_mask/SegmentationObjectPNG/rgb_19266.png', '/mnt/robolab/data/Bilddaten/GAN_train_data_sydavis-ai/Evaluation/BatchSize/Wandlerhalter/Batch4_joint_WH_mask/SegmentationObjectPNG/rgb_19134.png', '/mnt/robolab/data/Bilddaten/GAN_train_data_sydavis-ai/Evaluation/BatchSize/Wandlerhalter/Batch4_joint_WH_mask/SegmentationObjectPNG/rgb_19103.png', '/mnt/robolab/data/Bilddaten/GAN_train_data_sydavis-ai/Evaluation/BatchSize/Wandlerhalter/Batch4_joint_WH_mask/SegmentationObjectPNG/rgb_19069.png', '/mnt/robolab/data/Bilddaten/GAN_train_data_sydavis-ai/Evaluation/BatchSize/Wandlerhalter/Batch4_joint_WH_mask/SegmentationObjectPNG/rgb_19001.png', '/mnt/robolab/data/Bilddaten/GAN_train_data_sydavis-ai/Evaluation/BatchSize/Wandlerhalter/Batch4_joint_WH_mask/SegmentationObjectPNG/rgb_18967.png', '/mnt/robolab/data/Bilddaten/GAN_train_data_sydavis-ai/Evaluation/BatchSize/Wandlerhalter/Batch4_joint_WH_mask/SegmentationObjectPNG/rgb_18932.png', '/mnt/robolab/data/Bilddaten/GAN_train_data_sydavis-ai/Evaluation/BatchSize/Wandlerhalter/Batch4_joint_WH_mask/SegmentationObjectPNG/rgb_18829.png', '/mnt/robolab/data/Bilddaten/GAN_train_data_sydavis-ai/Evaluation/BatchSize/Wandlerhalter/Batch4_joint_WH_mask/SegmentationObjectPNG/rgb_18794.png']\n"
     ]
    },
    {
     "data": {
      "image/png": "[encoded data removed]",
      "text/plain": [
       "<Figure size 432x288 with 1 Axes>"
      ]
     },
     "metadata": {
      "needs_background": "light"
     },
     "output_type": "display_data"
    }
   ],
   "source": [
    "if not os.path.exists(masks_gan_binarized):\n",
    "    binarize(masks_gan)\n",
    "else: \n",
    "    print(f'Path: {masks_gan_binarized} binarized syntetic polygon masks already exists')"
   ]
  },
  {
   "cell_type": "markdown",
   "id": "4927a244",
   "metadata": {},
   "source": [
    "## 4. Syntetic Image Masks\n",
    "### 4.1 Prepare Data: Create Folder with binary images"
   ]
  },
  {
   "cell_type": "markdown",
   "id": "b5811e0c",
   "metadata": {},
   "source": [
    "#### Operation for reading png segmentation masks from folder path, resize, convert to greyscale and save imagesin new folder"
   ]
  },
  {
   "cell_type": "code",
   "execution_count": 163,
   "id": "2ed2eddd",
   "metadata": {},
   "outputs": [
    {
     "name": "stdout",
     "output_type": "stream",
     "text": [
      "/mnt/robolab/data/Bilddaten/GAN_train_data_sydavis-ai/Evaluation/BatchSize/Wandlerhalter/SegmentationMasks_1024\n",
      "/mnt/robolab/data/Bilddaten/GAN_train_data_sydavis-ai/Evaluation/BatchSize/Wandlerhalter/SegmentationMasks_1024_binarized\n"
     ]
    }
   ],
   "source": [
    "masks_syn = path_Masks_1024\n",
    "masks_syn_binarized = masks_syn+'_binarized'\n",
    "print(masks_syn)\n",
    "print(masks_syn_binarized)"
   ]
  },
  {
   "cell_type": "code",
   "execution_count": 133,
   "id": "e9ab9722",
   "metadata": {
    "scrolled": false
   },
   "outputs": [
    {
     "name": "stdout",
     "output_type": "stream",
     "text": [
      "Folder already exists\n"
     ]
    }
   ],
   "source": [
    "#test Syn Data\n",
    "if not os.path.exists(masks_syn_binarized):\n",
    "    os.mkdir(masks_syn_binarized)\n",
    "    \n",
    "    path = os.path.join(masks_syn, '*.png')\n",
    "    files = list(glob.glob(path))\n",
    "    files.sort(reverse=True)\n",
    "\n",
    "    for file in files:\n",
    "        image = binarize(file, threshold=50)\n",
    "        plt.imshow(image)\n",
    "        bbox = image.getbbox()\n",
    "        plt.title(f'Bbox: {bbox} Name: {file[-18:]}')\n",
    "        image.save(os.path.join(masks_syn_binarized,file[-18:]))\n",
    "else:\n",
    "    print('Folder already exists')\n",
    "    \n"
   ]
  },
  {
   "cell_type": "code",
   "execution_count": 180,
   "id": "1d6117f8",
   "metadata": {},
   "outputs": [
    {
     "name": "stdout",
     "output_type": "stream",
     "text": [
      "Binarized syntetic polygon masks already exists:\n",
      "/mnt/robolab/data/Bilddaten/GAN_train_data_sydavis-ai/Evaluation/BatchSize/Wandlerhalter/SegmentationMasks_1024_binarized\n"
     ]
    }
   ],
   "source": [
    "if not os.path.exists(masks_syn_binarized):\n",
    "    binarize(masks_syn)\n",
    "else:\n",
    "    print(f'Binarized syntetic polygon masks already exists:\\n{masks_syn_binarized}')"
   ]
  },
  {
   "cell_type": "code",
   "execution_count": 127,
   "id": "4d2e6950",
   "metadata": {},
   "outputs": [],
   "source": [
    "def loadpolygon():\n",
    "    return"
   ]
  },
  {
   "cell_type": "markdown",
   "id": "63d0c6cb",
   "metadata": {},
   "source": [
    "Since True is regarded as 1 and False is regarded as 0, when multiplied by 255 which is the Max value of uint8, True becomes 255 (white) and False becomes 0 (black)"
   ]
  },
  {
   "cell_type": "code",
   "execution_count": 243,
   "id": "9b8f89f5",
   "metadata": {},
   "outputs": [
    {
     "name": "stdout",
     "output_type": "stream",
     "text": [
      "/mnt/robolab/data/Bilddaten/GAN_train_data_sydavis-ai/Evaluation/BatchSize/Wandlerhalter/SegmentationMasks_1024_binarized_convex\n"
     ]
    }
   ],
   "source": [
    "masks_syn_binarized = path_Masks_1024+'_binarized'\n",
    "masks_syn_binarized_filled = masks_syn_binarized+'_convex'\n",
    "print(masks_syn_binarized_filled)"
   ]
  },
  {
   "cell_type": "code",
   "execution_count": 244,
   "id": "3522ce35",
   "metadata": {},
   "outputs": [
    {
     "name": "stdout",
     "output_type": "stream",
     "text": [
      "Filled binarized syntetic polygon masks already exists:\n",
      "/mnt/robolab/data/Bilddaten/GAN_train_data_sydavis-ai/Evaluation/BatchSize/Wandlerhalter/SegmentationMasks_1024_binarized_convex\n"
     ]
    }
   ],
   "source": [
    "if not os.path.exists(masks_syn_binarized_filled):\n",
    "    fill_polygon(masks_syn_binarized)\n",
    "else: \n",
    "    print(f'Filled binarized syntetic polygon masks already exists:\\n{masks_syn_binarized_filled}')"
   ]
  },
  {
   "cell_type": "code",
   "execution_count": 245,
   "id": "2f05058d",
   "metadata": {},
   "outputs": [],
   "source": [
    "def fill_polygon(path):\n",
    "    masks_binarized = path\n",
    "    masks_binarized_filled = masks_binarized+'_convex'\n",
    "    os.mkdir(masks_binarized_filled)\n",
    "    path_bin = os.path.join(masks_binarized, '*.png')\n",
    "    files = list(glob.glob(path_bin))\n",
    "    files.sort(reverse=True)\n",
    "    \n",
    "    for file in files:\n",
    "        image = cv2.imread(file, cv2.IMREAD_GRAYSCALE)\n",
    "\n",
    "        #print(image.shape, image.dtype)\n",
    "        contour,hierarchy = cv2.findContours(image,cv2.RETR_CCOMP,cv2.CHAIN_APPROX_SIMPLE)\n",
    "\n",
    "        for cnt in contour:\n",
    "            cv2.drawContours(image,[cnt],0,255,-1)\n",
    "\n",
    "            #image = cv2.bitwise_not(image)\n",
    "            image.dtype\n",
    "            plt.imshow(image)\n",
    "            #bbox = image.getbbox()\n",
    "            plt.title(f'Bbox: {bbox} Name: {file[-18:]}')\n",
    "            cv2.imwrite(os.path.join(masks_binarized_filled,file[-18:]),image)"
   ]
  },
  {
   "cell_type": "code",
   "execution_count": 246,
   "id": "09d014be",
   "metadata": {},
   "outputs": [],
   "source": [
    "def calculatescore(ground_truth, prediction_gan):\n",
    "    \"\"\"\n",
    "    Compute feature consitency score of two segmentation masks.\n",
    "    \n",
    "    IoU(A,B) = |A & B| / (| A U B|)\n",
    "    Dice(A,B) = 2*|A & B| / (|A| + |B|)\n",
    "\n",
    "    Args:\n",
    "        y_true: true masks, one-hot encoded.\n",
    "        y_pred: predicted masks, either softmax outputs, or one-hot encoded.\n",
    "        metric_name: metric to be computed, either 'iou' or 'dice'.\n",
    "        metric_type: one of 'standard' (default), 'soft', 'naive'.\n",
    "          In the standard version, y_pred is one-hot encoded and the mean\n",
    "          is taken only over classes that are present (in y_true or y_pred).\n",
    "          The 'soft' version of the metrics are computed without one-hot\n",
    "          encoding y_pred.\n",
    "          \n",
    "    Returns:\n",
    "        IoU of ground truth and GAN transformed syntetic Image, as a float.\n",
    "\n",
    "    Inputs are B*W*H*N tensors, with\n",
    "        B = batch size,\n",
    "        W = width,\n",
    "        H = height,\n",
    "        N = number of classes\n",
    "    \"\"\"\n",
    "    \n",
    "    # check image shape to be the same\n",
    "    assert ground_truth.shape == prediction_gan.shape, 'Input masks should be same shape, instead are {}, {}'.format(ground_truth.shape, prediction_gan.shape)\n",
    "    #print('Ground truth shape: '+str(ground_truth.shape))\n",
    "    #print('Predicted GAN image shape: '+str(prediction_gan.shape))\n",
    "    \n",
    "    intersection = np.logical_and(ground_truth, prediction_gan)\n",
    "    union = np.logical_or(ground_truth, prediction_gan)\n",
    "    mask_sum = np.sum(np.abs(union)) + np.sum(np.abs(intersection))\n",
    "    iou_score = np.sum(intersection) / np.sum(union)\n",
    "    dice_score = 2*np.sum(intersection) / np.sum(mask_sum) \n",
    "    print('IoU is: '+str(iou_score))\n",
    "    print('Dice/F1 Score is: '+str(dice_score))\n",
    "    return iou_score, dice_score"
   ]
  },
  {
   "cell_type": "markdown",
   "id": "7713902d",
   "metadata": {},
   "source": [
    "## 6. Calculate mean IoU\n",
    "Translate image mask to white RGB(255,255,255), fill convex hull, and compare masks to calculate 'Feature Consistency Score' "
   ]
  },
  {
   "cell_type": "code",
   "execution_count": 261,
   "id": "ced4a014",
   "metadata": {
    "scrolled": true
   },
   "outputs": [],
   "source": [
    "path_syn = masks_syn_binarized_filled\n",
    "path_gan = masks_gan_binarized\n",
    "path_syn = os.path.join(path_syn, '*.png')\n",
    "path_gan = os.path.join(path_gan, '*.png')\n",
    "files_syn = list(glob.glob(path_syn))\n",
    "files_gan = list(glob.glob(path_gan))\n",
    "files_syn.sort(reverse=True)\n",
    "files_gan.sort(reverse=True)\n",
    "\n",
    "combined_list = zip(files_syn, files_gan)\n",
    "z = list(combined_list)"
   ]
  },
  {
   "cell_type": "code",
   "execution_count": 262,
   "id": "6806b2eb",
   "metadata": {},
   "outputs": [
    {
     "name": "stdout",
     "output_type": "stream",
     "text": [
      "Image name: 19897.png\n",
      "IoU is: 0.9736005222629869\n",
      "Dice/F1 Score is: 0.9866236974305506\n",
      "\n",
      "\n",
      "Image name: 19863.png\n",
      "IoU is: 0.968849250313908\n",
      "Dice/F1 Score is: 0.9841781946072685\n",
      "\n",
      "\n",
      "Image name: 19796.png\n",
      "IoU is: 0.9740033226413618\n",
      "Dice/F1 Score is: 0.986830479432095\n",
      "\n",
      "\n",
      "Image name: 19764.png\n",
      "IoU is: 0.9619138120880281\n",
      "Dice/F1 Score is: 0.9805872267796324\n",
      "\n",
      "\n",
      "Image name: 19634.png\n",
      "IoU is: 0.9653466179712876\n",
      "Dice/F1 Score is: 0.9823678013273389\n",
      "\n",
      "\n",
      "Image name: 19601.png\n",
      "IoU is: 0.969461436532283\n",
      "Dice/F1 Score is: 0.9844939520514361\n",
      "\n",
      "\n",
      "Image name: 19537.png\n",
      "IoU is: 0.960609243697479\n",
      "Dice/F1 Score is: 0.979908920439325\n",
      "\n",
      "\n",
      "Image name: 19470.png\n",
      "IoU is: 0.9587670595627193\n",
      "Dice/F1 Score is: 0.978949543675456\n",
      "\n",
      "\n",
      "Image name: 19402.png\n",
      "IoU is: 0.9595617602872742\n",
      "Dice/F1 Score is: 0.979363630923887\n",
      "\n",
      "\n",
      "Image name: 19369.png\n",
      "IoU is: 0.9701530255616135\n",
      "Dice/F1 Score is: 0.9848504283417892\n",
      "\n",
      "\n",
      "Image name: 19335.png\n",
      "IoU is: 0.9727713865110954\n",
      "Dice/F1 Score is: 0.9861977856759879\n",
      "\n",
      "\n",
      "Image name: 19266.png\n",
      "IoU is: 0.967900641025641\n",
      "Dice/F1 Score is: 0.9836885265926693\n",
      "\n",
      "\n",
      "Image name: 19134.png\n",
      "IoU is: 0.969251646926453\n",
      "Dice/F1 Score is: 0.9843857674962273\n",
      "\n",
      "\n",
      "Image name: 19103.png\n",
      "IoU is: 0.9669104752127978\n",
      "Dice/F1 Score is: 0.9831769034716121\n",
      "\n",
      "\n",
      "Image name: 19069.png\n",
      "IoU is: 0.9735385187379819\n",
      "Dice/F1 Score is: 0.9865918597429052\n",
      "\n",
      "\n",
      "Image name: 19001.png\n",
      "IoU is: 0.9703575398774592\n",
      "Dice/F1 Score is: 0.9849557963351239\n",
      "\n",
      "\n",
      "Image name: 18967.png\n",
      "IoU is: 0.9653416654654604\n",
      "Dice/F1 Score is: 0.9823652369745434\n",
      "\n",
      "\n",
      "Image name: 18932.png\n",
      "IoU is: 0.9761731743975591\n",
      "Dice/F1 Score is: 0.9879429465437893\n",
      "\n",
      "\n",
      "Image name: 18829.png\n",
      "IoU is: 0.9740369763873894\n",
      "Dice/F1 Score is: 0.9868477521327262\n",
      "\n",
      "\n",
      "Image name: 18794.png\n",
      "IoU is: 0.9708953675620672\n",
      "Dice/F1 Score is: 0.9852327866222882\n",
      "\n",
      "\n",
      "Mean IoU is: 0.9684721721511422\n",
      "[0.9736005222629869, 0.968849250313908, 0.9740033226413618, 0.9619138120880281, 0.9653466179712876, 0.969461436532283, 0.960609243697479, 0.9587670595627193, 0.9595617602872742, 0.9701530255616135, 0.9727713865110954, 0.967900641025641, 0.969251646926453, 0.9669104752127978, 0.9735385187379819, 0.9703575398774592, 0.9653416654654604, 0.9761731743975591, 0.9740369763873894, 0.9708953675620672]\n",
      "\n",
      "Mean Dice score is: 0.9839769618298325\n",
      "[0.9866236974305506, 0.9841781946072685, 0.986830479432095, 0.9805872267796324, 0.9823678013273389, 0.9844939520514361, 0.979908920439325, 0.978949543675456, 0.979363630923887, 0.9848504283417892, 0.9861977856759879, 0.9836885265926693, 0.9843857674962273, 0.9831769034716121, 0.9865918597429052, 0.9849557963351239, 0.9823652369745434, 0.9879429465437893, 0.9868477521327262, 0.9852327866222882]\n"
     ]
    }
   ],
   "source": [
    "iou_list = []\n",
    "dice_list = []\n",
    "for syn, gan in zip(files_syn, files_gan):\n",
    "    img_syn = np.array(Image.open(syn))\n",
    "    img_gan = np.array(Image.open(gan))\n",
    "    print(f'Image name: {syn[-9:]}')\n",
    "    iou, dice = calculatescore(img_syn, img_gan)\n",
    "    print('\\n')\n",
    "    iou_list.append(iou)\n",
    "    dice_list.append(dice)\n",
    "    \n",
    "mean_iou = np.mean(iou_list)\n",
    "mean_dice = np.mean(dice_list)\n",
    "print(f'Mean IoU is: {mean_iou}')\n",
    "print(f'{iou_list}\\n')\n",
    "print(f'Mean Dice score is: {mean_dice}')\n",
    "print(dice_list)"
   ]
  },
  {
   "cell_type": "code",
   "execution_count": 263,
   "id": "6de20a0b",
   "metadata": {},
   "outputs": [],
   "source": [
    "import sys\n",
    "base_dir = input_dir\n",
    "prefix = 'batch4'\n",
    "score_name = prefix+'_score.txt'\n",
    "path = os.path.join(base_dir,score_name)\n",
    "\n",
    "if not os.path.exists(path):\n",
    "    try:\n",
    "        os.mknod(path)\n",
    "    except FileExistsError:\n",
    "        print('Folder already exists')\n",
    "        pass \n",
    "\n",
    "original_stdout = sys.stdout             # Save a reference to the original standard output\n",
    "\n",
    "with open(path, 'w') as f:\n",
    "    sys.stdout = f                       # Change the standard output to the file we created.\n",
    "    iou_list = []\n",
    "    dice_list = []\n",
    "    print(f'Consistency Metrics for {prefix}:\\n')\n",
    "    for syn, gan in zip(files_syn, files_gan):\n",
    "        img_syn = np.array(Image.open(syn))\n",
    "        img_gan = np.array(Image.open(gan))\n",
    "        print(f'Image name: {syn[-9:]}')\n",
    "        iou, dice = calculatescore(img_syn, img_gan)\n",
    "        print('\\n')\n",
    "        iou_list.append(iou)\n",
    "        dice_list.append(dice)\n",
    "\n",
    "    mean_iou = np.mean(iou_list)\n",
    "    mean_dice = np.mean(dice_list)\n",
    "    print(f'Mean IoU is: {mean_iou}')\n",
    "    print(f'{iou_list}\\n')\n",
    "    print(f'Mean Dice score is: {mean_dice}')\n",
    "    print(dice_list)\n",
    "    sys.stdout = original_stdout         # Reset the standard output to its original value\n",
    "f.close()"
   ]
  },
  {
   "cell_type": "code",
   "execution_count": null,
   "id": "cb912309",
   "metadata": {},
   "outputs": [],
   "source": [
    "#overlapping of 2 masks\n",
    "#Image.blend()"
   ]
  }
 ],
 "metadata": {
  "kernelspec": {
   "display_name": "Python 3.6.9 64-bit ('cygan': virtualenv)",
   "language": "python",
   "name": "python369jvsc74a57bd0987972a5af0063b4ad0c1bc948181328354b4e09dc76cc55a6609915adabc773"
  },
  "language_info": {
   "codemirror_mode": {
    "name": "ipython",
    "version": 3
   },
   "file_extension": ".py",
   "mimetype": "text/x-python",
   "name": "python",
   "nbconvert_exporter": "python",
   "pygments_lexer": "ipython3",
   "version": "3.6.9"
  }
 },
 "nbformat": 4,
 "nbformat_minor": 5
}
