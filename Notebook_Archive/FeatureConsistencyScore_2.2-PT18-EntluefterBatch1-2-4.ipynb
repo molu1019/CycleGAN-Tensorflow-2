{
 "cells": [
  {
   "cell_type": "markdown",
   "id": "a06cd1d4",
   "metadata": {},
   "source": [
    "## Notebook for calculating Mask Consistency Score for GAN-transformed images"
   ]
  },
  {
   "cell_type": "code",
   "execution_count": 38,
   "id": "900e2b4d",
   "metadata": {},
   "outputs": [],
   "source": [
    "from PIL import Image\n",
    "import cv2\n",
    "from matplotlib import pyplot as plt\n",
    "import tensorflow as tf\n",
    "import glob, os\n",
    "import numpy as np\n",
    "import sys\n",
    "import matplotlib.image as mpimg\n",
    "#from keras.preprocessing.image import img_to_array, array_to_img"
   ]
  },
  {
   "cell_type": "markdown",
   "id": "ebd58ed4",
   "metadata": {},
   "source": [
    "## 1. Resize GAN-transformed Dataset to 1024*1024"
   ]
  },
  {
   "cell_type": "markdown",
   "id": "d00c6def",
   "metadata": {},
   "source": [
    "#### 1.1 Specify Args: Directory, folder name and the new image size"
   ]
  },
  {
   "cell_type": "code",
   "execution_count": 67,
   "id": "bab0c67e",
   "metadata": {},
   "outputs": [],
   "source": [
    "dir = '/mnt/robolab/data/Bilddaten/GAN_train_data_sydavis-ai/Powertrain18_all/Results/Batch1_Size512/samples_testing_Entluefter'"
   ]
  },
  {
   "cell_type": "markdown",
   "id": "9b400c36",
   "metadata": {},
   "source": [
    "#### 1.2 Create new Folder \"/A2B_FID_1024\" in Directory"
   ]
  },
  {
   "cell_type": "code",
   "execution_count": 68,
   "id": "520e04ef",
   "metadata": {},
   "outputs": [],
   "source": [
    "folder = 'A2B_FID'\n",
    "image_size = 1024\n",
    "old_folder = (os.path.join(dir, folder))\n",
    "new_folder = (os.path.join(dir, folder+'_'+str(image_size)))\n",
    "\n",
    "if not os.path.exists(new_folder):\n",
    "    try:\n",
    "        os.mkdir(new_folder)\n",
    "    except FileExistsError:\n",
    "        print('Folder already exists')\n",
    "        pass"
   ]
  },
  {
   "cell_type": "code",
   "execution_count": 69,
   "id": "76b37952",
   "metadata": {},
   "outputs": [
    {
     "name": "stdout",
     "output_type": "stream",
     "text": [
      "/mnt/robolab/data/Bilddaten/GAN_train_data_sydavis-ai/Powertrain18_all/Results/Batch1_Size512/samples_testing_Entluefter/A2B_FID\n",
      "/mnt/robolab/data/Bilddaten/GAN_train_data_sydavis-ai/Powertrain18_all/Results/Batch1_Size512/samples_testing_Entluefter/A2B_FID_1024\n"
     ]
    }
   ],
   "source": [
    "print(os.path.join(old_folder))\n",
    "print(os.path.join(dir, folder+'_'+str(image_size)))"
   ]
  },
  {
   "cell_type": "markdown",
   "id": "a1f9315f",
   "metadata": {},
   "source": [
    "#### 1.3 Function for upsampling images of 256-256 or 512-512 to images with size 1024-1024"
   ]
  },
  {
   "cell_type": "code",
   "execution_count": 70,
   "id": "4f61b062",
   "metadata": {},
   "outputs": [],
   "source": [
    "def resize_upsampling(old_folder, new_folder, size):\n",
    "    dim = (size, size)\n",
    "    for image in os.listdir(old_folder):\n",
    "        img = cv2.imread(os.path.join(old_folder, image))\n",
    "        # INTER_CUBIC or INTER_LANCZOS4\n",
    "        img_resized = cv2.resize(img, dim, interpolation = cv2.INTER_LANCZOS4)\n",
    "        print('Shape: '+str(img.shape)+' is now resized to: '+str(img_resized.shape))\n",
    "        cv2.imwrite(os.path.join(new_folder , image),img_resized)\n",
    "        \n",
    "def resize_downsampling(old_folder, new_folder, size):\n",
    "    dim = (size, size)\n",
    "    for image in os.listdir(old_folder):\n",
    "        img = cv2.imread(os.path.join(old_folder, image))\n",
    "        img_resized = cv2.resize(img, dim, interpolation = cv2.INTER_AREA)\n",
    "        print('Shape: '+str(img.shape)+' is now resized to: '+str(img_resized.shape))\n",
    "        cv2.imwrite(os.path.join(new_folder , image),img_resized)"
   ]
  },
  {
   "cell_type": "markdown",
   "id": "b1419ef7",
   "metadata": {},
   "source": [
    "#### 1.4 Run the aforementoined function"
   ]
  },
  {
   "cell_type": "code",
   "execution_count": 71,
   "id": "2034aa99",
   "metadata": {
    "scrolled": true
   },
   "outputs": [
    {
     "name": "stdout",
     "output_type": "stream",
     "text": [
      "Shape: (512, 512, 3) is now resized to: (1024, 1024, 3)\n",
      "Shape: (512, 512, 3) is now resized to: (1024, 1024, 3)\n",
      "Shape: (512, 512, 3) is now resized to: (1024, 1024, 3)\n",
      "Shape: (512, 512, 3) is now resized to: (1024, 1024, 3)\n",
      "Shape: (512, 512, 3) is now resized to: (1024, 1024, 3)\n",
      "Shape: (512, 512, 3) is now resized to: (1024, 1024, 3)\n",
      "Shape: (512, 512, 3) is now resized to: (1024, 1024, 3)\n",
      "Shape: (512, 512, 3) is now resized to: (1024, 1024, 3)\n",
      "Shape: (512, 512, 3) is now resized to: (1024, 1024, 3)\n",
      "Shape: (512, 512, 3) is now resized to: (1024, 1024, 3)\n",
      "Shape: (512, 512, 3) is now resized to: (1024, 1024, 3)\n",
      "Shape: (512, 512, 3) is now resized to: (1024, 1024, 3)\n",
      "Shape: (512, 512, 3) is now resized to: (1024, 1024, 3)\n",
      "Shape: (512, 512, 3) is now resized to: (1024, 1024, 3)\n",
      "Shape: (512, 512, 3) is now resized to: (1024, 1024, 3)\n",
      "Shape: (512, 512, 3) is now resized to: (1024, 1024, 3)\n",
      "Shape: (512, 512, 3) is now resized to: (1024, 1024, 3)\n",
      "Shape: (512, 512, 3) is now resized to: (1024, 1024, 3)\n",
      "Shape: (512, 512, 3) is now resized to: (1024, 1024, 3)\n",
      "Shape: (512, 512, 3) is now resized to: (1024, 1024, 3)\n",
      "Shape: (512, 512, 3) is now resized to: (1024, 1024, 3)\n",
      "Shape: (512, 512, 3) is now resized to: (1024, 1024, 3)\n",
      "Shape: (512, 512, 3) is now resized to: (1024, 1024, 3)\n",
      "Shape: (512, 512, 3) is now resized to: (1024, 1024, 3)\n",
      "Shape: (512, 512, 3) is now resized to: (1024, 1024, 3)\n",
      "Shape: (512, 512, 3) is now resized to: (1024, 1024, 3)\n",
      "Shape: (512, 512, 3) is now resized to: (1024, 1024, 3)\n",
      "Shape: (512, 512, 3) is now resized to: (1024, 1024, 3)\n",
      "Shape: (512, 512, 3) is now resized to: (1024, 1024, 3)\n",
      "Shape: (512, 512, 3) is now resized to: (1024, 1024, 3)\n",
      "Shape: (512, 512, 3) is now resized to: (1024, 1024, 3)\n",
      "Shape: (512, 512, 3) is now resized to: (1024, 1024, 3)\n",
      "Shape: (512, 512, 3) is now resized to: (1024, 1024, 3)\n",
      "Shape: (512, 512, 3) is now resized to: (1024, 1024, 3)\n",
      "Shape: (512, 512, 3) is now resized to: (1024, 1024, 3)\n",
      "Shape: (512, 512, 3) is now resized to: (1024, 1024, 3)\n",
      "Shape: (512, 512, 3) is now resized to: (1024, 1024, 3)\n",
      "Shape: (512, 512, 3) is now resized to: (1024, 1024, 3)\n",
      "Shape: (512, 512, 3) is now resized to: (1024, 1024, 3)\n",
      "Shape: (512, 512, 3) is now resized to: (1024, 1024, 3)\n",
      "Shape: (512, 512, 3) is now resized to: (1024, 1024, 3)\n",
      "Shape: (512, 512, 3) is now resized to: (1024, 1024, 3)\n",
      "Shape: (512, 512, 3) is now resized to: (1024, 1024, 3)\n",
      "Shape: (512, 512, 3) is now resized to: (1024, 1024, 3)\n",
      "Shape: (512, 512, 3) is now resized to: (1024, 1024, 3)\n",
      "Shape: (512, 512, 3) is now resized to: (1024, 1024, 3)\n",
      "Shape: (512, 512, 3) is now resized to: (1024, 1024, 3)\n",
      "Shape: (512, 512, 3) is now resized to: (1024, 1024, 3)\n",
      "Shape: (512, 512, 3) is now resized to: (1024, 1024, 3)\n",
      "Shape: (512, 512, 3) is now resized to: (1024, 1024, 3)\n",
      "Shape: (512, 512, 3) is now resized to: (1024, 1024, 3)\n",
      "Shape: (512, 512, 3) is now resized to: (1024, 1024, 3)\n",
      "Shape: (512, 512, 3) is now resized to: (1024, 1024, 3)\n",
      "Shape: (512, 512, 3) is now resized to: (1024, 1024, 3)\n",
      "Shape: (512, 512, 3) is now resized to: (1024, 1024, 3)\n",
      "Shape: (512, 512, 3) is now resized to: (1024, 1024, 3)\n",
      "Shape: (512, 512, 3) is now resized to: (1024, 1024, 3)\n",
      "Shape: (512, 512, 3) is now resized to: (1024, 1024, 3)\n",
      "Shape: (512, 512, 3) is now resized to: (1024, 1024, 3)\n",
      "Shape: (512, 512, 3) is now resized to: (1024, 1024, 3)\n",
      "Shape: (512, 512, 3) is now resized to: (1024, 1024, 3)\n",
      "Shape: (512, 512, 3) is now resized to: (1024, 1024, 3)\n",
      "Shape: (512, 512, 3) is now resized to: (1024, 1024, 3)\n",
      "Shape: (512, 512, 3) is now resized to: (1024, 1024, 3)\n",
      "Shape: (512, 512, 3) is now resized to: (1024, 1024, 3)\n",
      "Shape: (512, 512, 3) is now resized to: (1024, 1024, 3)\n",
      "Shape: (512, 512, 3) is now resized to: (1024, 1024, 3)\n",
      "Shape: (512, 512, 3) is now resized to: (1024, 1024, 3)\n",
      "Shape: (512, 512, 3) is now resized to: (1024, 1024, 3)\n",
      "Shape: (512, 512, 3) is now resized to: (1024, 1024, 3)\n",
      "Shape: (512, 512, 3) is now resized to: (1024, 1024, 3)\n",
      "Shape: (512, 512, 3) is now resized to: (1024, 1024, 3)\n",
      "Shape: (512, 512, 3) is now resized to: (1024, 1024, 3)\n",
      "Shape: (512, 512, 3) is now resized to: (1024, 1024, 3)\n",
      "Shape: (512, 512, 3) is now resized to: (1024, 1024, 3)\n",
      "Shape: (512, 512, 3) is now resized to: (1024, 1024, 3)\n",
      "Shape: (512, 512, 3) is now resized to: (1024, 1024, 3)\n",
      "Shape: (512, 512, 3) is now resized to: (1024, 1024, 3)\n",
      "Shape: (512, 512, 3) is now resized to: (1024, 1024, 3)\n",
      "Shape: (512, 512, 3) is now resized to: (1024, 1024, 3)\n",
      "Shape: (512, 512, 3) is now resized to: (1024, 1024, 3)\n",
      "Shape: (512, 512, 3) is now resized to: (1024, 1024, 3)\n",
      "Shape: (512, 512, 3) is now resized to: (1024, 1024, 3)\n",
      "Shape: (512, 512, 3) is now resized to: (1024, 1024, 3)\n",
      "Shape: (512, 512, 3) is now resized to: (1024, 1024, 3)\n",
      "Shape: (512, 512, 3) is now resized to: (1024, 1024, 3)\n",
      "Shape: (512, 512, 3) is now resized to: (1024, 1024, 3)\n",
      "Shape: (512, 512, 3) is now resized to: (1024, 1024, 3)\n",
      "Shape: (512, 512, 3) is now resized to: (1024, 1024, 3)\n",
      "Shape: (512, 512, 3) is now resized to: (1024, 1024, 3)\n",
      "Shape: (512, 512, 3) is now resized to: (1024, 1024, 3)\n",
      "Shape: (512, 512, 3) is now resized to: (1024, 1024, 3)\n",
      "Shape: (512, 512, 3) is now resized to: (1024, 1024, 3)\n",
      "Shape: (512, 512, 3) is now resized to: (1024, 1024, 3)\n",
      "Shape: (512, 512, 3) is now resized to: (1024, 1024, 3)\n",
      "Shape: (512, 512, 3) is now resized to: (1024, 1024, 3)\n",
      "Shape: (512, 512, 3) is now resized to: (1024, 1024, 3)\n",
      "Shape: (512, 512, 3) is now resized to: (1024, 1024, 3)\n",
      "Shape: (512, 512, 3) is now resized to: (1024, 1024, 3)\n",
      "Shape: (512, 512, 3) is now resized to: (1024, 1024, 3)\n",
      "Shape: (512, 512, 3) is now resized to: (1024, 1024, 3)\n",
      "Shape: (512, 512, 3) is now resized to: (1024, 1024, 3)\n",
      "Shape: (512, 512, 3) is now resized to: (1024, 1024, 3)\n",
      "Shape: (512, 512, 3) is now resized to: (1024, 1024, 3)\n",
      "Shape: (512, 512, 3) is now resized to: (1024, 1024, 3)\n",
      "Shape: (512, 512, 3) is now resized to: (1024, 1024, 3)\n",
      "Shape: (512, 512, 3) is now resized to: (1024, 1024, 3)\n",
      "Shape: (512, 512, 3) is now resized to: (1024, 1024, 3)\n",
      "Shape: (512, 512, 3) is now resized to: (1024, 1024, 3)\n",
      "Shape: (512, 512, 3) is now resized to: (1024, 1024, 3)\n",
      "Shape: (512, 512, 3) is now resized to: (1024, 1024, 3)\n",
      "Shape: (512, 512, 3) is now resized to: (1024, 1024, 3)\n",
      "Shape: (512, 512, 3) is now resized to: (1024, 1024, 3)\n",
      "Shape: (512, 512, 3) is now resized to: (1024, 1024, 3)\n",
      "Shape: (512, 512, 3) is now resized to: (1024, 1024, 3)\n",
      "Shape: (512, 512, 3) is now resized to: (1024, 1024, 3)\n",
      "Shape: (512, 512, 3) is now resized to: (1024, 1024, 3)\n",
      "Shape: (512, 512, 3) is now resized to: (1024, 1024, 3)\n",
      "Shape: (512, 512, 3) is now resized to: (1024, 1024, 3)\n",
      "Shape: (512, 512, 3) is now resized to: (1024, 1024, 3)\n",
      "Shape: (512, 512, 3) is now resized to: (1024, 1024, 3)\n",
      "Shape: (512, 512, 3) is now resized to: (1024, 1024, 3)\n",
      "Shape: (512, 512, 3) is now resized to: (1024, 1024, 3)\n",
      "Shape: (512, 512, 3) is now resized to: (1024, 1024, 3)\n",
      "Shape: (512, 512, 3) is now resized to: (1024, 1024, 3)\n",
      "Shape: (512, 512, 3) is now resized to: (1024, 1024, 3)\n",
      "Shape: (512, 512, 3) is now resized to: (1024, 1024, 3)\n",
      "Shape: (512, 512, 3) is now resized to: (1024, 1024, 3)\n",
      "Shape: (512, 512, 3) is now resized to: (1024, 1024, 3)\n",
      "Shape: (512, 512, 3) is now resized to: (1024, 1024, 3)\n",
      "Shape: (512, 512, 3) is now resized to: (1024, 1024, 3)\n",
      "Shape: (512, 512, 3) is now resized to: (1024, 1024, 3)\n",
      "Shape: (512, 512, 3) is now resized to: (1024, 1024, 3)\n",
      "Shape: (512, 512, 3) is now resized to: (1024, 1024, 3)\n",
      "Shape: (512, 512, 3) is now resized to: (1024, 1024, 3)\n",
      "Shape: (512, 512, 3) is now resized to: (1024, 1024, 3)\n",
      "Shape: (512, 512, 3) is now resized to: (1024, 1024, 3)\n",
      "Shape: (512, 512, 3) is now resized to: (1024, 1024, 3)\n",
      "Shape: (512, 512, 3) is now resized to: (1024, 1024, 3)\n",
      "Shape: (512, 512, 3) is now resized to: (1024, 1024, 3)\n",
      "Shape: (512, 512, 3) is now resized to: (1024, 1024, 3)\n",
      "Shape: (512, 512, 3) is now resized to: (1024, 1024, 3)\n",
      "Shape: (512, 512, 3) is now resized to: (1024, 1024, 3)\n",
      "Shape: (512, 512, 3) is now resized to: (1024, 1024, 3)\n",
      "Shape: (512, 512, 3) is now resized to: (1024, 1024, 3)\n",
      "Shape: (512, 512, 3) is now resized to: (1024, 1024, 3)\n",
      "Shape: (512, 512, 3) is now resized to: (1024, 1024, 3)\n"
     ]
    },
    {
     "name": "stdout",
     "output_type": "stream",
     "text": [
      "Shape: (512, 512, 3) is now resized to: (1024, 1024, 3)\n",
      "Shape: (512, 512, 3) is now resized to: (1024, 1024, 3)\n",
      "Shape: (512, 512, 3) is now resized to: (1024, 1024, 3)\n",
      "Shape: (512, 512, 3) is now resized to: (1024, 1024, 3)\n",
      "Shape: (512, 512, 3) is now resized to: (1024, 1024, 3)\n",
      "Shape: (512, 512, 3) is now resized to: (1024, 1024, 3)\n",
      "Shape: (512, 512, 3) is now resized to: (1024, 1024, 3)\n",
      "Shape: (512, 512, 3) is now resized to: (1024, 1024, 3)\n",
      "Shape: (512, 512, 3) is now resized to: (1024, 1024, 3)\n",
      "Shape: (512, 512, 3) is now resized to: (1024, 1024, 3)\n",
      "Shape: (512, 512, 3) is now resized to: (1024, 1024, 3)\n",
      "Shape: (512, 512, 3) is now resized to: (1024, 1024, 3)\n",
      "Shape: (512, 512, 3) is now resized to: (1024, 1024, 3)\n",
      "Shape: (512, 512, 3) is now resized to: (1024, 1024, 3)\n",
      "Shape: (512, 512, 3) is now resized to: (1024, 1024, 3)\n",
      "Shape: (512, 512, 3) is now resized to: (1024, 1024, 3)\n",
      "Shape: (512, 512, 3) is now resized to: (1024, 1024, 3)\n",
      "Shape: (512, 512, 3) is now resized to: (1024, 1024, 3)\n",
      "Shape: (512, 512, 3) is now resized to: (1024, 1024, 3)\n",
      "Shape: (512, 512, 3) is now resized to: (1024, 1024, 3)\n",
      "Shape: (512, 512, 3) is now resized to: (1024, 1024, 3)\n",
      "Shape: (512, 512, 3) is now resized to: (1024, 1024, 3)\n",
      "Shape: (512, 512, 3) is now resized to: (1024, 1024, 3)\n",
      "Shape: (512, 512, 3) is now resized to: (1024, 1024, 3)\n",
      "Shape: (512, 512, 3) is now resized to: (1024, 1024, 3)\n",
      "Shape: (512, 512, 3) is now resized to: (1024, 1024, 3)\n",
      "Shape: (512, 512, 3) is now resized to: (1024, 1024, 3)\n",
      "Shape: (512, 512, 3) is now resized to: (1024, 1024, 3)\n",
      "Shape: (512, 512, 3) is now resized to: (1024, 1024, 3)\n",
      "Shape: (512, 512, 3) is now resized to: (1024, 1024, 3)\n",
      "Shape: (512, 512, 3) is now resized to: (1024, 1024, 3)\n",
      "Shape: (512, 512, 3) is now resized to: (1024, 1024, 3)\n",
      "Shape: (512, 512, 3) is now resized to: (1024, 1024, 3)\n",
      "Shape: (512, 512, 3) is now resized to: (1024, 1024, 3)\n",
      "Shape: (512, 512, 3) is now resized to: (1024, 1024, 3)\n",
      "Shape: (512, 512, 3) is now resized to: (1024, 1024, 3)\n",
      "Shape: (512, 512, 3) is now resized to: (1024, 1024, 3)\n",
      "Shape: (512, 512, 3) is now resized to: (1024, 1024, 3)\n",
      "Shape: (512, 512, 3) is now resized to: (1024, 1024, 3)\n",
      "Shape: (512, 512, 3) is now resized to: (1024, 1024, 3)\n",
      "Shape: (512, 512, 3) is now resized to: (1024, 1024, 3)\n",
      "Shape: (512, 512, 3) is now resized to: (1024, 1024, 3)\n",
      "Shape: (512, 512, 3) is now resized to: (1024, 1024, 3)\n",
      "Shape: (512, 512, 3) is now resized to: (1024, 1024, 3)\n",
      "Shape: (512, 512, 3) is now resized to: (1024, 1024, 3)\n",
      "Shape: (512, 512, 3) is now resized to: (1024, 1024, 3)\n",
      "Shape: (512, 512, 3) is now resized to: (1024, 1024, 3)\n",
      "Shape: (512, 512, 3) is now resized to: (1024, 1024, 3)\n",
      "Shape: (512, 512, 3) is now resized to: (1024, 1024, 3)\n",
      "Shape: (512, 512, 3) is now resized to: (1024, 1024, 3)\n",
      "Shape: (512, 512, 3) is now resized to: (1024, 1024, 3)\n",
      "Shape: (512, 512, 3) is now resized to: (1024, 1024, 3)\n",
      "Shape: (512, 512, 3) is now resized to: (1024, 1024, 3)\n"
     ]
    }
   ],
   "source": [
    "resize_upsampling(old_folder, new_folder, 1024)"
   ]
  },
  {
   "cell_type": "markdown",
   "id": "bfa3d6de",
   "metadata": {},
   "source": [
    "#### Resize the syntetic image masks to 1024-1024"
   ]
  },
  {
   "cell_type": "code",
   "execution_count": 20,
   "id": "02e5aa08",
   "metadata": {},
   "outputs": [],
   "source": [
    "dir2 = '/mnt/robolab/data/Bilddaten/GAN_train_data_sydavis-ai/Evaluation/BatchSize/Entluefter'\n",
    "folder = 'SegmentationMasks'"
   ]
  },
  {
   "cell_type": "code",
   "execution_count": 21,
   "id": "a4c07467",
   "metadata": {
    "scrolled": false
   },
   "outputs": [
    {
     "name": "stdout",
     "output_type": "stream",
     "text": [
      "Shape: (1080, 1920, 3) is now resized to: (1024, 1024, 3)\n",
      "Shape: (1080, 1920, 3) is now resized to: (1024, 1024, 3)\n",
      "Shape: (1080, 1920, 3) is now resized to: (1024, 1024, 3)\n",
      "Shape: (1080, 1920, 3) is now resized to: (1024, 1024, 3)\n",
      "Shape: (1080, 1920, 3) is now resized to: (1024, 1024, 3)\n",
      "Shape: (1080, 1920, 3) is now resized to: (1024, 1024, 3)\n",
      "Shape: (1080, 1920, 3) is now resized to: (1024, 1024, 3)\n",
      "Shape: (1080, 1920, 3) is now resized to: (1024, 1024, 3)\n",
      "Shape: (1080, 1920, 3) is now resized to: (1024, 1024, 3)\n",
      "Shape: (1080, 1920, 3) is now resized to: (1024, 1024, 3)\n",
      "Shape: (1080, 1920, 3) is now resized to: (1024, 1024, 3)\n",
      "Shape: (1080, 1920, 3) is now resized to: (1024, 1024, 3)\n",
      "Shape: (1080, 1920, 3) is now resized to: (1024, 1024, 3)\n",
      "Shape: (1080, 1920, 3) is now resized to: (1024, 1024, 3)\n",
      "Shape: (1080, 1920, 3) is now resized to: (1024, 1024, 3)\n",
      "Shape: (1080, 1920, 3) is now resized to: (1024, 1024, 3)\n",
      "Shape: (1080, 1920, 3) is now resized to: (1024, 1024, 3)\n",
      "Shape: (1080, 1920, 3) is now resized to: (1024, 1024, 3)\n",
      "Shape: (1080, 1920, 3) is now resized to: (1024, 1024, 3)\n",
      "Shape: (1080, 1920, 3) is now resized to: (1024, 1024, 3)\n"
     ]
    }
   ],
   "source": [
    "size = 1024\n",
    "old_folder = (os.path.join(dir2, folder))\n",
    "masks_syn_1024 = (os.path.join(dir2, folder+'_'+str(size)))\n",
    "\n",
    "if not os.path.exists(masks_syn_1024):\n",
    "    try:\n",
    "        os.mkdir(masks_syn_1024)\n",
    "    except FileExistsError:\n",
    "        print('Folder already exists')\n",
    "        pass\n",
    "resize_downsampling(old_folder, masks_syn_1024, size)"
   ]
  },
  {
   "cell_type": "markdown",
   "id": "5aec9d48",
   "metadata": {},
   "source": [
    "## 2. Use the annotation Tool Labelme to create polygons for GAN Images in JSON format"
   ]
  },
  {
   "cell_type": "markdown",
   "id": "3476f5f0",
   "metadata": {},
   "source": [
    "We than use the JSON files with polygon data to create semantic segmentation mask - no instance segmentation needed, because we do not need to differenciate between distinct features. We use the bash and python skript in this directory to do the mask translation."
   ]
  },
  {
   "cell_type": "code",
   "execution_count": 80,
   "id": "e3e1dff8",
   "metadata": {},
   "outputs": [
    {
     "name": "stdout",
     "output_type": "stream",
     "text": [
      "augmentation.py\n",
      "data.py\n",
      "datasets\n",
      "download_dataset.sh\n",
      "FeatureConsistencyScore_2.0-BlattfederBatch1.ipynb\n",
      "FeatureConsistencyScore_2.0-BlattfederBatch2.ipynb\n",
      "FeatureConsistencyScore_2.0-BlattfederBatch4.ipynb\n",
      "FeatureConsistencyScore_2.0-EntluefterBatch1.ipynb\n",
      "FeatureConsistencyScore_2.0-EntluefterBatch2.ipynb\n",
      "FeatureConsistencyScore_2.0.ipynb\n",
      "FeatureConsistencyScore_2.1-EntluefterBatch4.ipynb\n",
      "FeatureConsistencyScore_2.1-GetriebeflanschBatch1.ipynb\n",
      "FeatureConsistencyScore_2.2-GetriebeflanschBatch1.ipynb\n",
      "FeatureConsistencyScore_2.2-GetriebeflanschBatch2.ipynb\n",
      "FeatureConsistencyScore_2.2-GetriebeflanschBatch4.ipynb\n",
      "FeatureConsistencyScore_2.2-PT18-BlattfederBatch1-2-4.ipynb\n",
      "FeatureConsistencyScore_2.2-PT18-EntluefterBatch1-2-4.ipynb\n",
      "FeatureConsistencyScore_2.2-PT18-GetriebeflanschBatch1-2-4.ipynb\n",
      "FeatureConsistencyScore_2.2-PT18-WandlerhalterBatch1-2-4.ipynb\n",
      "FeatureConsistencyScore_2.2-WandlerhalterBatch1.ipynb\n",
      "FeatureConsistencyScore_2.2-WandlerhalterBatch2.ipynb\n",
      "FeatureConsistencyScore_2.2-WandlerhalterBatch4.ipynb\n",
      "fid.py\n",
      "filename.txt\n",
      "imlib\n",
      "interpolation.py\n",
      "labelme2coco.py\n",
      "labelme2voc.py\n",
      "labels.txt\n",
      "LICENSE\n",
      "mask-score.ipynb\n",
      "module.py\n",
      "Notebook_Archive\n",
      "output\n",
      "path\n",
      "__pycache__\n",
      "pylib\n",
      "README.md\n",
      "resize_images_pascalvoc\n",
      "test.py\n",
      "tf2gan\n",
      "tf2lib\n",
      "train.py\n",
      "/home/molu1019/workspace/CycleGAN-Tensorflow-2\n"
     ]
    }
   ],
   "source": [
    "!ls\n",
    "!pwd"
   ]
  },
  {
   "cell_type": "markdown",
   "id": "2a3f5cd1",
   "metadata": {},
   "source": [
    "Insert the folder path as **input_dir** where the GAN transformed images with corresponding JSON label are located."
   ]
  },
  {
   "cell_type": "code",
   "execution_count": 84,
   "id": "2811973a",
   "metadata": {},
   "outputs": [
    {
     "name": "stdout",
     "output_type": "stream",
     "text": [
      "/mnt/robolab/data/Bilddaten/GAN_train_data_sydavis-ai/Evaluation/BatchSize/Wandlerhalter/Batch4_joint_WH_mask\n"
     ]
    }
   ],
   "source": [
    "input_dir = '/mnt/robolab/data/Bilddaten/GAN_train_data_sydavis-ai/Evaluation/BatchSize/Wandlerhalter/Batch4_joint_WH'\n",
    "output_dir = input_dir+'_mask'\n",
    "print(output_dir)"
   ]
  },
  {
   "cell_type": "code",
   "execution_count": 85,
   "id": "96657eb5",
   "metadata": {},
   "outputs": [
    {
     "name": "stdout",
     "output_type": "stream",
     "text": [
      "Creating dataset: /mnt/robolab/data/Bilddaten/GAN_train_data_sydavis-ai/Evaluation/BatchSize/Wandlerhalter/Batch4_joint_WH_mask\n",
      "class_names: ('_background_', 'Blattfeder', 'Blattfeder_nio', 'Wandlerhalter', 'Entluefter', 'Getriebeflansch', 'Abdeckung', '')\n",
      "Saved class_names: /mnt/robolab/data/Bilddaten/GAN_train_data_sydavis-ai/Evaluation/BatchSize/Wandlerhalter/Batch4_joint_WH_mask/class_names.txt\n",
      "Generating dataset from: /mnt/robolab/data/Bilddaten/GAN_train_data_sydavis-ai/Evaluation/BatchSize/Wandlerhalter/Batch4_joint_WH/rgb_19863.json\n",
      "Generating dataset from: /mnt/robolab/data/Bilddaten/GAN_train_data_sydavis-ai/Evaluation/BatchSize/Wandlerhalter/Batch4_joint_WH/rgb_19897.json\n",
      "Generating dataset from: /mnt/robolab/data/Bilddaten/GAN_train_data_sydavis-ai/Evaluation/BatchSize/Wandlerhalter/Batch4_joint_WH/rgb_19796.json\n",
      "Generating dataset from: /mnt/robolab/data/Bilddaten/GAN_train_data_sydavis-ai/Evaluation/BatchSize/Wandlerhalter/Batch4_joint_WH/rgb_18794.json\n",
      "Generating dataset from: /mnt/robolab/data/Bilddaten/GAN_train_data_sydavis-ai/Evaluation/BatchSize/Wandlerhalter/Batch4_joint_WH/rgb_19764.json\n",
      "Generating dataset from: /mnt/robolab/data/Bilddaten/GAN_train_data_sydavis-ai/Evaluation/BatchSize/Wandlerhalter/Batch4_joint_WH/rgb_19601.json\n",
      "Generating dataset from: /mnt/robolab/data/Bilddaten/GAN_train_data_sydavis-ai/Evaluation/BatchSize/Wandlerhalter/Batch4_joint_WH/rgb_19537.json\n",
      "Generating dataset from: /mnt/robolab/data/Bilddaten/GAN_train_data_sydavis-ai/Evaluation/BatchSize/Wandlerhalter/Batch4_joint_WH/rgb_19470.json\n",
      "Generating dataset from: /mnt/robolab/data/Bilddaten/GAN_train_data_sydavis-ai/Evaluation/BatchSize/Wandlerhalter/Batch4_joint_WH/rgb_19634.json\n",
      "Generating dataset from: /mnt/robolab/data/Bilddaten/GAN_train_data_sydavis-ai/Evaluation/BatchSize/Wandlerhalter/Batch4_joint_WH/rgb_19402.json\n",
      "Generating dataset from: /mnt/robolab/data/Bilddaten/GAN_train_data_sydavis-ai/Evaluation/BatchSize/Wandlerhalter/Batch4_joint_WH/rgb_19134.json\n",
      "Generating dataset from: /mnt/robolab/data/Bilddaten/GAN_train_data_sydavis-ai/Evaluation/BatchSize/Wandlerhalter/Batch4_joint_WH/rgb_19266.json\n",
      "Generating dataset from: /mnt/robolab/data/Bilddaten/GAN_train_data_sydavis-ai/Evaluation/BatchSize/Wandlerhalter/Batch4_joint_WH/rgb_19069.json\n",
      "Generating dataset from: /mnt/robolab/data/Bilddaten/GAN_train_data_sydavis-ai/Evaluation/BatchSize/Wandlerhalter/Batch4_joint_WH/rgb_19369.json\n",
      "Generating dataset from: /mnt/robolab/data/Bilddaten/GAN_train_data_sydavis-ai/Evaluation/BatchSize/Wandlerhalter/Batch4_joint_WH/rgb_19335.json\n",
      "Generating dataset from: /mnt/robolab/data/Bilddaten/GAN_train_data_sydavis-ai/Evaluation/BatchSize/Wandlerhalter/Batch4_joint_WH/rgb_19103.json\n",
      "Generating dataset from: /mnt/robolab/data/Bilddaten/GAN_train_data_sydavis-ai/Evaluation/BatchSize/Wandlerhalter/Batch4_joint_WH/rgb_18967.json\n",
      "Generating dataset from: /mnt/robolab/data/Bilddaten/GAN_train_data_sydavis-ai/Evaluation/BatchSize/Wandlerhalter/Batch4_joint_WH/rgb_19001.json\n",
      "Generating dataset from: /mnt/robolab/data/Bilddaten/GAN_train_data_sydavis-ai/Evaluation/BatchSize/Wandlerhalter/Batch4_joint_WH/rgb_18829.json\n",
      "Generating dataset from: /mnt/robolab/data/Bilddaten/GAN_train_data_sydavis-ai/Evaluation/BatchSize/Wandlerhalter/Batch4_joint_WH/rgb_18932.json\n"
     ]
    }
   ],
   "source": [
    "!python3 labelme2voc.py $input_dir $output_dir --labels labels.txt"
   ]
  },
  {
   "cell_type": "code",
   "execution_count": 86,
   "id": "31772350",
   "metadata": {},
   "outputs": [],
   "source": [
    "masks_gan = output_dir+'/SegmentationObjectPNG'"
   ]
  },
  {
   "cell_type": "markdown",
   "id": "c8c93cbb",
   "metadata": {},
   "source": [
    "## 3. GAN Image Data\n",
    "### 3.1 Prepare Data: Create Folder with binary images"
   ]
  },
  {
   "cell_type": "code",
   "execution_count": 87,
   "id": "8427b343",
   "metadata": {},
   "outputs": [],
   "source": [
    "def binarize(im_path, threshold=10):\n",
    "    \"\"\"Read, binarize and save images as png.\n",
    "    Args:\n",
    "        path: A string, path of images.\n",
    "    \"\"\"\n",
    "    size=1024\n",
    "    img = Image.open(im_path).convert('L')\n",
    "    img = np.array(img)\n",
    "    #print(img[210,:-50])\n",
    "    \n",
    "    # störungen im Bild:\n",
    "    #16 128 148  35 31 143 153 16 128 153 153 153 153 127  15   0  10 116  35\n",
    "    thresh = threshold\n",
    "    Flansch = 89\n",
    "    Abdeckung = 76\n",
    "    Mutter =174\n",
    "    Wandler_stoerung= 153\n",
    "    Wandler = 157\n",
    " \n",
    "\n",
    "    im_bool = img > thresh\n",
    "    #im_bool = np.logical_or(img == Wandler, img ==4)    \n",
    "    #im_bool = img == Wandler\n",
    "    \n",
    "    maxval = 255\n",
    "    im_bin = (img > thresh) * maxval\n",
    "    \n",
    "    #save array to images\n",
    "    im_save_bi = Image.fromarray(np.uint8(im_bin))\n",
    "    im_save_bool = Image.fromarray((im_bool))   \n",
    "\n",
    "    return im_save_bool"
   ]
  },
  {
   "cell_type": "code",
   "execution_count": 88,
   "id": "f48a8d1b",
   "metadata": {},
   "outputs": [
    {
     "data": {
      "image/png": "[encoded data removed]",
      "text/plain": [
       "<Figure size 432x288 with 1 Axes>"
      ]
     },
     "metadata": {
      "needs_background": "light"
     },
     "output_type": "display_data"
    }
   ],
   "source": [
    "#test GAN Data\n",
    "masks_gan = masks_gan\n",
    "masks_gan_save = output_dir+'/binarized'\n",
    "if not os.path.exists(masks_gan_save):\n",
    "    try:\n",
    "        os.mkdir(masks_gan_save)\n",
    "    except FileExistsError:\n",
    "        print('Folder already exists')\n",
    "        pass\n",
    "path = os.path.join(masks_gan, '*.png')\n",
    "files = list(glob.glob(path))\n",
    "files.sort(reverse=True)\n",
    "\n",
    "for file in files:\n",
    "    image= binarize(file, threshold=10)\n",
    "    plt.imshow(image)\n",
    "    bbox = image.getbbox()\n",
    "    plt.title(f'Bbox: {bbox} Name: {file[-10:]}')\n",
    "    image.save(os.path.join(masks_gan_save,file[-10:]))"
   ]
  },
  {
   "cell_type": "markdown",
   "id": "4927a244",
   "metadata": {},
   "source": [
    "## 4. Syntetic Image Masks\n",
    "### 4.1 Prepare Data: Create Folder with binary images"
   ]
  },
  {
   "cell_type": "markdown",
   "id": "b5811e0c",
   "metadata": {},
   "source": [
    "#### Operation for reading png segmentation masks from folder path, resize, convert to greyscale and save imagesin new folder"
   ]
  },
  {
   "cell_type": "code",
   "execution_count": 89,
   "id": "2ed2eddd",
   "metadata": {},
   "outputs": [],
   "source": [
    "masks_syn = masks_syn_1024\n",
    "masks_syn_save = masks_syn+'_binarized'"
   ]
  },
  {
   "cell_type": "code",
   "execution_count": 31,
   "id": "e9ab9722",
   "metadata": {
    "scrolled": false
   },
   "outputs": [
    {
     "data": {
      "image/png": "[encoded data removed]",
      "text/plain": [
       "<Figure size 432x288 with 1 Axes>"
      ]
     },
     "metadata": {
      "needs_background": "light"
     },
     "output_type": "display_data"
    }
   ],
   "source": [
    "#test Syn Data\n",
    "if not os.path.exists(masks_syn_save):\n",
    "    try:\n",
    "        os.mkdir(masks_syn_save)\n",
    "    except FileExistsError:\n",
    "        print('Folder already exists')\n",
    "        pass\n",
    "path = os.path.join(masks_syn, '*.png')\n",
    "files = list(glob.glob(path))\n",
    "files.sort(reverse=True)\n",
    "\n",
    "for file in files:\n",
    "    image = binarize(file, threshold=50)\n",
    "    plt.imshow(image)\n",
    "    bbox = image.getbbox()\n",
    "    plt.title(f'Bbox: {bbox} Name: {file[-18:]}')\n",
    "    image.save(os.path.join(masks_syn_save,file[-18:]))"
   ]
  },
  {
   "cell_type": "code",
   "execution_count": 32,
   "id": "4d2e6950",
   "metadata": {},
   "outputs": [],
   "source": [
    "def loadpolygon():\n",
    "    return"
   ]
  },
  {
   "cell_type": "markdown",
   "id": "63d0c6cb",
   "metadata": {},
   "source": [
    "Since True is regarded as 1 and False is regarded as 0, when multiplied by 255 which is the Max value of uint8, True becomes 255 (white) and False becomes 0 (black)"
   ]
  },
  {
   "cell_type": "code",
   "execution_count": 33,
   "id": "3522ce35",
   "metadata": {},
   "outputs": [
    {
     "data": {
      "image/png": "[encoded data removed]",
      "text/plain": [
       "<Figure size 432x288 with 1 Axes>"
      ]
     },
     "metadata": {
      "needs_background": "light"
     },
     "output_type": "display_data"
    }
   ],
   "source": [
    "masks_syn_save_filled = masks_syn_save+'_convex'\n",
    "if not os.path.exists(masks_syn_save_filled):\n",
    "    try:\n",
    "        os.mkdir(masks_syn_save_filled)\n",
    "    except FileExistsError:\n",
    "        print('Folder already exists')\n",
    "        pass\n",
    "path = os.path.join(masks_syn_save, '*.png')\n",
    "files = list(glob.glob(path))\n",
    "files.sort(reverse=True)\n",
    "\n",
    "for file in files:\n",
    "    image = cv2.imread(file, cv2.IMREAD_GRAYSCALE)\n",
    "\n",
    "    #print(image.shape, image.dtype)\n",
    "\n",
    "    contour,hierarchy = cv2.findContours(image,cv2.RETR_CCOMP,cv2.CHAIN_APPROX_SIMPLE)\n",
    "\n",
    "    for cnt in contour:\n",
    "        cv2.drawContours(image,[cnt],0,255,-1)\n",
    "\n",
    "    #image = cv2.bitwise_not(image)\n",
    "    image.dtype\n",
    "    plt.imshow(image)\n",
    "    #bbox = image.getbbox()\n",
    "    plt.title(f'Bbox: {bbox} Name: {file[-18:]}')\n",
    "    cv2.imwrite(os.path.join(masks_syn_save_filled,file[-18:]),image)"
   ]
  },
  {
   "cell_type": "code",
   "execution_count": 34,
   "id": "09d014be",
   "metadata": {},
   "outputs": [],
   "source": [
    "def calculatescore(ground_truth, prediction_gan):\n",
    "    \"\"\"\n",
    "    Compute feature consitency score of two segmentation masks.\n",
    "    \n",
    "    IoU(A,B) = |A & B| / (| A U B|)\n",
    "    Dice(A,B) = 2*|A & B| / (|A| + |B|)\n",
    "\n",
    "    Args:\n",
    "        y_true: true masks, one-hot encoded.\n",
    "        y_pred: predicted masks, either softmax outputs, or one-hot encoded.\n",
    "        metric_name: metric to be computed, either 'iou' or 'dice'.\n",
    "        metric_type: one of 'standard' (default), 'soft', 'naive'.\n",
    "          In the standard version, y_pred is one-hot encoded and the mean\n",
    "          is taken only over classes that are present (in y_true or y_pred).\n",
    "          The 'soft' version of the metrics are computed without one-hot\n",
    "          encoding y_pred.\n",
    "          \n",
    "    Returns:\n",
    "        IoU of ground truth and GAN transformed syntetic Image, as a float.\n",
    "\n",
    "    Inputs are B*W*H*N tensors, with\n",
    "        B = batch size,\n",
    "        W = width,\n",
    "        H = height,\n",
    "        N = number of classes\n",
    "    \"\"\"\n",
    "    \n",
    "    # check image shape to be the same\n",
    "    assert ground_truth.shape == prediction_gan.shape, 'Input masks should be same shape, instead are {}, {}'.format(ground_truth.shape, prediction_gan.shape)\n",
    "    #print('Ground truth shape: '+str(ground_truth.shape))\n",
    "    #print('Predicted GAN image shape: '+str(prediction_gan.shape))\n",
    "    \n",
    "    intersection = np.logical_and(ground_truth, prediction_gan)\n",
    "    union = np.logical_or(ground_truth, prediction_gan)\n",
    "    mask_sum = np.sum(np.abs(union)) + np.sum(np.abs(intersection))\n",
    "    iou_score = np.sum(intersection) / np.sum(union)\n",
    "    dice_score = 2*np.sum(intersection) / np.sum(mask_sum) \n",
    "    print('IoU is: '+str(iou_score))\n",
    "    print('Dice/F1 Score is: '+str(dice_score))\n",
    "    return iou_score, dice_score"
   ]
  },
  {
   "cell_type": "markdown",
   "id": "7713902d",
   "metadata": {},
   "source": [
    "## 6. Calculate mean IoU\n",
    "Translate image mask to white RGB(255,255,255), fill convex hull, and compare masks to calculate 'Feature Consistency Score' "
   ]
  },
  {
   "cell_type": "code",
   "execution_count": 35,
   "id": "ced4a014",
   "metadata": {
    "scrolled": true
   },
   "outputs": [],
   "source": [
    "path_syn = masks_syn_save\n",
    "path_gan = masks_gan_save\n",
    "path_syn = os.path.join(path_syn, '*.png')\n",
    "path_gan = os.path.join(path_gan, '*.png')\n",
    "files_syn = list(glob.glob(path_syn))\n",
    "files_gan = list(glob.glob(path_gan))\n",
    "files_syn.sort(reverse=True)\n",
    "files_gan.sort(reverse=True)\n",
    "\n",
    "combined_list = zip(files_syn, files_gan)\n",
    "z = list(combined_list)"
   ]
  },
  {
   "cell_type": "code",
   "execution_count": 36,
   "id": "6806b2eb",
   "metadata": {},
   "outputs": [
    {
     "name": "stdout",
     "output_type": "stream",
     "text": [
      "Image name: 91996.png\n",
      "IoU is: 0.795098182121067\n",
      "Dice/F1 Score is: 0.8858548128900541\n",
      "\n",
      "\n",
      "Image name: 91932.png\n",
      "IoU is: 0.8779945104026247\n",
      "Dice/F1 Score is: 0.9350341606849434\n",
      "\n",
      "\n",
      "Image name: 91901.png\n",
      "IoU is: 0.893694614860259\n",
      "Dice/F1 Score is: 0.943863501376865\n",
      "\n",
      "\n",
      "Image name: 91870.png\n",
      "IoU is: 0.6908951406649616\n",
      "Dice/F1 Score is: 0.817194542759476\n",
      "\n",
      "\n",
      "Image name: 91839.png\n",
      "IoU is: 0.8859642147117296\n",
      "Dice/F1 Score is: 0.9395344914825434\n",
      "\n",
      "\n",
      "Image name: 91808.png\n",
      "IoU is: 0.725813997005988\n",
      "Dice/F1 Score is: 0.8411265620341004\n",
      "\n",
      "\n",
      "Image name: 91777.png\n",
      "IoU is: 0.8530187276046244\n",
      "Dice/F1 Score is: 0.9206800934033859\n",
      "\n",
      "\n",
      "Image name: 91710.png\n",
      "IoU is: 0.7168970330016659\n",
      "Dice/F1 Score is: 0.8351077778360518\n",
      "\n",
      "\n",
      "Image name: 91676.png\n",
      "IoU is: 0.9004628895723027\n",
      "Dice/F1 Score is: 0.9476248071068107\n",
      "\n",
      "\n",
      "Image name: 91609.png\n",
      "IoU is: 0.8178701648700063\n",
      "Dice/F1 Score is: 0.899811417421542\n",
      "\n",
      "\n",
      "Image name: 91576.png\n",
      "IoU is: 0.8922218657541083\n",
      "Dice/F1 Score is: 0.9430414920171432\n",
      "\n",
      "\n",
      "Image name: 91539.png\n",
      "IoU is: 0.7032160587092596\n",
      "Dice/F1 Score is: 0.8257508554048917\n",
      "\n",
      "\n",
      "Image name: 91502.png\n",
      "IoU is: 0.7581097667894091\n",
      "Dice/F1 Score is: 0.8624146013065377\n",
      "\n",
      "\n",
      "Image name: 91469.png\n",
      "IoU is: 0.7037870633134358\n",
      "Dice/F1 Score is: 0.8261443914766526\n",
      "\n",
      "\n",
      "Image name: 91436.png\n",
      "IoU is: 0.7977422976175627\n",
      "Dice/F1 Score is: 0.8874934952298352\n",
      "\n",
      "\n",
      "Image name: 91405.png\n",
      "IoU is: 0.8879757708860984\n",
      "Dice/F1 Score is: 0.9406643714175821\n",
      "\n",
      "\n",
      "Image name: 91373.png\n",
      "IoU is: 0.8515762533840259\n",
      "Dice/F1 Score is: 0.9198392470497999\n",
      "\n",
      "\n",
      "Image name: 91341.png\n",
      "IoU is: 0.8055673199091364\n",
      "Dice/F1 Score is: 0.8923149095871716\n",
      "\n",
      "\n",
      "Image name: 91308.png\n",
      "IoU is: 0.8156362801761011\n",
      "Dice/F1 Score is: 0.8984577903422281\n",
      "\n",
      "\n",
      "Image name: 91146.png\n",
      "IoU is: 0.7449837773224044\n",
      "Dice/F1 Score is: 0.8538575395417681\n",
      "\n",
      "\n",
      "Mean IoU is: 0.8059262964338385\n",
      "[0.795098182121067, 0.8779945104026247, 0.893694614860259, 0.6908951406649616, 0.8859642147117296, 0.725813997005988, 0.8530187276046244, 0.7168970330016659, 0.9004628895723027, 0.8178701648700063, 0.8922218657541083, 0.7032160587092596, 0.7581097667894091, 0.7037870633134358, 0.7977422976175627, 0.8879757708860984, 0.8515762533840259, 0.8055673199091364, 0.8156362801761011, 0.7449837773224044]\n",
      "\n",
      "Mean Dice score is: 0.890790543018469\n",
      "[0.8858548128900541, 0.9350341606849434, 0.943863501376865, 0.817194542759476, 0.9395344914825434, 0.8411265620341004, 0.9206800934033859, 0.8351077778360518, 0.9476248071068107, 0.899811417421542, 0.9430414920171432, 0.8257508554048917, 0.8624146013065377, 0.8261443914766526, 0.8874934952298352, 0.9406643714175821, 0.9198392470497999, 0.8923149095871716, 0.8984577903422281, 0.8538575395417681]\n"
     ]
    }
   ],
   "source": [
    "iou_list = []\n",
    "dice_list = []\n",
    "for syn, gan in zip(files_syn, files_gan):\n",
    "    img_syn = np.array(Image.open(syn))\n",
    "    img_gan = np.array(Image.open(gan))\n",
    "    print(f'Image name: {syn[-9:]}')\n",
    "    iou, dice = calculatescore(img_syn, img_gan)\n",
    "    print('\\n')\n",
    "    iou_list.append(iou)\n",
    "    dice_list.append(dice)\n",
    "    \n",
    "mean_iou = np.mean(iou_list)\n",
    "mean_dice = np.mean(dice_list)\n",
    "print(f'Mean IoU is: {mean_iou}')\n",
    "print(f'{iou_list}\\n')\n",
    "print(f'Mean Dice score is: {mean_dice}')\n",
    "print(dice_list)"
   ]
  },
  {
   "cell_type": "code",
   "execution_count": 37,
   "id": "6de20a0b",
   "metadata": {},
   "outputs": [],
   "source": [
    "import sys\n",
    "base_dir = input_dir\n",
    "prefix = 'batch1'\n",
    "score_name = prefix+'_score.txt'\n",
    "path = os.path.join(base_dir,score_name)\n",
    "\n",
    "if not os.path.exists(path):\n",
    "    try:\n",
    "        os.mknod(path)\n",
    "    except FileExistsError:\n",
    "        print('Folder already exists')\n",
    "        pass \n",
    "\n",
    "original_stdout = sys.stdout             # Save a reference to the original standard output\n",
    "\n",
    "with open(path, 'w') as f:\n",
    "    sys.stdout = f                       # Change the standard output to the file we created.\n",
    "    iou_list = []\n",
    "    dice_list = []\n",
    "    print(f'Consistency Metrics for {prefix}:\\n')\n",
    "    for syn, gan in zip(files_syn, files_gan):\n",
    "        img_syn = np.array(Image.open(syn))\n",
    "        img_gan = np.array(Image.open(gan))\n",
    "        print(f'Image name: {syn[-9:]}')\n",
    "        iou, dice = calculatescore(img_syn, img_gan)\n",
    "        print('\\n')\n",
    "        iou_list.append(iou)\n",
    "        dice_list.append(dice)\n",
    "\n",
    "    mean_iou = np.mean(iou_list)\n",
    "    mean_dice = np.mean(dice_list)\n",
    "    print(f'Mean IoU is: {mean_iou}')\n",
    "    print(f'{iou_list}\\n')\n",
    "    print(f'Mean Dice score is: {mean_dice}')\n",
    "    print(dice_list)\n",
    "    sys.stdout = original_stdout         # Reset the standard output to its original value\n",
    "f.close()"
   ]
  },
  {
   "cell_type": "code",
   "execution_count": null,
   "id": "cb912309",
   "metadata": {},
   "outputs": [],
   "source": [
    "#overlapping of 2 masks\n",
    "#Image.blend()"
   ]
  }
 ],
 "metadata": {
  "kernelspec": {
   "display_name": "Python 3.6.9 64-bit ('cygan': virtualenv)",
   "language": "python",
   "name": "python369jvsc74a57bd0987972a5af0063b4ad0c1bc948181328354b4e09dc76cc55a6609915adabc773"
  },
  "language_info": {
   "codemirror_mode": {
    "name": "ipython",
    "version": 3
   },
   "file_extension": ".py",
   "mimetype": "text/x-python",
   "name": "python",
   "nbconvert_exporter": "python",
   "pygments_lexer": "ipython3",
   "version": "3.6.9"
  }
 },
 "nbformat": 4,
 "nbformat_minor": 5
}
