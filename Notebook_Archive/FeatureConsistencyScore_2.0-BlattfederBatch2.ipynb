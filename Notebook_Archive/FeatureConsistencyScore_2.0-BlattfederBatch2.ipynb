{
 "cells": [
  {
   "cell_type": "markdown",
   "id": "a06cd1d4",
   "metadata": {},
   "source": [
    "## Notebook for calculating Mask Consistency Score for GAN-transformed images"
   ]
  },
  {
   "cell_type": "code",
   "execution_count": 1,
   "id": "900e2b4d",
   "metadata": {},
   "outputs": [],
   "source": [
    "from PIL import Image\n",
    "import cv2\n",
    "from matplotlib import pyplot as plt\n",
    "import tensorflow as tf\n",
    "import glob, os\n",
    "import numpy as np\n",
    "import matplotlib.image as mpimg\n",
    "#from keras.preprocessing.image import img_to_array, array_to_img"
   ]
  },
  {
   "cell_type": "markdown",
   "id": "ebd58ed4",
   "metadata": {},
   "source": [
    "## 1. Resize GAN-transformed Dataset to 1024*1024"
   ]
  },
  {
   "cell_type": "markdown",
   "id": "d00c6def",
   "metadata": {},
   "source": [
    "#### 1.1 Specify Args: Directory, folder name and the new image size"
   ]
  },
  {
   "cell_type": "code",
   "execution_count": 2,
   "id": "bab0c67e",
   "metadata": {},
   "outputs": [],
   "source": [
    "dir = '/mnt/robolab/data/Bilddaten/GAN_train_data_sydavis-ai/Powertrain14_Blattfeder/Results/training4_batch4_400trainA_250trainB/samples_testing'"
   ]
  },
  {
   "cell_type": "markdown",
   "id": "9b400c36",
   "metadata": {},
   "source": [
    "#### 1.2 Create new Folder \"/A2B_FID_1024\" in Directory"
   ]
  },
  {
   "cell_type": "code",
   "execution_count": 3,
   "id": "520e04ef",
   "metadata": {},
   "outputs": [],
   "source": [
    "folder = 'A2B_FID'\n",
    "image_size = 1024\n",
    "old_folder = (os.path.join(dir, folder))\n",
    "new_folder = (os.path.join(dir, folder+'_'+str(image_size)))\n",
    "\n",
    "if not os.path.exists(new_folder):\n",
    "    try:\n",
    "        os.mkdir(new_folder)\n",
    "    except FileExistsError:\n",
    "        print('Folder already exists')\n",
    "        pass"
   ]
  },
  {
   "cell_type": "code",
   "execution_count": 4,
   "id": "76b37952",
   "metadata": {},
   "outputs": [
    {
     "name": "stdout",
     "output_type": "stream",
     "text": [
      "/mnt/robolab/data/Bilddaten/GAN_train_data_sydavis-ai/Powertrain14_Blattfeder/Results/training4_batch4_400trainA_250trainB/samples_testing/A2B_FID\n",
      "/mnt/robolab/data/Bilddaten/GAN_train_data_sydavis-ai/Powertrain14_Blattfeder/Results/training4_batch4_400trainA_250trainB/samples_testing/A2B_FID_1024\n"
     ]
    }
   ],
   "source": [
    "print(os.path.join(old_folder))\n",
    "print(os.path.join(dir, folder+'_'+str(image_size)))"
   ]
  },
  {
   "cell_type": "markdown",
   "id": "a1f9315f",
   "metadata": {},
   "source": [
    "#### 1.3 Function for upsampling images of 256-256 or 512-512 to images with size 1024-1024"
   ]
  },
  {
   "cell_type": "code",
   "execution_count": 5,
   "id": "4f61b062",
   "metadata": {},
   "outputs": [],
   "source": [
    "def resize_upsampling(old_folder, new_folder, size):\n",
    "    dim = (size, size)\n",
    "    for image in os.listdir(old_folder):\n",
    "        img = cv2.imread(os.path.join(old_folder, image))\n",
    "        # INTER_CUBIC or INTER_LANCZOS4\n",
    "        img_resized = cv2.resize(img, dim, interpolation = cv2.INTER_CUBIC)\n",
    "        print('Shape: '+str(img.shape)+' is now resized to: '+str(img_resized.shape))\n",
    "        cv2.imwrite(os.path.join(new_folder , image),img_resized)\n",
    "        \n",
    "def resize_downsampling(old_folder, new_folder, size):\n",
    "    dim = (size, size)\n",
    "    for image in os.listdir(old_folder):\n",
    "        img = cv2.imread(os.path.join(old_folder, image))\n",
    "        img_resized = cv2.resize(img, dim, interpolation = cv2.INTER_AREA)\n",
    "        print('Shape: '+str(img.shape)+' is now resized to: '+str(img_resized.shape))\n",
    "        cv2.imwrite(os.path.join(new_folder , image),img_resized)"
   ]
  },
  {
   "cell_type": "markdown",
   "id": "b1419ef7",
   "metadata": {},
   "source": [
    "#### 1.4 Run the aforementoined function"
   ]
  },
  {
   "cell_type": "code",
   "execution_count": 6,
   "id": "2034aa99",
   "metadata": {
    "collapsed": true
   },
   "outputs": [
    {
     "name": "stdout",
     "output_type": "stream",
     "text": [
      "Shape: (256, 256, 3) is now resized to: (1024, 1024, 3)\n",
      "Shape: (256, 256, 3) is now resized to: (1024, 1024, 3)\n",
      "Shape: (256, 256, 3) is now resized to: (1024, 1024, 3)\n",
      "Shape: (256, 256, 3) is now resized to: (1024, 1024, 3)\n",
      "Shape: (256, 256, 3) is now resized to: (1024, 1024, 3)\n",
      "Shape: (256, 256, 3) is now resized to: (1024, 1024, 3)\n",
      "Shape: (256, 256, 3) is now resized to: (1024, 1024, 3)\n",
      "Shape: (256, 256, 3) is now resized to: (1024, 1024, 3)\n",
      "Shape: (256, 256, 3) is now resized to: (1024, 1024, 3)\n",
      "Shape: (256, 256, 3) is now resized to: (1024, 1024, 3)\n",
      "Shape: (256, 256, 3) is now resized to: (1024, 1024, 3)\n",
      "Shape: (256, 256, 3) is now resized to: (1024, 1024, 3)\n",
      "Shape: (256, 256, 3) is now resized to: (1024, 1024, 3)\n",
      "Shape: (256, 256, 3) is now resized to: (1024, 1024, 3)\n",
      "Shape: (256, 256, 3) is now resized to: (1024, 1024, 3)\n",
      "Shape: (256, 256, 3) is now resized to: (1024, 1024, 3)\n",
      "Shape: (256, 256, 3) is now resized to: (1024, 1024, 3)\n",
      "Shape: (256, 256, 3) is now resized to: (1024, 1024, 3)\n",
      "Shape: (256, 256, 3) is now resized to: (1024, 1024, 3)\n",
      "Shape: (256, 256, 3) is now resized to: (1024, 1024, 3)\n",
      "Shape: (256, 256, 3) is now resized to: (1024, 1024, 3)\n",
      "Shape: (256, 256, 3) is now resized to: (1024, 1024, 3)\n",
      "Shape: (256, 256, 3) is now resized to: (1024, 1024, 3)\n",
      "Shape: (256, 256, 3) is now resized to: (1024, 1024, 3)\n",
      "Shape: (256, 256, 3) is now resized to: (1024, 1024, 3)\n",
      "Shape: (256, 256, 3) is now resized to: (1024, 1024, 3)\n",
      "Shape: (256, 256, 3) is now resized to: (1024, 1024, 3)\n",
      "Shape: (256, 256, 3) is now resized to: (1024, 1024, 3)\n",
      "Shape: (256, 256, 3) is now resized to: (1024, 1024, 3)\n",
      "Shape: (256, 256, 3) is now resized to: (1024, 1024, 3)\n",
      "Shape: (256, 256, 3) is now resized to: (1024, 1024, 3)\n",
      "Shape: (256, 256, 3) is now resized to: (1024, 1024, 3)\n",
      "Shape: (256, 256, 3) is now resized to: (1024, 1024, 3)\n",
      "Shape: (256, 256, 3) is now resized to: (1024, 1024, 3)\n",
      "Shape: (256, 256, 3) is now resized to: (1024, 1024, 3)\n",
      "Shape: (256, 256, 3) is now resized to: (1024, 1024, 3)\n",
      "Shape: (256, 256, 3) is now resized to: (1024, 1024, 3)\n",
      "Shape: (256, 256, 3) is now resized to: (1024, 1024, 3)\n",
      "Shape: (256, 256, 3) is now resized to: (1024, 1024, 3)\n",
      "Shape: (256, 256, 3) is now resized to: (1024, 1024, 3)\n",
      "Shape: (256, 256, 3) is now resized to: (1024, 1024, 3)\n",
      "Shape: (256, 256, 3) is now resized to: (1024, 1024, 3)\n",
      "Shape: (256, 256, 3) is now resized to: (1024, 1024, 3)\n",
      "Shape: (256, 256, 3) is now resized to: (1024, 1024, 3)\n",
      "Shape: (256, 256, 3) is now resized to: (1024, 1024, 3)\n",
      "Shape: (256, 256, 3) is now resized to: (1024, 1024, 3)\n",
      "Shape: (256, 256, 3) is now resized to: (1024, 1024, 3)\n",
      "Shape: (256, 256, 3) is now resized to: (1024, 1024, 3)\n",
      "Shape: (256, 256, 3) is now resized to: (1024, 1024, 3)\n",
      "Shape: (256, 256, 3) is now resized to: (1024, 1024, 3)\n",
      "Shape: (256, 256, 3) is now resized to: (1024, 1024, 3)\n",
      "Shape: (256, 256, 3) is now resized to: (1024, 1024, 3)\n",
      "Shape: (256, 256, 3) is now resized to: (1024, 1024, 3)\n",
      "Shape: (256, 256, 3) is now resized to: (1024, 1024, 3)\n",
      "Shape: (256, 256, 3) is now resized to: (1024, 1024, 3)\n",
      "Shape: (256, 256, 3) is now resized to: (1024, 1024, 3)\n",
      "Shape: (256, 256, 3) is now resized to: (1024, 1024, 3)\n",
      "Shape: (256, 256, 3) is now resized to: (1024, 1024, 3)\n",
      "Shape: (256, 256, 3) is now resized to: (1024, 1024, 3)\n",
      "Shape: (256, 256, 3) is now resized to: (1024, 1024, 3)\n",
      "Shape: (256, 256, 3) is now resized to: (1024, 1024, 3)\n",
      "Shape: (256, 256, 3) is now resized to: (1024, 1024, 3)\n",
      "Shape: (256, 256, 3) is now resized to: (1024, 1024, 3)\n",
      "Shape: (256, 256, 3) is now resized to: (1024, 1024, 3)\n",
      "Shape: (256, 256, 3) is now resized to: (1024, 1024, 3)\n",
      "Shape: (256, 256, 3) is now resized to: (1024, 1024, 3)\n",
      "Shape: (256, 256, 3) is now resized to: (1024, 1024, 3)\n",
      "Shape: (256, 256, 3) is now resized to: (1024, 1024, 3)\n",
      "Shape: (256, 256, 3) is now resized to: (1024, 1024, 3)\n",
      "Shape: (256, 256, 3) is now resized to: (1024, 1024, 3)\n",
      "Shape: (256, 256, 3) is now resized to: (1024, 1024, 3)\n",
      "Shape: (256, 256, 3) is now resized to: (1024, 1024, 3)\n",
      "Shape: (256, 256, 3) is now resized to: (1024, 1024, 3)\n",
      "Shape: (256, 256, 3) is now resized to: (1024, 1024, 3)\n",
      "Shape: (256, 256, 3) is now resized to: (1024, 1024, 3)\n",
      "Shape: (256, 256, 3) is now resized to: (1024, 1024, 3)\n",
      "Shape: (256, 256, 3) is now resized to: (1024, 1024, 3)\n",
      "Shape: (256, 256, 3) is now resized to: (1024, 1024, 3)\n",
      "Shape: (256, 256, 3) is now resized to: (1024, 1024, 3)\n",
      "Shape: (256, 256, 3) is now resized to: (1024, 1024, 3)\n",
      "Shape: (256, 256, 3) is now resized to: (1024, 1024, 3)\n",
      "Shape: (256, 256, 3) is now resized to: (1024, 1024, 3)\n",
      "Shape: (256, 256, 3) is now resized to: (1024, 1024, 3)\n",
      "Shape: (256, 256, 3) is now resized to: (1024, 1024, 3)\n",
      "Shape: (256, 256, 3) is now resized to: (1024, 1024, 3)\n",
      "Shape: (256, 256, 3) is now resized to: (1024, 1024, 3)\n",
      "Shape: (256, 256, 3) is now resized to: (1024, 1024, 3)\n",
      "Shape: (256, 256, 3) is now resized to: (1024, 1024, 3)\n",
      "Shape: (256, 256, 3) is now resized to: (1024, 1024, 3)\n",
      "Shape: (256, 256, 3) is now resized to: (1024, 1024, 3)\n",
      "Shape: (256, 256, 3) is now resized to: (1024, 1024, 3)\n",
      "Shape: (256, 256, 3) is now resized to: (1024, 1024, 3)\n",
      "Shape: (256, 256, 3) is now resized to: (1024, 1024, 3)\n",
      "Shape: (256, 256, 3) is now resized to: (1024, 1024, 3)\n",
      "Shape: (256, 256, 3) is now resized to: (1024, 1024, 3)\n",
      "Shape: (256, 256, 3) is now resized to: (1024, 1024, 3)\n",
      "Shape: (256, 256, 3) is now resized to: (1024, 1024, 3)\n",
      "Shape: (256, 256, 3) is now resized to: (1024, 1024, 3)\n",
      "Shape: (256, 256, 3) is now resized to: (1024, 1024, 3)\n",
      "Shape: (256, 256, 3) is now resized to: (1024, 1024, 3)\n",
      "Shape: (256, 256, 3) is now resized to: (1024, 1024, 3)\n",
      "Shape: (256, 256, 3) is now resized to: (1024, 1024, 3)\n",
      "Shape: (256, 256, 3) is now resized to: (1024, 1024, 3)\n",
      "Shape: (256, 256, 3) is now resized to: (1024, 1024, 3)\n",
      "Shape: (256, 256, 3) is now resized to: (1024, 1024, 3)\n",
      "Shape: (256, 256, 3) is now resized to: (1024, 1024, 3)\n",
      "Shape: (256, 256, 3) is now resized to: (1024, 1024, 3)\n",
      "Shape: (256, 256, 3) is now resized to: (1024, 1024, 3)\n",
      "Shape: (256, 256, 3) is now resized to: (1024, 1024, 3)\n",
      "Shape: (256, 256, 3) is now resized to: (1024, 1024, 3)\n",
      "Shape: (256, 256, 3) is now resized to: (1024, 1024, 3)\n",
      "Shape: (256, 256, 3) is now resized to: (1024, 1024, 3)\n",
      "Shape: (256, 256, 3) is now resized to: (1024, 1024, 3)\n",
      "Shape: (256, 256, 3) is now resized to: (1024, 1024, 3)\n",
      "Shape: (256, 256, 3) is now resized to: (1024, 1024, 3)\n",
      "Shape: (256, 256, 3) is now resized to: (1024, 1024, 3)\n",
      "Shape: (256, 256, 3) is now resized to: (1024, 1024, 3)\n",
      "Shape: (256, 256, 3) is now resized to: (1024, 1024, 3)\n",
      "Shape: (256, 256, 3) is now resized to: (1024, 1024, 3)\n",
      "Shape: (256, 256, 3) is now resized to: (1024, 1024, 3)\n",
      "Shape: (256, 256, 3) is now resized to: (1024, 1024, 3)\n",
      "Shape: (256, 256, 3) is now resized to: (1024, 1024, 3)\n",
      "Shape: (256, 256, 3) is now resized to: (1024, 1024, 3)\n",
      "Shape: (256, 256, 3) is now resized to: (1024, 1024, 3)\n",
      "Shape: (256, 256, 3) is now resized to: (1024, 1024, 3)\n",
      "Shape: (256, 256, 3) is now resized to: (1024, 1024, 3)\n",
      "Shape: (256, 256, 3) is now resized to: (1024, 1024, 3)\n",
      "Shape: (256, 256, 3) is now resized to: (1024, 1024, 3)\n",
      "Shape: (256, 256, 3) is now resized to: (1024, 1024, 3)\n",
      "Shape: (256, 256, 3) is now resized to: (1024, 1024, 3)\n",
      "Shape: (256, 256, 3) is now resized to: (1024, 1024, 3)\n",
      "Shape: (256, 256, 3) is now resized to: (1024, 1024, 3)\n",
      "Shape: (256, 256, 3) is now resized to: (1024, 1024, 3)\n",
      "Shape: (256, 256, 3) is now resized to: (1024, 1024, 3)\n",
      "Shape: (256, 256, 3) is now resized to: (1024, 1024, 3)\n",
      "Shape: (256, 256, 3) is now resized to: (1024, 1024, 3)\n",
      "Shape: (256, 256, 3) is now resized to: (1024, 1024, 3)\n",
      "Shape: (256, 256, 3) is now resized to: (1024, 1024, 3)\n",
      "Shape: (256, 256, 3) is now resized to: (1024, 1024, 3)\n",
      "Shape: (256, 256, 3) is now resized to: (1024, 1024, 3)\n",
      "Shape: (256, 256, 3) is now resized to: (1024, 1024, 3)\n",
      "Shape: (256, 256, 3) is now resized to: (1024, 1024, 3)\n",
      "Shape: (256, 256, 3) is now resized to: (1024, 1024, 3)\n",
      "Shape: (256, 256, 3) is now resized to: (1024, 1024, 3)\n",
      "Shape: (256, 256, 3) is now resized to: (1024, 1024, 3)\n",
      "Shape: (256, 256, 3) is now resized to: (1024, 1024, 3)\n",
      "Shape: (256, 256, 3) is now resized to: (1024, 1024, 3)\n",
      "Shape: (256, 256, 3) is now resized to: (1024, 1024, 3)\n"
     ]
    },
    {
     "name": "stdout",
     "output_type": "stream",
     "text": [
      "Shape: (256, 256, 3) is now resized to: (1024, 1024, 3)\n",
      "Shape: (256, 256, 3) is now resized to: (1024, 1024, 3)\n",
      "Shape: (256, 256, 3) is now resized to: (1024, 1024, 3)\n",
      "Shape: (256, 256, 3) is now resized to: (1024, 1024, 3)\n",
      "Shape: (256, 256, 3) is now resized to: (1024, 1024, 3)\n",
      "Shape: (256, 256, 3) is now resized to: (1024, 1024, 3)\n",
      "Shape: (256, 256, 3) is now resized to: (1024, 1024, 3)\n",
      "Shape: (256, 256, 3) is now resized to: (1024, 1024, 3)\n",
      "Shape: (256, 256, 3) is now resized to: (1024, 1024, 3)\n",
      "Shape: (256, 256, 3) is now resized to: (1024, 1024, 3)\n",
      "Shape: (256, 256, 3) is now resized to: (1024, 1024, 3)\n",
      "Shape: (256, 256, 3) is now resized to: (1024, 1024, 3)\n",
      "Shape: (256, 256, 3) is now resized to: (1024, 1024, 3)\n",
      "Shape: (256, 256, 3) is now resized to: (1024, 1024, 3)\n",
      "Shape: (256, 256, 3) is now resized to: (1024, 1024, 3)\n",
      "Shape: (256, 256, 3) is now resized to: (1024, 1024, 3)\n",
      "Shape: (256, 256, 3) is now resized to: (1024, 1024, 3)\n",
      "Shape: (256, 256, 3) is now resized to: (1024, 1024, 3)\n",
      "Shape: (256, 256, 3) is now resized to: (1024, 1024, 3)\n",
      "Shape: (256, 256, 3) is now resized to: (1024, 1024, 3)\n",
      "Shape: (256, 256, 3) is now resized to: (1024, 1024, 3)\n",
      "Shape: (256, 256, 3) is now resized to: (1024, 1024, 3)\n",
      "Shape: (256, 256, 3) is now resized to: (1024, 1024, 3)\n",
      "Shape: (256, 256, 3) is now resized to: (1024, 1024, 3)\n",
      "Shape: (256, 256, 3) is now resized to: (1024, 1024, 3)\n",
      "Shape: (256, 256, 3) is now resized to: (1024, 1024, 3)\n",
      "Shape: (256, 256, 3) is now resized to: (1024, 1024, 3)\n",
      "Shape: (256, 256, 3) is now resized to: (1024, 1024, 3)\n",
      "Shape: (256, 256, 3) is now resized to: (1024, 1024, 3)\n",
      "Shape: (256, 256, 3) is now resized to: (1024, 1024, 3)\n",
      "Shape: (256, 256, 3) is now resized to: (1024, 1024, 3)\n",
      "Shape: (256, 256, 3) is now resized to: (1024, 1024, 3)\n",
      "Shape: (256, 256, 3) is now resized to: (1024, 1024, 3)\n",
      "Shape: (256, 256, 3) is now resized to: (1024, 1024, 3)\n",
      "Shape: (256, 256, 3) is now resized to: (1024, 1024, 3)\n",
      "Shape: (256, 256, 3) is now resized to: (1024, 1024, 3)\n",
      "Shape: (256, 256, 3) is now resized to: (1024, 1024, 3)\n",
      "Shape: (256, 256, 3) is now resized to: (1024, 1024, 3)\n",
      "Shape: (256, 256, 3) is now resized to: (1024, 1024, 3)\n",
      "Shape: (256, 256, 3) is now resized to: (1024, 1024, 3)\n",
      "Shape: (256, 256, 3) is now resized to: (1024, 1024, 3)\n",
      "Shape: (256, 256, 3) is now resized to: (1024, 1024, 3)\n",
      "Shape: (256, 256, 3) is now resized to: (1024, 1024, 3)\n",
      "Shape: (256, 256, 3) is now resized to: (1024, 1024, 3)\n",
      "Shape: (256, 256, 3) is now resized to: (1024, 1024, 3)\n",
      "Shape: (256, 256, 3) is now resized to: (1024, 1024, 3)\n",
      "Shape: (256, 256, 3) is now resized to: (1024, 1024, 3)\n",
      "Shape: (256, 256, 3) is now resized to: (1024, 1024, 3)\n",
      "Shape: (256, 256, 3) is now resized to: (1024, 1024, 3)\n",
      "Shape: (256, 256, 3) is now resized to: (1024, 1024, 3)\n",
      "Shape: (256, 256, 3) is now resized to: (1024, 1024, 3)\n",
      "Shape: (256, 256, 3) is now resized to: (1024, 1024, 3)\n"
     ]
    }
   ],
   "source": [
    "resize_upsampling(old_folder, new_folder, 1024)"
   ]
  },
  {
   "cell_type": "markdown",
   "id": "bfa3d6de",
   "metadata": {},
   "source": [
    "#### Resize the syntetic image masks to 1024-1024"
   ]
  },
  {
   "cell_type": "code",
   "execution_count": 8,
   "id": "02e5aa08",
   "metadata": {},
   "outputs": [],
   "source": [
    "dir2 = '/mnt/robolab/data/Bilddaten/GAN_train_data_sydavis-ai/Evaluation/BatchSize/Blattfeder/'\n",
    "folder = 'SegmentationMasks'"
   ]
  },
  {
   "cell_type": "code",
   "execution_count": 9,
   "id": "a4c07467",
   "metadata": {
    "collapsed": true
   },
   "outputs": [
    {
     "name": "stdout",
     "output_type": "stream",
     "text": [
      "Shape: (1024, 1024, 3) is now resized to: (1024, 1024, 3)\n",
      "Shape: (1024, 1024, 3) is now resized to: (1024, 1024, 3)\n",
      "Shape: (1024, 1024, 3) is now resized to: (1024, 1024, 3)\n",
      "Shape: (1024, 1024, 3) is now resized to: (1024, 1024, 3)\n",
      "Shape: (1024, 1024, 3) is now resized to: (1024, 1024, 3)\n",
      "Shape: (1024, 1024, 3) is now resized to: (1024, 1024, 3)\n",
      "Shape: (1024, 1024, 3) is now resized to: (1024, 1024, 3)\n",
      "Shape: (1024, 1024, 3) is now resized to: (1024, 1024, 3)\n",
      "Shape: (1024, 1024, 3) is now resized to: (1024, 1024, 3)\n",
      "Shape: (1024, 1024, 3) is now resized to: (1024, 1024, 3)\n",
      "Shape: (1024, 1024, 3) is now resized to: (1024, 1024, 3)\n",
      "Shape: (1024, 1024, 3) is now resized to: (1024, 1024, 3)\n",
      "Shape: (1024, 1024, 3) is now resized to: (1024, 1024, 3)\n",
      "Shape: (1024, 1024, 3) is now resized to: (1024, 1024, 3)\n",
      "Shape: (1024, 1024, 3) is now resized to: (1024, 1024, 3)\n",
      "Shape: (1024, 1024, 3) is now resized to: (1024, 1024, 3)\n",
      "Shape: (1024, 1024, 3) is now resized to: (1024, 1024, 3)\n",
      "Shape: (1024, 1024, 3) is now resized to: (1024, 1024, 3)\n",
      "Shape: (1024, 1024, 3) is now resized to: (1024, 1024, 3)\n",
      "Shape: (1024, 1024, 3) is now resized to: (1024, 1024, 3)\n"
     ]
    }
   ],
   "source": [
    "size = 1024\n",
    "old_folder = (os.path.join(dir2, folder))\n",
    "new_folder = (os.path.join(dir2, folder+'_'+str(size)))\n",
    "\n",
    "if not os.path.exists(new_folder):\n",
    "    try:\n",
    "        os.mkdir(new_folder)\n",
    "    except FileExistsError:\n",
    "        print('Folder already exists')\n",
    "        pass\n",
    "resize_downsampling(old_folder, new_folder, size)"
   ]
  },
  {
   "cell_type": "markdown",
   "id": "5aec9d48",
   "metadata": {},
   "source": [
    "## 2. Use the annotation Tool Labelme to create polygons in JSON format"
   ]
  },
  {
   "cell_type": "markdown",
   "id": "3476f5f0",
   "metadata": {},
   "source": [
    "We than use the JSON files with polygon data to create semantic segmentation mask - no instance segmentation needed, because we do not need to differenciate between distinct features. We use the bash and python skript in this directory to do the mask translation."
   ]
  },
  {
   "cell_type": "code",
   "execution_count": 10,
   "id": "e3e1dff8",
   "metadata": {},
   "outputs": [
    {
     "name": "stdout",
     "output_type": "stream",
     "text": [
      "'$'\t\t\t\t\t        interpolation.py\n",
      " augmentation.py\t\t\t        labelme2coco.py\n",
      " data.py\t\t\t\t        labelme2voc.py\n",
      " datasets\t\t\t\t        labels.txt\n",
      " download_dataset.sh\t\t\t        LICENSE\n",
      " FeatureConsistencyScore_1.1.ipynb\t        mask-score.ipynb\n",
      " FeatureConsistencyScore_1.2.ipynb\t        module.py\n",
      " FeatureConsistencyScore_1.3.ipynb\t        output\n",
      " FeatureConsistencyScore_1.4.ipynb\t        __pycache__\n",
      " FeatureConsistencyScore_1.5.ipynb\t        pylib\n",
      " FeatureConsistencyScore_2.0-Blattfeder.ipynb   README.md\n",
      " FeatureConsistencyScore_2.0.ipynb\t        resize_images_pascalvoc\n",
      "'FeatureConsistency Score.ipynb'\t        test.py\n",
      " FeatureScore\t\t\t\t        tf2gan\n",
      " fid.py\t\t\t\t\t        tf2lib\n",
      " imlib\t\t\t\t\t        train.py\n",
      "/home/molu1019/workspace/CycleGAN-Tensorflow-2\n"
     ]
    }
   ],
   "source": [
    "!ls\n",
    "!pwd"
   ]
  },
  {
   "cell_type": "markdown",
   "id": "2a3f5cd1",
   "metadata": {},
   "source": [
    "Insert the folder path as **input_dir** where the GAN transformed images with corresponding JSON label are located."
   ]
  },
  {
   "cell_type": "code",
   "execution_count": 11,
   "id": "2811973a",
   "metadata": {},
   "outputs": [
    {
     "name": "stdout",
     "output_type": "stream",
     "text": [
      "/mnt/robolab/data/Bilddaten/GAN_train_data_sydavis-ai/Evaluation/BatchSize/Blattfeder/Batch2_mask\n"
     ]
    }
   ],
   "source": [
    "input_dir = '/mnt/robolab/data/Bilddaten/GAN_train_data_sydavis-ai/Evaluation/BatchSize/Blattfeder/Batch2'\n",
    "output_dir = input_dir+'_mask'\n",
    "print(output_dir)"
   ]
  },
  {
   "cell_type": "code",
   "execution_count": 12,
   "id": "96657eb5",
   "metadata": {
    "collapsed": true
   },
   "outputs": [
    {
     "name": "stdout",
     "output_type": "stream",
     "text": [
      "Creating dataset: /mnt/robolab/data/Bilddaten/GAN_train_data_sydavis-ai/Evaluation/BatchSize/Blattfeder/Batch2_mask\n",
      "class_names: ('_background_', 'Blattfeder', 'Blattfeder_nio', 'Wandlerhalter', 'Getriebeflansch_Mutter', 'Getriebeflansch_Abdeckung', 'Entluefter')\n",
      "Saved class_names: /mnt/robolab/data/Bilddaten/GAN_train_data_sydavis-ai/Evaluation/BatchSize/Blattfeder/Batch2_mask/class_names.txt\n",
      "Generating dataset from: /mnt/robolab/data/Bilddaten/GAN_train_data_sydavis-ai/Evaluation/BatchSize/Blattfeder/Batch2/rgb_273747.json\n",
      "Generating dataset from: /mnt/robolab/data/Bilddaten/GAN_train_data_sydavis-ai/Evaluation/BatchSize/Blattfeder/Batch2/rgb_273366.json\n",
      "Generating dataset from: /mnt/robolab/data/Bilddaten/GAN_train_data_sydavis-ai/Evaluation/BatchSize/Blattfeder/Batch2/rgb_273971.json\n",
      "Generating dataset from: /mnt/robolab/data/Bilddaten/GAN_train_data_sydavis-ai/Evaluation/BatchSize/Blattfeder/Batch2/rgb_273462.json\n",
      "Generating dataset from: /mnt/robolab/data/Bilddaten/GAN_train_data_sydavis-ai/Evaluation/BatchSize/Blattfeder/Batch2/rgb_273810.json\n",
      "Generating dataset from: /mnt/robolab/data/Bilddaten/GAN_train_data_sydavis-ai/Evaluation/BatchSize/Blattfeder/Batch2/rgb_273684.json\n",
      "Generating dataset from: /mnt/robolab/data/Bilddaten/GAN_train_data_sydavis-ai/Evaluation/BatchSize/Blattfeder/Batch2/rgb_274002.json\n",
      "Generating dataset from: /mnt/robolab/data/Bilddaten/GAN_train_data_sydavis-ai/Evaluation/BatchSize/Blattfeder/Batch2/rgb_274350.json\n",
      "Generating dataset from: /mnt/robolab/data/Bilddaten/GAN_train_data_sydavis-ai/Evaluation/BatchSize/Blattfeder/Batch2/rgb_273430.json\n",
      "Generating dataset from: /mnt/robolab/data/Bilddaten/GAN_train_data_sydavis-ai/Evaluation/BatchSize/Blattfeder/Batch2/rgb_274227.json\n",
      "Generating dataset from: /mnt/robolab/data/Bilddaten/GAN_train_data_sydavis-ai/Evaluation/BatchSize/Blattfeder/Batch2/rgb_273715.json\n",
      "Generating dataset from: /mnt/robolab/data/Bilddaten/GAN_train_data_sydavis-ai/Evaluation/BatchSize/Blattfeder/Batch2/rgb_274321.json\n",
      "Generating dataset from: /mnt/robolab/data/Bilddaten/GAN_train_data_sydavis-ai/Evaluation/BatchSize/Blattfeder/Batch2/rgb_274414.json\n",
      "Generating dataset from: /mnt/robolab/data/Bilddaten/GAN_train_data_sydavis-ai/Evaluation/BatchSize/Blattfeder/Batch2/rgb_273905.json\n",
      "Generating dataset from: /mnt/robolab/data/Bilddaten/GAN_train_data_sydavis-ai/Evaluation/BatchSize/Blattfeder/Batch2/rgb_274032.json\n",
      "Generating dataset from: /mnt/robolab/data/Bilddaten/GAN_train_data_sydavis-ai/Evaluation/BatchSize/Blattfeder/Batch2/rgb_274544.json\n",
      "Generating dataset from: /mnt/robolab/data/Bilddaten/GAN_train_data_sydavis-ai/Evaluation/BatchSize/Blattfeder/Batch2/rgb_273582.json\n",
      "Generating dataset from: /mnt/robolab/data/Bilddaten/GAN_train_data_sydavis-ai/Evaluation/BatchSize/Blattfeder/Batch2/rgb_274288.json\n",
      "Generating dataset from: /mnt/robolab/data/Bilddaten/GAN_train_data_sydavis-ai/Evaluation/BatchSize/Blattfeder/Batch2/rgb_274513.json\n",
      "Generating dataset from: /mnt/robolab/data/Bilddaten/GAN_train_data_sydavis-ai/Evaluation/BatchSize/Blattfeder/Batch2/rgb_274064.json\n"
     ]
    }
   ],
   "source": [
    "!python3 labelme2voc.py $input_dir $output_dir --labels labels.txt"
   ]
  },
  {
   "cell_type": "code",
   "execution_count": 15,
   "id": "31772350",
   "metadata": {},
   "outputs": [],
   "source": [
    "masks_gan = output_dir+'/SegmentationObjectPNG'"
   ]
  },
  {
   "cell_type": "markdown",
   "id": "c8c93cbb",
   "metadata": {},
   "source": [
    "## 3. GAN Image Data\n",
    "### 3.1 Prepare Data: Create Folder with binary images"
   ]
  },
  {
   "cell_type": "code",
   "execution_count": 18,
   "id": "8427b343",
   "metadata": {},
   "outputs": [],
   "source": [
    "def binarize(im_path, size=1024):\n",
    "    \"\"\"Read, binarize and save images as png.\n",
    "    Args:\n",
    "        path: A string, path of images.\n",
    "    \"\"\"\n",
    "    img = Image.open(im_path).convert('L')\n",
    "    img = np.array(img)\n",
    "    \n",
    "    thresh = 10\n",
    "    im_bool = img > thresh \n",
    "    \n",
    "    maxval = 255\n",
    "    im_bin = (img > thresh) * maxval\n",
    "    #print(im_bin.shape) \n",
    "    \n",
    "    #save array to images\n",
    "    im_save_bi = Image.fromarray(np.uint8(im_bin))\n",
    "    im_save_bool = Image.fromarray((im_bool))   \n",
    "\n",
    "    return im_save_bool"
   ]
  },
  {
   "cell_type": "code",
   "execution_count": 33,
   "id": "f48a8d1b",
   "metadata": {},
   "outputs": [
    {
     "data": {
      "image/png": "[encoded data removed]",
      "text/plain": [
       "<Figure size 432x288 with 1 Axes>"
      ]
     },
     "metadata": {
      "needs_background": "light"
     },
     "output_type": "display_data"
    }
   ],
   "source": [
    "#test GAN Data\n",
    "masks_gan = masks_gan\n",
    "masks_gan_save = output_dir+'/binarized'\n",
    "if not os.path.exists(path_gan):\n",
    "    try:\n",
    "        os.mkdir(path_gan)\n",
    "    except FileExistsError:\n",
    "        print('Folder already exists')\n",
    "        pass\n",
    "path = os.path.join(masks_gan, '*.png')\n",
    "files = list(glob.glob(path))\n",
    "files.sort(reverse=True)\n",
    "\n",
    "for file in files:\n",
    "    image= binarize(file)\n",
    "    plt.imshow(image)\n",
    "    bbox = image.getbbox()\n",
    "    plt.title(f'Bbox: {bbox} Name: {file[-10:]}')\n",
    "    image.save(os.path.join(masks_gan_save,file[-10:]))"
   ]
  },
  {
   "cell_type": "markdown",
   "id": "4927a244",
   "metadata": {},
   "source": [
    "## 4. Syntetic Image Masks\n",
    "### 4.1 Prepare Data: Create Folder with binary images"
   ]
  },
  {
   "cell_type": "markdown",
   "id": "b5811e0c",
   "metadata": {},
   "source": [
    "#### Operation for reading png segmentation masks from folder path, resize, convert to greyscale and save imagesin new folder"
   ]
  },
  {
   "cell_type": "code",
   "execution_count": 35,
   "id": "e9ab9722",
   "metadata": {
    "scrolled": true
   },
   "outputs": [
    {
     "data": {
      "image/png": "[encoded data removed]",
      "text/plain": [
       "<Figure size 432x288 with 1 Axes>"
      ]
     },
     "metadata": {
      "needs_background": "light"
     },
     "output_type": "display_data"
    }
   ],
   "source": [
    "#test GAN Data\n",
    "masks_syn = '/mnt/robolab/data/Bilddaten/GAN_train_data_sydavis-ai/Evaluation/BatchSize/Blattfeder/SegmentationMasks_1024'\n",
    "masks_syn_save = masks_syn\n",
    "path = os.path.join(masks_syn, '*.png')\n",
    "files = list(glob.glob(path))\n",
    "files.sort(reverse=True)\n",
    "\n",
    "for file in files:\n",
    "    image = binarize(file)\n",
    "    plt.imshow(image)\n",
    "    bbox = image.getbbox()\n",
    "    plt.title(f'Bbox: {bbox} Name: {file[-19:]}')\n",
    "    image.save(os.path.join(masks_syn_save,file[-19:]))"
   ]
  },
  {
   "cell_type": "code",
   "execution_count": 36,
   "id": "4d2e6950",
   "metadata": {},
   "outputs": [],
   "source": [
    "def loadpolygon():\n",
    "    return"
   ]
  },
  {
   "cell_type": "markdown",
   "id": "63d0c6cb",
   "metadata": {},
   "source": [
    "Since True is regarded as 1 and False is regarded as 0, when multiplied by 255 which is the Max value of uint8, True becomes 255 (white) and False becomes 0 (black)"
   ]
  },
  {
   "cell_type": "code",
   "execution_count": 37,
   "id": "3522ce35",
   "metadata": {},
   "outputs": [],
   "source": [
    "def convexhull():\n",
    "    return"
   ]
  },
  {
   "cell_type": "code",
   "execution_count": 38,
   "id": "09d014be",
   "metadata": {},
   "outputs": [],
   "source": [
    "def calculatescore(ground_truth, prediction_gan):\n",
    "    \"\"\"\n",
    "    Compute feature consitency score of two segmentation masks.\n",
    "    \n",
    "    IoU(A,B) = |A & B| / (| A U B|)\n",
    "    Dice(A,B) = 2*|A & B| / (|A| + |B|)\n",
    "\n",
    "    Args:\n",
    "        y_true: true masks, one-hot encoded.\n",
    "        y_pred: predicted masks, either softmax outputs, or one-hot encoded.\n",
    "        metric_name: metric to be computed, either 'iou' or 'dice'.\n",
    "        metric_type: one of 'standard' (default), 'soft', 'naive'.\n",
    "          In the standard version, y_pred is one-hot encoded and the mean\n",
    "          is taken only over classes that are present (in y_true or y_pred).\n",
    "          The 'soft' version of the metrics are computed without one-hot\n",
    "          encoding y_pred.\n",
    "          \n",
    "    Returns:\n",
    "        IoU of ground truth and GAN transformed syntetic Image, as a float.\n",
    "\n",
    "    Inputs are B*W*H*N tensors, with\n",
    "        B = batch size,\n",
    "        W = width,\n",
    "        H = height,\n",
    "        N = number of classes\n",
    "    \"\"\"\n",
    "    \n",
    "    # check image shape to be the same\n",
    "    assert ground_truth.shape == prediction_gan.shape, 'Input masks should be same shape, instead are {}, {}'.format(ground_truth.shape, prediction_gan.shape)\n",
    "    #print('Ground truth shape: '+str(ground_truth.shape))\n",
    "    #print('Predicted GAN image shape: '+str(prediction_gan.shape))\n",
    "    \n",
    "    intersection = np.logical_and(ground_truth, prediction_gan)\n",
    "    union = np.logical_or(ground_truth, prediction_gan)\n",
    "    mask_sum = np.sum(np.abs(union)) + np.sum(np.abs(intersection))\n",
    "    iou_score = np.sum(intersection) / np.sum(union)\n",
    "    dice_score = 2*np.sum(intersection) / np.sum(mask_sum) \n",
    "    print('IoU is: '+str(iou_score))\n",
    "    print('Dice/F1 Score is: '+str(dice_score))\n",
    "    return iou_score, dice_score"
   ]
  },
  {
   "cell_type": "markdown",
   "id": "7713902d",
   "metadata": {},
   "source": [
    "## 6. Calculate mean IoU\n",
    "Translate image mask to white RGB(255,255,255), fill convex hull, and compare masks to calculate 'Feature Consistency Score' "
   ]
  },
  {
   "cell_type": "code",
   "execution_count": 39,
   "id": "ced4a014",
   "metadata": {
    "scrolled": true
   },
   "outputs": [],
   "source": [
    "path_syn = masks_syn_save\n",
    "path_gan = masks_gan_save\n",
    "path_syn = os.path.join(path_syn, '*.png')\n",
    "path_gan = os.path.join(path_gan, '*.png')\n",
    "files_syn = list(glob.glob(path_syn))\n",
    "files_gan = list(glob.glob(path_gan))\n",
    "files_syn.sort(reverse=True)\n",
    "files_gan.sort(reverse=True)\n",
    "\n",
    "combined_list = zip(files_syn, files_gan)\n",
    "z = list(combined_list)"
   ]
  },
  {
   "cell_type": "code",
   "execution_count": 40,
   "id": "6806b2eb",
   "metadata": {},
   "outputs": [
    {
     "name": "stdout",
     "output_type": "stream",
     "text": [
      "Image name: 274544.png\n",
      "IoU is: 0.9473047452614599\n",
      "Dice/F1 Score is: 0.9729393897556261\n",
      "\n",
      "\n",
      "Image name: 274513.png\n",
      "IoU is: 0.9288978745816273\n",
      "Dice/F1 Score is: 0.963138470752997\n",
      "\n",
      "\n",
      "Image name: 274414.png\n",
      "IoU is: 0.9500431184471307\n",
      "Dice/F1 Score is: 0.9743816528566552\n",
      "\n",
      "\n",
      "Image name: 274350.png\n",
      "IoU is: 0.9578396773380389\n",
      "Dice/F1 Score is: 0.9784658962886664\n",
      "\n",
      "\n",
      "Image name: 274321.png\n",
      "IoU is: 0.9566369789811187\n",
      "Dice/F1 Score is: 0.9778379834968356\n",
      "\n",
      "\n",
      "Image name: 274288.png\n",
      "IoU is: 0.9373160633822722\n",
      "Dice/F1 Score is: 0.9676439287308181\n",
      "\n",
      "\n",
      "Image name: 274227.png\n",
      "IoU is: 0.939495915660127\n",
      "Dice/F1 Score is: 0.968804221833445\n",
      "\n",
      "\n",
      "Image name: 274064.png\n",
      "IoU is: 0.8285863710057005\n",
      "Dice/F1 Score is: 0.9062589376623079\n",
      "\n",
      "\n",
      "Image name: 274032.png\n",
      "IoU is: 0.8655228407001456\n",
      "Dice/F1 Score is: 0.9279144932637844\n",
      "\n",
      "\n",
      "Image name: 274002.png\n",
      "IoU is: 0.8449805237378997\n",
      "Dice/F1 Score is: 0.9159777166926221\n",
      "\n",
      "\n",
      "Image name: 273971.png\n",
      "IoU is: 0.9327646443781399\n",
      "Dice/F1 Score is: 0.9652128593010906\n",
      "\n",
      "\n",
      "Image name: 273905.png\n",
      "IoU is: 0.7651856559587089\n",
      "Dice/F1 Score is: 0.8669747041912378\n",
      "\n",
      "\n",
      "Image name: 273810.png\n",
      "IoU is: 0.9596799254195152\n",
      "Dice/F1 Score is: 0.9794251734390486\n",
      "\n",
      "\n",
      "Image name: 273747.png\n",
      "IoU is: 0.818238681707396\n",
      "Dice/F1 Score is: 0.9000344013570742\n",
      "\n",
      "\n",
      "Image name: 273715.png\n",
      "IoU is: 0.9177574134748117\n",
      "Dice/F1 Score is: 0.9571152295137413\n",
      "\n",
      "\n",
      "Image name: 273684.png\n",
      "IoU is: 0.8555309615073152\n",
      "Dice/F1 Score is: 0.9221414023858016\n",
      "\n",
      "\n",
      "Image name: 273582.png\n",
      "IoU is: 0.8480134764609953\n",
      "Dice/F1 Score is: 0.9177568099611136\n",
      "\n",
      "\n",
      "Image name: 273462.png\n",
      "IoU is: 0.8870794078061911\n",
      "Dice/F1 Score is: 0.9401611867912417\n",
      "\n",
      "\n",
      "Image name: 273430.png\n",
      "IoU is: 0.9160358863167188\n",
      "Dice/F1 Score is: 0.9561782144672201\n",
      "\n",
      "\n",
      "Image name: 273366.png\n",
      "IoU is: 0.917478831526348\n",
      "Dice/F1 Score is: 0.9569637134361668\n",
      "\n",
      "\n",
      "Mean IoU is: 0.8987194496825831\n",
      "[0.9473047452614599, 0.9288978745816273, 0.9500431184471307, 0.9578396773380389, 0.9566369789811187, 0.9373160633822722, 0.939495915660127, 0.8285863710057005, 0.8655228407001456, 0.8449805237378997, 0.9327646443781399, 0.7651856559587089, 0.9596799254195152, 0.818238681707396, 0.9177574134748117, 0.8555309615073152, 0.8480134764609953, 0.8870794078061911, 0.9160358863167188, 0.917478831526348]\n",
      "\n",
      "Mean Dice score is: 0.9457663193088746\n",
      "[0.9729393897556261, 0.963138470752997, 0.9743816528566552, 0.9784658962886664, 0.9778379834968356, 0.9676439287308181, 0.968804221833445, 0.9062589376623079, 0.9279144932637844, 0.9159777166926221, 0.9652128593010906, 0.8669747041912378, 0.9794251734390486, 0.9000344013570742, 0.9571152295137413, 0.9221414023858016, 0.9177568099611136, 0.9401611867912417, 0.9561782144672201, 0.9569637134361668]\n"
     ]
    }
   ],
   "source": [
    "iou_list = []\n",
    "dice_list = []\n",
    "for syn, gan in zip(files_syn, files_gan):\n",
    "    img_syn = np.array(Image.open(syn))\n",
    "    img_gan = np.array(Image.open(gan))\n",
    "    print(f'Image name: {syn[-10:]}')\n",
    "    iou, dice = calculatescore(img_syn, img_gan)\n",
    "    print('\\n')\n",
    "    iou_list.append(iou)\n",
    "    dice_list.append(dice)\n",
    "    \n",
    "mean_iou = np.mean(iou_list)\n",
    "mean_dice = np.mean(dice_list)\n",
    "print(f'Mean IoU is: {mean_iou}')\n",
    "print(f'{iou_list}\\n')\n",
    "print(f'Mean Dice score is: {mean_dice}')\n",
    "print(dice_list)"
   ]
  },
  {
   "cell_type": "code",
   "execution_count": null,
   "id": "6de20a0b",
   "metadata": {},
   "outputs": [],
   "source": []
  },
  {
   "cell_type": "code",
   "execution_count": null,
   "id": "40c319cf",
   "metadata": {},
   "outputs": [],
   "source": []
  }
 ],
 "metadata": {
  "kernelspec": {
   "display_name": "Python 3.6.9 64-bit ('cygan': virtualenv)",
   "language": "python",
   "name": "python369jvsc74a57bd0987972a5af0063b4ad0c1bc948181328354b4e09dc76cc55a6609915adabc773"
  },
  "language_info": {
   "codemirror_mode": {
    "name": "ipython",
    "version": 3
   },
   "file_extension": ".py",
   "mimetype": "text/x-python",
   "name": "python",
   "nbconvert_exporter": "python",
   "pygments_lexer": "ipython3",
   "version": "3.6.9"
  }
 },
 "nbformat": 4,
 "nbformat_minor": 5
}
