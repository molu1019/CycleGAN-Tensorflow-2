{
 "cells": [
  {
   "cell_type": "markdown",
   "id": "a06cd1d4",
   "metadata": {},
   "source": [
    "## Notebook for calculating Mask Consistency Score for GAN-transformed images"
   ]
  },
  {
   "cell_type": "code",
   "execution_count": 34,
   "id": "900e2b4d",
   "metadata": {},
   "outputs": [],
   "source": [
    "from PIL import Image\n",
    "import cv2\n",
    "from matplotlib import pyplot as plt\n",
    "import tensorflow as tf\n",
    "import glob, os\n",
    "import numpy as np\n",
    "import sys\n",
    "import matplotlib.image as mpimg\n",
    "#from keras.preprocessing.image import img_to_array, array_to_img"
   ]
  },
  {
   "cell_type": "markdown",
   "id": "ebd58ed4",
   "metadata": {},
   "source": [
    "## 1. Resize GAN-transformed Dataset to 1024*1024"
   ]
  },
  {
   "cell_type": "markdown",
   "id": "d00c6def",
   "metadata": {},
   "source": [
    "#### 1.1 Specify Args: Directory, folder name and the new image size"
   ]
  },
  {
   "cell_type": "code",
   "execution_count": 2,
   "id": "bab0c67e",
   "metadata": {},
   "outputs": [],
   "source": [
    "dir = '/mnt/robolab/data/Bilddaten/GAN_train_data_sydavis-ai/Powertrain17_Getriebeflansch/Results/Batch4_100epochs_trainA400_250trainB/samples_testing'"
   ]
  },
  {
   "cell_type": "markdown",
   "id": "9b400c36",
   "metadata": {},
   "source": [
    "#### 1.2 Create new Folder \"/A2B_FID_1024\" in Directory"
   ]
  },
  {
   "cell_type": "code",
   "execution_count": 3,
   "id": "520e04ef",
   "metadata": {},
   "outputs": [],
   "source": [
    "folder = 'A2B_FID'\n",
    "image_size = 1024\n",
    "old_folder = (os.path.join(dir, folder))\n",
    "new_folder = (os.path.join(dir, folder+'_'+str(image_size)))\n",
    "\n",
    "if not os.path.exists(new_folder):\n",
    "    try:\n",
    "        os.mkdir(new_folder)\n",
    "    except FileExistsError:\n",
    "        print('Folder already exists')\n",
    "        pass"
   ]
  },
  {
   "cell_type": "code",
   "execution_count": 4,
   "id": "76b37952",
   "metadata": {},
   "outputs": [
    {
     "name": "stdout",
     "output_type": "stream",
     "text": [
      "/mnt/robolab/data/Bilddaten/GAN_train_data_sydavis-ai/Powertrain17_Getriebeflansch/Results/Batch4_100epochs_trainA400_250trainB/samples_testing/A2B_FID\n",
      "/mnt/robolab/data/Bilddaten/GAN_train_data_sydavis-ai/Powertrain17_Getriebeflansch/Results/Batch4_100epochs_trainA400_250trainB/samples_testing/A2B_FID_1024\n"
     ]
    }
   ],
   "source": [
    "print(os.path.join(old_folder))\n",
    "print(os.path.join(dir, folder+'_'+str(image_size)))"
   ]
  },
  {
   "cell_type": "markdown",
   "id": "a1f9315f",
   "metadata": {},
   "source": [
    "#### 1.3 Function for upsampling images of 256-256 or 512-512 to images with size 1024-1024"
   ]
  },
  {
   "cell_type": "code",
   "execution_count": 5,
   "id": "4f61b062",
   "metadata": {},
   "outputs": [],
   "source": [
    "def resize_upsampling(old_folder, new_folder, size):\n",
    "    dim = (size, size)\n",
    "    for image in os.listdir(old_folder):\n",
    "        img = cv2.imread(os.path.join(old_folder, image))\n",
    "        # INTER_CUBIC or INTER_LANCZOS4\n",
    "        img_resized = cv2.resize(img, dim, interpolation = cv2.INTER_LANCZOS4)\n",
    "        print('Shape: '+str(img.shape)+' is now resized to: '+str(img_resized.shape))\n",
    "        cv2.imwrite(os.path.join(new_folder , image),img_resized)\n",
    "        \n",
    "def resize_downsampling(old_folder, new_folder, size):\n",
    "    dim = (size, size)\n",
    "    for image in os.listdir(old_folder):\n",
    "        img = cv2.imread(os.path.join(old_folder, image))\n",
    "        img_resized = cv2.resize(img, dim, interpolation = cv2.INTER_AREA)\n",
    "        print('Shape: '+str(img.shape)+' is now resized to: '+str(img_resized.shape))\n",
    "        cv2.imwrite(os.path.join(new_folder , image),img_resized)"
   ]
  },
  {
   "cell_type": "markdown",
   "id": "b1419ef7",
   "metadata": {},
   "source": [
    "#### 1.4 Run the aforementoined function"
   ]
  },
  {
   "cell_type": "code",
   "execution_count": 6,
   "id": "2034aa99",
   "metadata": {
    "scrolled": true
   },
   "outputs": [
    {
     "name": "stdout",
     "output_type": "stream",
     "text": [
      "Shape: (256, 256, 3) is now resized to: (1024, 1024, 3)\n",
      "Shape: (256, 256, 3) is now resized to: (1024, 1024, 3)\n",
      "Shape: (256, 256, 3) is now resized to: (1024, 1024, 3)\n",
      "Shape: (256, 256, 3) is now resized to: (1024, 1024, 3)\n",
      "Shape: (256, 256, 3) is now resized to: (1024, 1024, 3)\n",
      "Shape: (256, 256, 3) is now resized to: (1024, 1024, 3)\n",
      "Shape: (256, 256, 3) is now resized to: (1024, 1024, 3)\n",
      "Shape: (256, 256, 3) is now resized to: (1024, 1024, 3)\n",
      "Shape: (256, 256, 3) is now resized to: (1024, 1024, 3)\n",
      "Shape: (256, 256, 3) is now resized to: (1024, 1024, 3)\n",
      "Shape: (256, 256, 3) is now resized to: (1024, 1024, 3)\n",
      "Shape: (256, 256, 3) is now resized to: (1024, 1024, 3)\n",
      "Shape: (256, 256, 3) is now resized to: (1024, 1024, 3)\n",
      "Shape: (256, 256, 3) is now resized to: (1024, 1024, 3)\n",
      "Shape: (256, 256, 3) is now resized to: (1024, 1024, 3)\n",
      "Shape: (256, 256, 3) is now resized to: (1024, 1024, 3)\n",
      "Shape: (256, 256, 3) is now resized to: (1024, 1024, 3)\n",
      "Shape: (256, 256, 3) is now resized to: (1024, 1024, 3)\n",
      "Shape: (256, 256, 3) is now resized to: (1024, 1024, 3)\n",
      "Shape: (256, 256, 3) is now resized to: (1024, 1024, 3)\n",
      "Shape: (256, 256, 3) is now resized to: (1024, 1024, 3)\n",
      "Shape: (256, 256, 3) is now resized to: (1024, 1024, 3)\n",
      "Shape: (256, 256, 3) is now resized to: (1024, 1024, 3)\n",
      "Shape: (256, 256, 3) is now resized to: (1024, 1024, 3)\n",
      "Shape: (256, 256, 3) is now resized to: (1024, 1024, 3)\n",
      "Shape: (256, 256, 3) is now resized to: (1024, 1024, 3)\n",
      "Shape: (256, 256, 3) is now resized to: (1024, 1024, 3)\n",
      "Shape: (256, 256, 3) is now resized to: (1024, 1024, 3)\n",
      "Shape: (256, 256, 3) is now resized to: (1024, 1024, 3)\n",
      "Shape: (256, 256, 3) is now resized to: (1024, 1024, 3)\n",
      "Shape: (256, 256, 3) is now resized to: (1024, 1024, 3)\n",
      "Shape: (256, 256, 3) is now resized to: (1024, 1024, 3)\n",
      "Shape: (256, 256, 3) is now resized to: (1024, 1024, 3)\n",
      "Shape: (256, 256, 3) is now resized to: (1024, 1024, 3)\n",
      "Shape: (256, 256, 3) is now resized to: (1024, 1024, 3)\n",
      "Shape: (256, 256, 3) is now resized to: (1024, 1024, 3)\n",
      "Shape: (256, 256, 3) is now resized to: (1024, 1024, 3)\n",
      "Shape: (256, 256, 3) is now resized to: (1024, 1024, 3)\n",
      "Shape: (256, 256, 3) is now resized to: (1024, 1024, 3)\n",
      "Shape: (256, 256, 3) is now resized to: (1024, 1024, 3)\n",
      "Shape: (256, 256, 3) is now resized to: (1024, 1024, 3)\n",
      "Shape: (256, 256, 3) is now resized to: (1024, 1024, 3)\n",
      "Shape: (256, 256, 3) is now resized to: (1024, 1024, 3)\n",
      "Shape: (256, 256, 3) is now resized to: (1024, 1024, 3)\n",
      "Shape: (256, 256, 3) is now resized to: (1024, 1024, 3)\n",
      "Shape: (256, 256, 3) is now resized to: (1024, 1024, 3)\n",
      "Shape: (256, 256, 3) is now resized to: (1024, 1024, 3)\n",
      "Shape: (256, 256, 3) is now resized to: (1024, 1024, 3)\n",
      "Shape: (256, 256, 3) is now resized to: (1024, 1024, 3)\n",
      "Shape: (256, 256, 3) is now resized to: (1024, 1024, 3)\n",
      "Shape: (256, 256, 3) is now resized to: (1024, 1024, 3)\n",
      "Shape: (256, 256, 3) is now resized to: (1024, 1024, 3)\n",
      "Shape: (256, 256, 3) is now resized to: (1024, 1024, 3)\n",
      "Shape: (256, 256, 3) is now resized to: (1024, 1024, 3)\n",
      "Shape: (256, 256, 3) is now resized to: (1024, 1024, 3)\n",
      "Shape: (256, 256, 3) is now resized to: (1024, 1024, 3)\n",
      "Shape: (256, 256, 3) is now resized to: (1024, 1024, 3)\n",
      "Shape: (256, 256, 3) is now resized to: (1024, 1024, 3)\n",
      "Shape: (256, 256, 3) is now resized to: (1024, 1024, 3)\n",
      "Shape: (256, 256, 3) is now resized to: (1024, 1024, 3)\n",
      "Shape: (256, 256, 3) is now resized to: (1024, 1024, 3)\n",
      "Shape: (256, 256, 3) is now resized to: (1024, 1024, 3)\n",
      "Shape: (256, 256, 3) is now resized to: (1024, 1024, 3)\n",
      "Shape: (256, 256, 3) is now resized to: (1024, 1024, 3)\n",
      "Shape: (256, 256, 3) is now resized to: (1024, 1024, 3)\n",
      "Shape: (256, 256, 3) is now resized to: (1024, 1024, 3)\n",
      "Shape: (256, 256, 3) is now resized to: (1024, 1024, 3)\n",
      "Shape: (256, 256, 3) is now resized to: (1024, 1024, 3)\n",
      "Shape: (256, 256, 3) is now resized to: (1024, 1024, 3)\n",
      "Shape: (256, 256, 3) is now resized to: (1024, 1024, 3)\n",
      "Shape: (256, 256, 3) is now resized to: (1024, 1024, 3)\n",
      "Shape: (256, 256, 3) is now resized to: (1024, 1024, 3)\n",
      "Shape: (256, 256, 3) is now resized to: (1024, 1024, 3)\n",
      "Shape: (256, 256, 3) is now resized to: (1024, 1024, 3)\n",
      "Shape: (256, 256, 3) is now resized to: (1024, 1024, 3)\n",
      "Shape: (256, 256, 3) is now resized to: (1024, 1024, 3)\n",
      "Shape: (256, 256, 3) is now resized to: (1024, 1024, 3)\n",
      "Shape: (256, 256, 3) is now resized to: (1024, 1024, 3)\n",
      "Shape: (256, 256, 3) is now resized to: (1024, 1024, 3)\n",
      "Shape: (256, 256, 3) is now resized to: (1024, 1024, 3)\n",
      "Shape: (256, 256, 3) is now resized to: (1024, 1024, 3)\n",
      "Shape: (256, 256, 3) is now resized to: (1024, 1024, 3)\n",
      "Shape: (256, 256, 3) is now resized to: (1024, 1024, 3)\n",
      "Shape: (256, 256, 3) is now resized to: (1024, 1024, 3)\n",
      "Shape: (256, 256, 3) is now resized to: (1024, 1024, 3)\n",
      "Shape: (256, 256, 3) is now resized to: (1024, 1024, 3)\n",
      "Shape: (256, 256, 3) is now resized to: (1024, 1024, 3)\n",
      "Shape: (256, 256, 3) is now resized to: (1024, 1024, 3)\n",
      "Shape: (256, 256, 3) is now resized to: (1024, 1024, 3)\n",
      "Shape: (256, 256, 3) is now resized to: (1024, 1024, 3)\n",
      "Shape: (256, 256, 3) is now resized to: (1024, 1024, 3)\n",
      "Shape: (256, 256, 3) is now resized to: (1024, 1024, 3)\n",
      "Shape: (256, 256, 3) is now resized to: (1024, 1024, 3)\n",
      "Shape: (256, 256, 3) is now resized to: (1024, 1024, 3)\n",
      "Shape: (256, 256, 3) is now resized to: (1024, 1024, 3)\n",
      "Shape: (256, 256, 3) is now resized to: (1024, 1024, 3)\n",
      "Shape: (256, 256, 3) is now resized to: (1024, 1024, 3)\n",
      "Shape: (256, 256, 3) is now resized to: (1024, 1024, 3)\n",
      "Shape: (256, 256, 3) is now resized to: (1024, 1024, 3)\n",
      "Shape: (256, 256, 3) is now resized to: (1024, 1024, 3)\n",
      "Shape: (256, 256, 3) is now resized to: (1024, 1024, 3)\n",
      "Shape: (256, 256, 3) is now resized to: (1024, 1024, 3)\n",
      "Shape: (256, 256, 3) is now resized to: (1024, 1024, 3)\n",
      "Shape: (256, 256, 3) is now resized to: (1024, 1024, 3)\n",
      "Shape: (256, 256, 3) is now resized to: (1024, 1024, 3)\n",
      "Shape: (256, 256, 3) is now resized to: (1024, 1024, 3)\n",
      "Shape: (256, 256, 3) is now resized to: (1024, 1024, 3)\n",
      "Shape: (256, 256, 3) is now resized to: (1024, 1024, 3)\n",
      "Shape: (256, 256, 3) is now resized to: (1024, 1024, 3)\n",
      "Shape: (256, 256, 3) is now resized to: (1024, 1024, 3)\n",
      "Shape: (256, 256, 3) is now resized to: (1024, 1024, 3)\n",
      "Shape: (256, 256, 3) is now resized to: (1024, 1024, 3)\n",
      "Shape: (256, 256, 3) is now resized to: (1024, 1024, 3)\n",
      "Shape: (256, 256, 3) is now resized to: (1024, 1024, 3)\n",
      "Shape: (256, 256, 3) is now resized to: (1024, 1024, 3)\n",
      "Shape: (256, 256, 3) is now resized to: (1024, 1024, 3)\n",
      "Shape: (256, 256, 3) is now resized to: (1024, 1024, 3)\n",
      "Shape: (256, 256, 3) is now resized to: (1024, 1024, 3)\n",
      "Shape: (256, 256, 3) is now resized to: (1024, 1024, 3)\n",
      "Shape: (256, 256, 3) is now resized to: (1024, 1024, 3)\n",
      "Shape: (256, 256, 3) is now resized to: (1024, 1024, 3)\n",
      "Shape: (256, 256, 3) is now resized to: (1024, 1024, 3)\n",
      "Shape: (256, 256, 3) is now resized to: (1024, 1024, 3)\n",
      "Shape: (256, 256, 3) is now resized to: (1024, 1024, 3)\n",
      "Shape: (256, 256, 3) is now resized to: (1024, 1024, 3)\n",
      "Shape: (256, 256, 3) is now resized to: (1024, 1024, 3)\n",
      "Shape: (256, 256, 3) is now resized to: (1024, 1024, 3)\n",
      "Shape: (256, 256, 3) is now resized to: (1024, 1024, 3)\n",
      "Shape: (256, 256, 3) is now resized to: (1024, 1024, 3)\n",
      "Shape: (256, 256, 3) is now resized to: (1024, 1024, 3)\n",
      "Shape: (256, 256, 3) is now resized to: (1024, 1024, 3)\n",
      "Shape: (256, 256, 3) is now resized to: (1024, 1024, 3)\n",
      "Shape: (256, 256, 3) is now resized to: (1024, 1024, 3)\n",
      "Shape: (256, 256, 3) is now resized to: (1024, 1024, 3)\n",
      "Shape: (256, 256, 3) is now resized to: (1024, 1024, 3)\n",
      "Shape: (256, 256, 3) is now resized to: (1024, 1024, 3)\n",
      "Shape: (256, 256, 3) is now resized to: (1024, 1024, 3)\n",
      "Shape: (256, 256, 3) is now resized to: (1024, 1024, 3)\n",
      "Shape: (256, 256, 3) is now resized to: (1024, 1024, 3)\n",
      "Shape: (256, 256, 3) is now resized to: (1024, 1024, 3)\n",
      "Shape: (256, 256, 3) is now resized to: (1024, 1024, 3)\n",
      "Shape: (256, 256, 3) is now resized to: (1024, 1024, 3)\n",
      "Shape: (256, 256, 3) is now resized to: (1024, 1024, 3)\n",
      "Shape: (256, 256, 3) is now resized to: (1024, 1024, 3)\n",
      "Shape: (256, 256, 3) is now resized to: (1024, 1024, 3)\n",
      "Shape: (256, 256, 3) is now resized to: (1024, 1024, 3)\n",
      "Shape: (256, 256, 3) is now resized to: (1024, 1024, 3)\n",
      "Shape: (256, 256, 3) is now resized to: (1024, 1024, 3)\n",
      "Shape: (256, 256, 3) is now resized to: (1024, 1024, 3)\n",
      "Shape: (256, 256, 3) is now resized to: (1024, 1024, 3)\n"
     ]
    },
    {
     "name": "stdout",
     "output_type": "stream",
     "text": [
      "Shape: (256, 256, 3) is now resized to: (1024, 1024, 3)\n",
      "Shape: (256, 256, 3) is now resized to: (1024, 1024, 3)\n",
      "Shape: (256, 256, 3) is now resized to: (1024, 1024, 3)\n",
      "Shape: (256, 256, 3) is now resized to: (1024, 1024, 3)\n",
      "Shape: (256, 256, 3) is now resized to: (1024, 1024, 3)\n",
      "Shape: (256, 256, 3) is now resized to: (1024, 1024, 3)\n",
      "Shape: (256, 256, 3) is now resized to: (1024, 1024, 3)\n",
      "Shape: (256, 256, 3) is now resized to: (1024, 1024, 3)\n",
      "Shape: (256, 256, 3) is now resized to: (1024, 1024, 3)\n",
      "Shape: (256, 256, 3) is now resized to: (1024, 1024, 3)\n",
      "Shape: (256, 256, 3) is now resized to: (1024, 1024, 3)\n",
      "Shape: (256, 256, 3) is now resized to: (1024, 1024, 3)\n",
      "Shape: (256, 256, 3) is now resized to: (1024, 1024, 3)\n",
      "Shape: (256, 256, 3) is now resized to: (1024, 1024, 3)\n",
      "Shape: (256, 256, 3) is now resized to: (1024, 1024, 3)\n",
      "Shape: (256, 256, 3) is now resized to: (1024, 1024, 3)\n",
      "Shape: (256, 256, 3) is now resized to: (1024, 1024, 3)\n",
      "Shape: (256, 256, 3) is now resized to: (1024, 1024, 3)\n",
      "Shape: (256, 256, 3) is now resized to: (1024, 1024, 3)\n",
      "Shape: (256, 256, 3) is now resized to: (1024, 1024, 3)\n",
      "Shape: (256, 256, 3) is now resized to: (1024, 1024, 3)\n",
      "Shape: (256, 256, 3) is now resized to: (1024, 1024, 3)\n",
      "Shape: (256, 256, 3) is now resized to: (1024, 1024, 3)\n",
      "Shape: (256, 256, 3) is now resized to: (1024, 1024, 3)\n",
      "Shape: (256, 256, 3) is now resized to: (1024, 1024, 3)\n",
      "Shape: (256, 256, 3) is now resized to: (1024, 1024, 3)\n",
      "Shape: (256, 256, 3) is now resized to: (1024, 1024, 3)\n",
      "Shape: (256, 256, 3) is now resized to: (1024, 1024, 3)\n",
      "Shape: (256, 256, 3) is now resized to: (1024, 1024, 3)\n",
      "Shape: (256, 256, 3) is now resized to: (1024, 1024, 3)\n",
      "Shape: (256, 256, 3) is now resized to: (1024, 1024, 3)\n",
      "Shape: (256, 256, 3) is now resized to: (1024, 1024, 3)\n",
      "Shape: (256, 256, 3) is now resized to: (1024, 1024, 3)\n",
      "Shape: (256, 256, 3) is now resized to: (1024, 1024, 3)\n",
      "Shape: (256, 256, 3) is now resized to: (1024, 1024, 3)\n",
      "Shape: (256, 256, 3) is now resized to: (1024, 1024, 3)\n",
      "Shape: (256, 256, 3) is now resized to: (1024, 1024, 3)\n",
      "Shape: (256, 256, 3) is now resized to: (1024, 1024, 3)\n",
      "Shape: (256, 256, 3) is now resized to: (1024, 1024, 3)\n",
      "Shape: (256, 256, 3) is now resized to: (1024, 1024, 3)\n",
      "Shape: (256, 256, 3) is now resized to: (1024, 1024, 3)\n",
      "Shape: (256, 256, 3) is now resized to: (1024, 1024, 3)\n",
      "Shape: (256, 256, 3) is now resized to: (1024, 1024, 3)\n",
      "Shape: (256, 256, 3) is now resized to: (1024, 1024, 3)\n",
      "Shape: (256, 256, 3) is now resized to: (1024, 1024, 3)\n",
      "Shape: (256, 256, 3) is now resized to: (1024, 1024, 3)\n",
      "Shape: (256, 256, 3) is now resized to: (1024, 1024, 3)\n",
      "Shape: (256, 256, 3) is now resized to: (1024, 1024, 3)\n",
      "Shape: (256, 256, 3) is now resized to: (1024, 1024, 3)\n",
      "Shape: (256, 256, 3) is now resized to: (1024, 1024, 3)\n"
     ]
    }
   ],
   "source": [
    "resize_upsampling(old_folder, new_folder, 1024)"
   ]
  },
  {
   "cell_type": "markdown",
   "id": "bfa3d6de",
   "metadata": {},
   "source": [
    "#### Resize the syntetic image masks to 1024-1024"
   ]
  },
  {
   "cell_type": "code",
   "execution_count": 3,
   "id": "02e5aa08",
   "metadata": {},
   "outputs": [],
   "source": [
    "dir2 = '/mnt/robolab/data/Bilddaten/GAN_train_data_sydavis-ai/Evaluation/BatchSize/Wandlerhalter'\n",
    "folder = 'SegmentationMasks'"
   ]
  },
  {
   "cell_type": "code",
   "execution_count": 8,
   "id": "a4c07467",
   "metadata": {
    "scrolled": false
   },
   "outputs": [
    {
     "name": "stdout",
     "output_type": "stream",
     "text": [
      "Shape: (1080, 1920, 3) is now resized to: (1024, 1024, 3)\n",
      "Shape: (1080, 1920, 3) is now resized to: (1024, 1024, 3)\n",
      "Shape: (1080, 1920, 3) is now resized to: (1024, 1024, 3)\n",
      "Shape: (1080, 1920, 3) is now resized to: (1024, 1024, 3)\n",
      "Shape: (1080, 1920, 3) is now resized to: (1024, 1024, 3)\n",
      "Shape: (1080, 1920, 3) is now resized to: (1024, 1024, 3)\n",
      "Shape: (1080, 1920, 3) is now resized to: (1024, 1024, 3)\n",
      "Shape: (1080, 1920, 3) is now resized to: (1024, 1024, 3)\n",
      "Shape: (1080, 1920, 3) is now resized to: (1024, 1024, 3)\n",
      "Shape: (1080, 1920, 3) is now resized to: (1024, 1024, 3)\n",
      "Shape: (1080, 1920, 3) is now resized to: (1024, 1024, 3)\n",
      "Shape: (1080, 1920, 3) is now resized to: (1024, 1024, 3)\n",
      "Shape: (1080, 1920, 3) is now resized to: (1024, 1024, 3)\n",
      "Shape: (1080, 1920, 3) is now resized to: (1024, 1024, 3)\n",
      "Shape: (1080, 1920, 3) is now resized to: (1024, 1024, 3)\n",
      "Shape: (1080, 1920, 3) is now resized to: (1024, 1024, 3)\n",
      "Shape: (1080, 1920, 3) is now resized to: (1024, 1024, 3)\n",
      "Shape: (1080, 1920, 3) is now resized to: (1024, 1024, 3)\n",
      "Shape: (1080, 1920, 3) is now resized to: (1024, 1024, 3)\n",
      "Shape: (1080, 1920, 3) is now resized to: (1024, 1024, 3)\n"
     ]
    }
   ],
   "source": [
    "size = 1024\n",
    "old_folder = (os.path.join(dir2, folder))\n",
    "new_folder = (os.path.join(dir2, folder+'_'+str(size)))\n",
    "\n",
    "if not os.path.exists(new_folder):\n",
    "    try:\n",
    "        os.mkdir(new_folder)\n",
    "    except FileExistsError:\n",
    "        print('Folder already exists')\n",
    "        pass\n",
    "resize_downsampling(old_folder, new_folder, size)"
   ]
  },
  {
   "cell_type": "markdown",
   "id": "5aec9d48",
   "metadata": {},
   "source": [
    "## 2. Use the annotation Tool Labelme to create polygons in JSON format"
   ]
  },
  {
   "cell_type": "markdown",
   "id": "3476f5f0",
   "metadata": {},
   "source": [
    "We than use the JSON files with polygon data to create semantic segmentation mask - no instance segmentation needed, because we do not need to differenciate between distinct features. We use the bash and python skript in this directory to do the mask translation."
   ]
  },
  {
   "cell_type": "code",
   "execution_count": 9,
   "id": "e3e1dff8",
   "metadata": {},
   "outputs": [
    {
     "name": "stdout",
     "output_type": "stream",
     "text": [
      "augmentation.py\n",
      "data.py\n",
      "datasets\n",
      "download_dataset.sh\n",
      "FeatureConsistencyScore_2.0-BlattfederBatch1.ipynb\n",
      "FeatureConsistencyScore_2.0-BlattfederBatch2.ipynb\n",
      "FeatureConsistencyScore_2.0-BlattfederBatch4.ipynb\n",
      "FeatureConsistencyScore_2.0-EntluefterBatch1.ipynb\n",
      "FeatureConsistencyScore_2.0-EntluefterBatch2.ipynb\n",
      "FeatureConsistencyScore_2.0.ipynb\n",
      "FeatureConsistencyScore_2.1-EntluefterBatch4.ipynb\n",
      "FeatureConsistencyScore_2.1-GetriebeflanschBatch1.ipynb\n",
      "FeatureConsistencyScore_2.1-WandlerhalterBatch1.ipynb\n",
      "FeatureConsistencyScore_2.2-WandlerhalterBatch2.ipynb\n",
      "FeatureConsistencyScore_2.2-WandlerhalterBatch4.ipynb\n",
      "fid.py\n",
      "filename.txt\n",
      "imlib\n",
      "interpolation.py\n",
      "labelme2coco.py\n",
      "labelme2voc.py\n",
      "labels.txt\n",
      "LICENSE\n",
      "mask-score.ipynb\n",
      "module.py\n",
      "Notebook_Archive\n",
      "output\n",
      "path\n",
      "__pycache__\n",
      "pylib\n",
      "README.md\n",
      "resize_images_pascalvoc\n",
      "test.py\n",
      "tf2gan\n",
      "tf2lib\n",
      "train.py\n",
      "/home/molu1019/workspace/CycleGAN-Tensorflow-2\n"
     ]
    }
   ],
   "source": [
    "!ls\n",
    "!pwd"
   ]
  },
  {
   "cell_type": "markdown",
   "id": "2a3f5cd1",
   "metadata": {},
   "source": [
    "Insert the folder path as **input_dir** where the GAN transformed images with corresponding JSON label are located."
   ]
  },
  {
   "cell_type": "code",
   "execution_count": 20,
   "id": "2811973a",
   "metadata": {},
   "outputs": [
    {
     "name": "stdout",
     "output_type": "stream",
     "text": [
      "/mnt/robolab/data/Bilddaten/GAN_train_data_sydavis-ai/Evaluation/BatchSize/Wandlerhalter/Batch1_mask\n"
     ]
    }
   ],
   "source": [
    "input_dir = '/mnt/robolab/data/Bilddaten/GAN_train_data_sydavis-ai/Evaluation/BatchSize/Wandlerhalter/Batch1'\n",
    "output_dir = input_dir+'_mask'\n",
    "print(output_dir)"
   ]
  },
  {
   "cell_type": "code",
   "execution_count": 21,
   "id": "96657eb5",
   "metadata": {},
   "outputs": [
    {
     "name": "stdout",
     "output_type": "stream",
     "text": [
      "Output directory already exists: /mnt/robolab/data/Bilddaten/GAN_train_data_sydavis-ai/Evaluation/BatchSize/Wandlerhalter/Batch1_mask\r\n"
     ]
    }
   ],
   "source": [
    "!python3 labelme2voc.py $input_dir $output_dir --labels labels.txt"
   ]
  },
  {
   "cell_type": "code",
   "execution_count": 22,
   "id": "31772350",
   "metadata": {},
   "outputs": [],
   "source": [
    "masks_gan = output_dir+'/SegmentationObjectPNG'"
   ]
  },
  {
   "cell_type": "markdown",
   "id": "c8c93cbb",
   "metadata": {},
   "source": [
    "## 3. GAN Image Data\n",
    "### 3.1 Prepare Data: Create Folder with binary images"
   ]
  },
  {
   "cell_type": "code",
   "execution_count": 35,
   "id": "f48a8d1b",
   "metadata": {},
   "outputs": [
    {
     "data": {
      "image/png": "[encoded data removed]",
      "text/plain": [
       "<Figure size 432x288 with 1 Axes>"
      ]
     },
     "metadata": {
      "needs_background": "light"
     },
     "output_type": "display_data"
    }
   ],
   "source": [
    "#test GAN Data\n",
    "masks_gan = masks_gan\n",
    "masks_gan_save = output_dir+'/binarized'\n",
    "if not os.path.exists(masks_gan_save):\n",
    "    try:\n",
    "        os.mkdir(masks_gan_save)\n",
    "    except FileExistsError:\n",
    "        print('Folder already exists')\n",
    "        pass\n",
    "path = os.path.join(masks_gan, '*.png')\n",
    "files = list(glob.glob(path))\n",
    "files.sort(reverse=True)\n",
    "\n",
    "for file in files:\n",
    "    image= binarize(file, threshold=2)\n",
    "    plt.imshow(image)\n",
    "    bbox = image.getbbox()\n",
    "    plt.title(f'Bbox: {bbox} Name: {file[-10:]}')\n",
    "    image.save(os.path.join(masks_gan_save,file[-10:]))"
   ]
  },
  {
   "cell_type": "code",
   "execution_count": 37,
   "id": "8427b343",
   "metadata": {},
   "outputs": [],
   "source": [
    "def binarize(im_path, threshold=10):\n",
    "    \"\"\"Read, binarize and save images as png.\n",
    "    Args:\n",
    "        path: A string, path of images.\n",
    "    \"\"\"\n",
    "    size=1024\n",
    "    img = Image.open(im_path).convert('L')\n",
    "    img = np.array(img)\n",
    "    #print(img[210,:-50])\n",
    "    \n",
    "    # störungspixel im Bild:\n",
    "    #16 128 148  35 31 143 153 16 128 153 153 153 153 127  15   0  10 116  35\n",
    "    thresh = threshold\n",
    "    Flansch = 89\n",
    "    Abdeckung = 76\n",
    "    Mutter =174\n",
    "    Wandler = 157\n",
    "\n",
    "    #im_bool = img > thresh\n",
    "    #im_bool = np.logical_or(img == Wandler, img ==4)    \n",
    "    im_bool = img == thresh\n",
    "    \n",
    "    maxval = 255\n",
    "    im_bin = (img > thresh) * maxval\n",
    "    \n",
    "    #save array to images\n",
    "    im_save_bi = Image.fromarray(np.uint8(im_bin))\n",
    "    im_save_bool = Image.fromarray((im_bool))   \n",
    "\n",
    "    return im_save_bool"
   ]
  },
  {
   "cell_type": "markdown",
   "id": "4927a244",
   "metadata": {},
   "source": [
    "## 4. Syntetic Image Masks\n",
    "### 4.1 Prepare Data: Create Folder with binary images"
   ]
  },
  {
   "cell_type": "markdown",
   "id": "b5811e0c",
   "metadata": {},
   "source": [
    "#### Operation for reading png segmentation masks from folder path, resize, convert to greyscale and save imagesin new folder"
   ]
  },
  {
   "cell_type": "code",
   "execution_count": 38,
   "id": "e9ab9722",
   "metadata": {
    "scrolled": false
   },
   "outputs": [
    {
     "data": {
      "image/png": "[encoded data removed]",
      "text/plain": [
       "<Figure size 432x288 with 1 Axes>"
      ]
     },
     "metadata": {
      "needs_background": "light"
     },
     "output_type": "display_data"
    }
   ],
   "source": [
    "#test Syn Data\n",
    "masks_syn = '/mnt/robolab/data/Bilddaten/GAN_train_data_sydavis-ai/Evaluation/BatchSize/Wandlerhalter/SegmentationMasks_1024'\n",
    "masks_syn_save = masks_syn+'_binarized'\n",
    "if not os.path.exists(masks_syn_save):\n",
    "    try:\n",
    "        os.mkdir(masks_syn_save)\n",
    "    except FileExistsError:\n",
    "        print('Folder already exists')\n",
    "        pass\n",
    "path = os.path.join(masks_syn, '*.png')\n",
    "files = list(glob.glob(path))\n",
    "files.sort(reverse=True)\n",
    "\n",
    "for file in files:\n",
    "    image = binarize(file, threshold=157)\n",
    "    plt.imshow(image)\n",
    "    bbox = image.getbbox()\n",
    "    plt.title(f'Bbox: {bbox} Name: {file[-18:]}')\n",
    "    image.save(os.path.join(masks_syn_save,file[-18:]))"
   ]
  },
  {
   "cell_type": "code",
   "execution_count": 39,
   "id": "4d2e6950",
   "metadata": {},
   "outputs": [],
   "source": [
    "def loadpolygon():\n",
    "    return"
   ]
  },
  {
   "cell_type": "markdown",
   "id": "63d0c6cb",
   "metadata": {},
   "source": [
    "Since True is regarded as 1 and False is regarded as 0, when multiplied by 255 which is the Max value of uint8, True becomes 255 (white) and False becomes 0 (black)"
   ]
  },
  {
   "cell_type": "code",
   "execution_count": 26,
   "id": "3522ce35",
   "metadata": {},
   "outputs": [
    {
     "data": {
      "image/png": "[encoded data removed]",
      "text/plain": [
       "<Figure size 432x288 with 1 Axes>"
      ]
     },
     "metadata": {
      "needs_background": "light"
     },
     "output_type": "display_data"
    }
   ],
   "source": [
    "masks_syn_save_filled = masks_syn_save+'_convex'\n",
    "if not os.path.exists(masks_syn_save_filled):\n",
    "    try:\n",
    "        os.mkdir(masks_syn_save_filled)\n",
    "    except FileExistsError:\n",
    "        print('Folder already exists')\n",
    "        pass\n",
    "path = os.path.join(masks_syn_save, '*.png')\n",
    "files = list(glob.glob(path))\n",
    "files.sort(reverse=True)\n",
    "\n",
    "for file in files:\n",
    "    image = cv2.imread(file, cv2.IMREAD_GRAYSCALE)\n",
    "\n",
    "    #print(image.shape, image.dtype)\n",
    "\n",
    "    contour,hierarchy = cv2.findContours(image,cv2.RETR_CCOMP,cv2.CHAIN_APPROX_SIMPLE)\n",
    "\n",
    "    for cnt in contour:\n",
    "        cv2.drawContours(image,[cnt],0,255,-1)\n",
    "\n",
    "    #image = cv2.bitwise_not(image)\n",
    "    image.dtype\n",
    "    plt.imshow(image)\n",
    "    #bbox = image.getbbox()\n",
    "    plt.title(f'Bbox: {bbox} Name: {file[-18:]}')\n",
    "    cv2.imwrite(os.path.join(masks_syn_save_filled,file[-18:]),image)"
   ]
  },
  {
   "cell_type": "code",
   "execution_count": 29,
   "id": "09d014be",
   "metadata": {},
   "outputs": [],
   "source": [
    "def calculatescore(ground_truth, prediction_gan):\n",
    "    \"\"\"\n",
    "    Compute feature consitency score of two segmentation masks.\n",
    "    \n",
    "    IoU(A,B) = |A & B| / (| A U B|)\n",
    "    Dice(A,B) = 2*|A & B| / (|A| + |B|)\n",
    "\n",
    "    Args:\n",
    "        y_true: true masks, one-hot encoded.\n",
    "        y_pred: predicted masks, either softmax outputs, or one-hot encoded.\n",
    "        metric_name: metric to be computed, either 'iou' or 'dice'.\n",
    "        metric_type: one of 'standard' (default), 'soft', 'naive'.\n",
    "          In the standard version, y_pred is one-hot encoded and the mean\n",
    "          is taken only over classes that are present (in y_true or y_pred).\n",
    "          The 'soft' version of the metrics are computed without one-hot\n",
    "          encoding y_pred.\n",
    "          \n",
    "    Returns:\n",
    "        IoU of ground truth and GAN transformed syntetic Image, as a float.\n",
    "\n",
    "    Inputs are B*W*H*N tensors, with\n",
    "        B = batch size,\n",
    "        W = width,\n",
    "        H = height,\n",
    "        N = number of classes\n",
    "    \"\"\"\n",
    "    \n",
    "    # check image shape to be the same\n",
    "    assert ground_truth.shape == prediction_gan.shape, 'Input masks should be same shape, instead are {}, {}'.format(ground_truth.shape, prediction_gan.shape)\n",
    "    #print('Ground truth shape: '+str(ground_truth.shape))\n",
    "    #print('Predicted GAN image shape: '+str(prediction_gan.shape))\n",
    "    \n",
    "    intersection = np.logical_and(ground_truth, prediction_gan)\n",
    "    union = np.logical_or(ground_truth, prediction_gan)\n",
    "    mask_sum = np.sum(np.abs(union)) + np.sum(np.abs(intersection))\n",
    "    iou_score = np.sum(intersection) / np.sum(union)\n",
    "    dice_score = 2*np.sum(intersection) / np.sum(mask_sum) \n",
    "    print('IoU is: '+str(iou_score))\n",
    "    print('Dice/F1 Score is: '+str(dice_score))\n",
    "    return iou_score, dice_score"
   ]
  },
  {
   "cell_type": "markdown",
   "id": "7713902d",
   "metadata": {},
   "source": [
    "## 6. Calculate mean IoU\n",
    "Translate image mask to white RGB(255,255,255), fill convex hull, and compare masks to calculate 'Feature Consistency Score' "
   ]
  },
  {
   "cell_type": "code",
   "execution_count": 30,
   "id": "ced4a014",
   "metadata": {
    "scrolled": true
   },
   "outputs": [],
   "source": [
    "path_syn = masks_syn_save\n",
    "path_gan = masks_gan_save\n",
    "path_syn = os.path.join(path_syn, '*.png')\n",
    "path_gan = os.path.join(path_gan, '*.png')\n",
    "files_syn = list(glob.glob(path_syn))\n",
    "files_gan = list(glob.glob(path_gan))\n",
    "files_syn.sort(reverse=True)\n",
    "files_gan.sort(reverse=True)\n",
    "\n",
    "combined_list = zip(files_syn, files_gan)\n",
    "z = list(combined_list)"
   ]
  },
  {
   "cell_type": "code",
   "execution_count": 31,
   "id": "6806b2eb",
   "metadata": {},
   "outputs": [
    {
     "name": "stdout",
     "output_type": "stream",
     "text": [
      "Image name: 19897.png\n",
      "IoU is: 0.86110298114312\n",
      "Dice/F1 Score is: 0.9253684399712437\n",
      "\n",
      "\n",
      "Image name: 19863.png\n",
      "IoU is: 0.7749329936576175\n",
      "Dice/F1 Score is: 0.8731968997440375\n",
      "\n",
      "\n",
      "Image name: 19796.png\n",
      "IoU is: 0.8372087066768549\n",
      "Dice/F1 Score is: 0.9113920521215022\n",
      "\n",
      "\n",
      "Image name: 19764.png\n",
      "IoU is: 0.6913707561330538\n",
      "Dice/F1 Score is: 0.8175271490607069\n",
      "\n",
      "\n",
      "Image name: 19634.png\n",
      "IoU is: 0.6782796975014834\n",
      "Dice/F1 Score is: 0.8083035247477084\n",
      "\n",
      "\n",
      "Image name: 19601.png\n",
      "IoU is: 0.8540697275037872\n",
      "Dice/F1 Score is: 0.9212919178111575\n",
      "\n",
      "\n",
      "Image name: 19537.png\n",
      "IoU is: 0.680406275457914\n",
      "Dice/F1 Score is: 0.8098116335259483\n",
      "\n",
      "\n",
      "Image name: 19470.png\n",
      "IoU is: 0.7415503929306879\n",
      "Dice/F1 Score is: 0.8515979737833529\n",
      "\n",
      "\n",
      "Image name: 19402.png\n",
      "IoU is: 0.6950120939485046\n",
      "Dice/F1 Score is: 0.8200674159551093\n",
      "\n",
      "\n",
      "Image name: 19369.png\n",
      "IoU is: 0.7378577904416527\n",
      "Dice/F1 Score is: 0.8491578476673126\n",
      "\n",
      "\n",
      "Image name: 19335.png\n",
      "IoU is: 0.8297091722595078\n",
      "Dice/F1 Score is: 0.9069301119968699\n",
      "\n",
      "\n",
      "Image name: 19266.png\n",
      "IoU is: 0.694793230100914\n",
      "Dice/F1 Score is: 0.8199150406796746\n",
      "\n",
      "\n",
      "Image name: 19134.png\n",
      "IoU is: 0.647954007439973\n",
      "Dice/F1 Score is: 0.7863738969833778\n",
      "\n",
      "\n",
      "Image name: 19103.png\n",
      "IoU is: 0.7963944938572287\n",
      "Dice/F1 Score is: 0.8866588008151882\n",
      "\n",
      "\n",
      "Image name: 19069.png\n",
      "IoU is: 0.7378573033009783\n",
      "Dice/F1 Score is: 0.8491575250734948\n",
      "\n",
      "\n",
      "Image name: 19001.png\n",
      "IoU is: 0.7920644458801895\n",
      "Dice/F1 Score is: 0.8839687073766586\n",
      "\n",
      "\n",
      "Image name: 18967.png\n",
      "IoU is: 0.8285271013354282\n",
      "Dice/F1 Score is: 0.9062234852634451\n",
      "\n",
      "\n",
      "Image name: 18932.png\n",
      "IoU is: 0.8647879792055686\n",
      "Dice/F1 Score is: 0.9274920139435723\n",
      "\n",
      "\n",
      "Image name: 18829.png\n",
      "IoU is: 0.8072970600937093\n",
      "Dice/F1 Score is: 0.8933750603808878\n",
      "\n",
      "\n",
      "Image name: 18794.png\n",
      "IoU is: 0.8182073917295146\n",
      "Dice/F1 Score is: 0.9000154717787389\n",
      "\n",
      "\n",
      "Mean IoU is: 0.7684691800298843\n",
      "[0.86110298114312, 0.7749329936576175, 0.8372087066768549, 0.6913707561330538, 0.6782796975014834, 0.8540697275037872, 0.680406275457914, 0.7415503929306879, 0.6950120939485046, 0.7378577904416527, 0.8297091722595078, 0.694793230100914, 0.647954007439973, 0.7963944938572287, 0.7378573033009783, 0.7920644458801895, 0.8285271013354282, 0.8647879792055686, 0.8072970600937093, 0.8182073917295146]\n",
      "\n",
      "Mean Dice score is: 0.8673912484339994\n",
      "[0.9253684399712437, 0.8731968997440375, 0.9113920521215022, 0.8175271490607069, 0.8083035247477084, 0.9212919178111575, 0.8098116335259483, 0.8515979737833529, 0.8200674159551093, 0.8491578476673126, 0.9069301119968699, 0.8199150406796746, 0.7863738969833778, 0.8866588008151882, 0.8491575250734948, 0.8839687073766586, 0.9062234852634451, 0.9274920139435723, 0.8933750603808878, 0.9000154717787389]\n"
     ]
    }
   ],
   "source": [
    "iou_list = []\n",
    "dice_list = []\n",
    "for syn, gan in zip(files_syn, files_gan):\n",
    "    img_syn = np.array(Image.open(syn))\n",
    "    img_gan = np.array(Image.open(gan))\n",
    "    print(f'Image name: {syn[-9:]}')\n",
    "    iou, dice = calculatescore(img_syn, img_gan)\n",
    "    print('\\n')\n",
    "    iou_list.append(iou)\n",
    "    dice_list.append(dice)\n",
    "    \n",
    "mean_iou = np.mean(iou_list)\n",
    "mean_dice = np.mean(dice_list)\n",
    "print(f'Mean IoU is: {mean_iou}')\n",
    "print(f'{iou_list}\\n')\n",
    "print(f'Mean Dice score is: {mean_dice}')\n",
    "print(dice_list)"
   ]
  },
  {
   "cell_type": "code",
   "execution_count": 32,
   "id": "6de20a0b",
   "metadata": {},
   "outputs": [],
   "source": [
    "import sys\n",
    "base_dir = input_dir\n",
    "prefix = 'batch1'\n",
    "score_name = prefix+'_score.txt'\n",
    "path = os.path.join(base_dir,score_name)\n",
    "\n",
    "if not os.path.exists(path):\n",
    "    try:\n",
    "        os.mknod(path)\n",
    "    except FileExistsError:\n",
    "        print('Folder already exists')\n",
    "        pass \n",
    "\n",
    "original_stdout = sys.stdout             # Save a reference to the original standard output\n",
    "\n",
    "with open(path, 'w') as f:\n",
    "    sys.stdout = f                       # Change the standard output to the file we created.\n",
    "    iou_list = []\n",
    "    dice_list = []\n",
    "    print(f'Consistency Metrics for {prefix}:\\n')\n",
    "    for syn, gan in zip(files_syn, files_gan):\n",
    "        img_syn = np.array(Image.open(syn))\n",
    "        img_gan = np.array(Image.open(gan))\n",
    "        print(f'Image name: {syn[-9:]}')\n",
    "        iou, dice = calculatescore(img_syn, img_gan)\n",
    "        print('\\n')\n",
    "        iou_list.append(iou)\n",
    "        dice_list.append(dice)\n",
    "\n",
    "    mean_iou = np.mean(iou_list)\n",
    "    mean_dice = np.mean(dice_list)\n",
    "    print(f'Mean IoU is: {mean_iou}')\n",
    "    print(f'{iou_list}\\n')\n",
    "    print(f'Mean Dice score is: {mean_dice}')\n",
    "    print(dice_list)\n",
    "    sys.stdout = original_stdout         # Reset the standard output to its original value\n",
    "f.close()"
   ]
  },
  {
   "cell_type": "code",
   "execution_count": 33,
   "id": "cb912309",
   "metadata": {},
   "outputs": [],
   "source": [
    "#overlapping of 2 masks\n",
    "#Image.blend()"
   ]
  },
  {
   "cell_type": "code",
   "execution_count": null,
   "id": "08dd1be6",
   "metadata": {},
   "outputs": [],
   "source": []
  }
 ],
 "metadata": {
  "kernelspec": {
   "display_name": "Python 3.6.9 64-bit ('cygan': virtualenv)",
   "language": "python",
   "name": "python369jvsc74a57bd0987972a5af0063b4ad0c1bc948181328354b4e09dc76cc55a6609915adabc773"
  },
  "language_info": {
   "codemirror_mode": {
    "name": "ipython",
    "version": 3
   },
   "file_extension": ".py",
   "mimetype": "text/x-python",
   "name": "python",
   "nbconvert_exporter": "python",
   "pygments_lexer": "ipython3",
   "version": "3.6.9"
  }
 },
 "nbformat": 4,
 "nbformat_minor": 5
}
